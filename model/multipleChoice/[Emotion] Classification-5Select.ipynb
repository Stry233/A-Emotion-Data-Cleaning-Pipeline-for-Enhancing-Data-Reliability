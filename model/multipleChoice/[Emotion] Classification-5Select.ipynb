{
 "cells": [
  {
   "cell_type": "code",
   "execution_count": 11,
   "id": "d1615a8a-9813-4956-b4ed-33ef2ea30723",
   "metadata": {},
   "outputs": [
    {
     "data": {
      "text/plain": [
       "'roberta-base'"
      ]
     },
     "execution_count": 11,
     "metadata": {},
     "output_type": "execute_result"
    }
   ],
   "source": [
    "# global var set\n",
    "import transformers\n",
    "\n",
    "# model info, change as needed\n",
    "model_checkpoint = \"roberta-base\"\n",
    "batch_size = 16\n",
    "num_epochs = 16\n",
    "\n",
    "# fileTag = \"clean-v1\"                      # clean + no phase + combine    (pure clean)\n",
    "# fileTag = \"clean-noCombin-v1\"             # clean + no phase + no combine\n",
    "# fileTag = 'clean-phase-noCombin-v1'       # clean +   phase  + combine\n",
    "# fileTag = 'original-noCheat-noCombin-v1'  # raw   +   no Cheat case\n",
    "fileTag = 'original'                        # row   +   keep Cheat case     (pure raw) \n",
    "\n",
    "model_checkpoint"
   ]
  },
  {
   "cell_type": "markdown",
   "id": "79b9d76f-5ed6-4ab9-8c62-f6d6a8b47be4",
   "metadata": {},
   "source": [
    "# Convert dataset to suitable format\n",
    "IMPORTANT: please never run this section again if you have your dataset ready!"
   ]
  },
  {
   "cell_type": "code",
   "execution_count": 12,
   "id": "a93a9f46-6703-4535-af96-8be1b5b3407f",
   "metadata": {},
   "outputs": [],
   "source": [
    "import pandas as pd\n",
    "from pandas import DataFrame\n",
    "\n",
    "trainDatasetOriginal = pd.read_csv(f'../../data/csv_version/dev/emotion/allcharlinepairs-{fileTag}.csv')\n",
    "testDatasetOriginal = pd.read_csv(f'../../data/csv_version/test/emotion/allcharlinepairs-{fileTag}.csv')"
   ]
  },
  {
   "cell_type": "code",
   "execution_count": 13,
   "id": "7265a797-adc2-49ed-b237-19abf9e0569f",
   "metadata": {},
   "outputs": [],
   "source": [
    "trainDatasetProcessed = DataFrame({'emotion' : trainDatasetOriginal['emotion'],\n",
    "                                   'plutchik' : trainDatasetOriginal['plutchik'],\n",
    "                                  'selection0': pd.concat([trainDatasetOriginal['sentence'][:trainDatasetOriginal.shape[0]//5], trainDatasetOriginal.sample(frac = 1).reset_index()['sentence'][trainDatasetOriginal.shape[0]//5:]]), \n",
    "                                  'selection1': pd.concat([trainDatasetOriginal.sample(frac = 1).reset_index()['sentence'][:trainDatasetOriginal.shape[0]//5], \n",
    "                                                pd.concat([trainDatasetOriginal['sentence'][trainDatasetOriginal.shape[0]//5:trainDatasetOriginal.shape[0]//5*2], \n",
    "                                                trainDatasetOriginal.sample(frac = 1).reset_index()['sentence'][trainDatasetOriginal.shape[0]//5*2:]])]), \n",
    "                                  'selection2': pd.concat([trainDatasetOriginal.sample(frac = 1).reset_index()['sentence'][:trainDatasetOriginal.shape[0]//5*2], \n",
    "                                                pd.concat([trainDatasetOriginal['sentence'][trainDatasetOriginal.shape[0]//5*2:trainDatasetOriginal.shape[0]//5*3], \n",
    "                                                trainDatasetOriginal.sample(frac = 1).reset_index()['sentence'][trainDatasetOriginal.shape[0]//5*3:]])]), \n",
    "                                  'selection3': pd.concat([trainDatasetOriginal.sample(frac = 1).reset_index()['sentence'][:trainDatasetOriginal.shape[0]//5*3], \n",
    "                                                pd.concat([trainDatasetOriginal['sentence'][trainDatasetOriginal.shape[0]//5*3:trainDatasetOriginal.shape[0]//5*4], \n",
    "                                                trainDatasetOriginal.sample(frac = 1).reset_index()['sentence'][trainDatasetOriginal.shape[0]//5*4:]])]),\n",
    "                                  'selection4': pd.concat([trainDatasetOriginal.sample(frac = 1).reset_index()['sentence'][:trainDatasetOriginal.shape[0]//5*4], \n",
    "                                                           trainDatasetOriginal['sentence'][trainDatasetOriginal.shape[0]//5*4:]]),\n",
    "                                  'label': pd.Series(0 if x < trainDatasetOriginal.shape[0]//5 else (1 if x < trainDatasetOriginal.shape[0]//5*2 \n",
    "                                                                                               else (2 if x < trainDatasetOriginal.shape[0]//5*3 \n",
    "                                                                                               else (3 if x < trainDatasetOriginal.shape[0]//5*4\n",
    "                                                                                               else  4))) for x in trainDatasetOriginal.index)}).sample(frac=1).reset_index(drop=True)\n",
    "\n",
    "testDatasetProcessed = DataFrame({'emotion' : testDatasetOriginal['emotion'],\n",
    "                                   'plutchik' : testDatasetOriginal['plutchik'],\n",
    "                                  'selection0': pd.concat([testDatasetOriginal['sentence'][:testDatasetOriginal.shape[0]//5], testDatasetOriginal.sample(frac = 1).reset_index()['sentence'][testDatasetOriginal.shape[0]//5:]]), \n",
    "                                  'selection1': pd.concat([testDatasetOriginal.sample(frac = 1).reset_index()['sentence'][:testDatasetOriginal.shape[0]//5], \n",
    "                                                pd.concat([testDatasetOriginal['sentence'][testDatasetOriginal.shape[0]//5:testDatasetOriginal.shape[0]//5*2], \n",
    "                                                testDatasetOriginal.sample(frac = 1).reset_index()['sentence'][testDatasetOriginal.shape[0]//5*2:]])]), \n",
    "                                  'selection2': pd.concat([testDatasetOriginal.sample(frac = 1).reset_index()['sentence'][:testDatasetOriginal.shape[0]//5*2], \n",
    "                                                pd.concat([testDatasetOriginal['sentence'][testDatasetOriginal.shape[0]//5*2:testDatasetOriginal.shape[0]//5*3], \n",
    "                                                testDatasetOriginal.sample(frac = 1).reset_index()['sentence'][testDatasetOriginal.shape[0]//5*3:]])]), \n",
    "                                  'selection3': pd.concat([testDatasetOriginal.sample(frac = 1).reset_index()['sentence'][:testDatasetOriginal.shape[0]//5*3], \n",
    "                                                pd.concat([testDatasetOriginal['sentence'][testDatasetOriginal.shape[0]//5*3:testDatasetOriginal.shape[0]//5*4], \n",
    "                                                testDatasetOriginal.sample(frac = 1).reset_index()['sentence'][testDatasetOriginal.shape[0]//5*4:]])]),\n",
    "                                  'selection4': pd.concat([testDatasetOriginal.sample(frac = 1).reset_index()['sentence'][:testDatasetOriginal.shape[0]//5*4], \n",
    "                                                           testDatasetOriginal['sentence'][testDatasetOriginal.shape[0]//5*4:]]),\n",
    "                                  'label': pd.Series(0 if x < testDatasetOriginal.shape[0]//5 else (1 if x < testDatasetOriginal.shape[0]//5*2 \n",
    "                                                                                               else (2 if x < testDatasetOriginal.shape[0]//5*3 \n",
    "                                                                                               else (3 if x < testDatasetOriginal.shape[0]//5*4\n",
    "                                                                                               else  4))) for x in testDatasetOriginal.index)}).sample(frac=1).reset_index(drop=True)\n"
   ]
  },
  {
   "cell_type": "code",
   "execution_count": 14,
   "id": "19e3c334-b371-44ad-b6e1-7161f405b741",
   "metadata": {},
   "outputs": [
    {
     "data": {
      "text/html": [
       "<div>\n",
       "<style scoped>\n",
       "    .dataframe tbody tr th:only-of-type {\n",
       "        vertical-align: middle;\n",
       "    }\n",
       "\n",
       "    .dataframe tbody tr th {\n",
       "        vertical-align: top;\n",
       "    }\n",
       "\n",
       "    .dataframe thead th {\n",
       "        text-align: right;\n",
       "    }\n",
       "</style>\n",
       "<table border=\"1\" class=\"dataframe\">\n",
       "  <thead>\n",
       "    <tr style=\"text-align: right;\">\n",
       "      <th></th>\n",
       "      <th>emotion</th>\n",
       "      <th>plutchik</th>\n",
       "      <th>selection0</th>\n",
       "      <th>selection1</th>\n",
       "      <th>selection2</th>\n",
       "      <th>selection3</th>\n",
       "      <th>selection4</th>\n",
       "      <th>label</th>\n",
       "    </tr>\n",
       "  </thead>\n",
       "  <tbody>\n",
       "    <tr>\n",
       "      <th>0</th>\n",
       "      <td>[\"funny\"]</td>\n",
       "      <td>[\"joy:2\", \"trust:2\", \"surprise:2\", \"anticipati...</td>\n",
       "      <td>Sally liked toys alot for xmas.</td>\n",
       "      <td>But then she woke up.</td>\n",
       "      <td>Professor Smith asked for forgiveness, he'd re...</td>\n",
       "      <td>I was in so much pain.</td>\n",
       "      <td>Six of his friends had the same idea.</td>\n",
       "      <td>4</td>\n",
       "    </tr>\n",
       "    <tr>\n",
       "      <th>1</th>\n",
       "      <td>[\"upset\"]</td>\n",
       "      <td>[\"disgust:2\", \"anger:2\", \"anticipation:2\"]</td>\n",
       "      <td>Mary was walking in the park when she heard a ...</td>\n",
       "      <td>To her surprise, she found it delicious!</td>\n",
       "      <td>I really thought it turned out terrible.</td>\n",
       "      <td>My daughter jumped up and grabbed the blue one...</td>\n",
       "      <td>He had a passion to change his country for bet...</td>\n",
       "      <td>2</td>\n",
       "    </tr>\n",
       "    <tr>\n",
       "      <th>2</th>\n",
       "      <td>[\"proud\"]</td>\n",
       "      <td>[\"joy:3\", \"trust:3\"]</td>\n",
       "      <td>They were very sweet when we went to meet them.</td>\n",
       "      <td>They ended up putting on a wonderful show for ...</td>\n",
       "      <td>A red sock had been hidden in the load and dye...</td>\n",
       "      <td>Her mother loved the picture and Jennifer deci...</td>\n",
       "      <td>Kylie invited her to get coffee and the two re...</td>\n",
       "      <td>3</td>\n",
       "    </tr>\n",
       "    <tr>\n",
       "      <th>3</th>\n",
       "      <td>[\"happy\"]</td>\n",
       "      <td>[\"joy:3\", \"trust:2\"]</td>\n",
       "      <td>However, her voice cracked when she was trying...</td>\n",
       "      <td>She told me it was everyone and everything.</td>\n",
       "      <td>Gina wanted to sit in her dad's car to be alone.</td>\n",
       "      <td>When the other kids wouldn't move over I'd sta...</td>\n",
       "      <td>Eventually he starts to have favorite televisi...</td>\n",
       "      <td>1</td>\n",
       "    </tr>\n",
       "    <tr>\n",
       "      <th>4</th>\n",
       "      <td>[\"anxious\", \"ready\", \"encouraged\"]</td>\n",
       "      <td>[\"anticipation:2\"]</td>\n",
       "      <td>The chef worked his helpers very hard.</td>\n",
       "      <td>She demonstrated the Mac computer and it worke...</td>\n",
       "      <td>Davis decided that he needed to become more ac...</td>\n",
       "      <td>He thought it was a shark.</td>\n",
       "      <td>I got a little lost when it was my turn to hide.</td>\n",
       "      <td>2</td>\n",
       "    </tr>\n",
       "    <tr>\n",
       "      <th>...</th>\n",
       "      <td>...</td>\n",
       "      <td>...</td>\n",
       "      <td>...</td>\n",
       "      <td>...</td>\n",
       "      <td>...</td>\n",
       "      <td>...</td>\n",
       "      <td>...</td>\n",
       "      <td>...</td>\n",
       "    </tr>\n",
       "    <tr>\n",
       "      <th>53229</th>\n",
       "      <td>[\"none\"]</td>\n",
       "      <td>[\"none\"]</td>\n",
       "      <td>He had to have professionals go in and find it.</td>\n",
       "      <td>They had to stay at a dingy motel nearby.</td>\n",
       "      <td>They had a chance to help hold a hose spraying...</td>\n",
       "      <td>Ted was excited about opening up his new elect...</td>\n",
       "      <td>She saw a small duck swimming around.</td>\n",
       "      <td>4</td>\n",
       "    </tr>\n",
       "    <tr>\n",
       "      <th>53230</th>\n",
       "      <td>[\"happy\", \"excited\", \"accepted\"]</td>\n",
       "      <td>[\"joy:3\", \"trust:3\", \"surprise:3\", \"anticipati...</td>\n",
       "      <td>Amy called her friends to come to a surprise b...</td>\n",
       "      <td>I had no idea I was sitting on the lap of a le...</td>\n",
       "      <td>Lexi finally got the courage to try to sing.</td>\n",
       "      <td>She did not cry but she was very skeptical abo...</td>\n",
       "      <td>Luckily, his friend lived nearby.</td>\n",
       "      <td>0</td>\n",
       "    </tr>\n",
       "    <tr>\n",
       "      <th>53231</th>\n",
       "      <td>[\"nervous\"]</td>\n",
       "      <td>[\"fear:2\", \"surprise:2\", \"anticipation:2\"]</td>\n",
       "      <td>She accidentally hit the emergency brake.</td>\n",
       "      <td>When Rick woke up he couldn't see anyone.</td>\n",
       "      <td>All his roommates loved the smell.</td>\n",
       "      <td>We ended up getting married unnecessarily.</td>\n",
       "      <td>When he got to school he tried to study.</td>\n",
       "      <td>1</td>\n",
       "    </tr>\n",
       "    <tr>\n",
       "      <th>53232</th>\n",
       "      <td>[\"confused\"]</td>\n",
       "      <td>[\"fear:2\"]</td>\n",
       "      <td>When Agnes and Allen married they planned to r...</td>\n",
       "      <td>Her teacher promoted her to the next class up.</td>\n",
       "      <td>He didn't know if they were going to take his ...</td>\n",
       "      <td>The neighbor wanted privacy and had erected th...</td>\n",
       "      <td>Ryan was so happy when the neighbor called to ...</td>\n",
       "      <td>2</td>\n",
       "    </tr>\n",
       "    <tr>\n",
       "      <th>53233</th>\n",
       "      <td>[\"amused\"]</td>\n",
       "      <td>[\"joy:2\", \"surprise:2\"]</td>\n",
       "      <td>Everyone saw this and laughed.</td>\n",
       "      <td>Tom bought a large quantity of the healthy gum.</td>\n",
       "      <td>She did her best to keep up with them in pract...</td>\n",
       "      <td>I was at home one day when I heard what sounde...</td>\n",
       "      <td>He drove from Virginia to California to visit ...</td>\n",
       "      <td>0</td>\n",
       "    </tr>\n",
       "  </tbody>\n",
       "</table>\n",
       "<p>53234 rows × 8 columns</p>\n",
       "</div>"
      ],
      "text/plain": [
       "                                  emotion  \\\n",
       "0                               [\"funny\"]   \n",
       "1                               [\"upset\"]   \n",
       "2                               [\"proud\"]   \n",
       "3                               [\"happy\"]   \n",
       "4      [\"anxious\", \"ready\", \"encouraged\"]   \n",
       "...                                   ...   \n",
       "53229                            [\"none\"]   \n",
       "53230    [\"happy\", \"excited\", \"accepted\"]   \n",
       "53231                         [\"nervous\"]   \n",
       "53232                        [\"confused\"]   \n",
       "53233                          [\"amused\"]   \n",
       "\n",
       "                                                plutchik  \\\n",
       "0      [\"joy:2\", \"trust:2\", \"surprise:2\", \"anticipati...   \n",
       "1             [\"disgust:2\", \"anger:2\", \"anticipation:2\"]   \n",
       "2                                   [\"joy:3\", \"trust:3\"]   \n",
       "3                                   [\"joy:3\", \"trust:2\"]   \n",
       "4                                     [\"anticipation:2\"]   \n",
       "...                                                  ...   \n",
       "53229                                           [\"none\"]   \n",
       "53230  [\"joy:3\", \"trust:3\", \"surprise:3\", \"anticipati...   \n",
       "53231         [\"fear:2\", \"surprise:2\", \"anticipation:2\"]   \n",
       "53232                                         [\"fear:2\"]   \n",
       "53233                            [\"joy:2\", \"surprise:2\"]   \n",
       "\n",
       "                                              selection0  \\\n",
       "0                        Sally liked toys alot for xmas.   \n",
       "1      Mary was walking in the park when she heard a ...   \n",
       "2        They were very sweet when we went to meet them.   \n",
       "3      However, her voice cracked when she was trying...   \n",
       "4                 The chef worked his helpers very hard.   \n",
       "...                                                  ...   \n",
       "53229    He had to have professionals go in and find it.   \n",
       "53230  Amy called her friends to come to a surprise b...   \n",
       "53231          She accidentally hit the emergency brake.   \n",
       "53232  When Agnes and Allen married they planned to r...   \n",
       "53233                     Everyone saw this and laughed.   \n",
       "\n",
       "                                              selection1  \\\n",
       "0                                  But then she woke up.   \n",
       "1               To her surprise, she found it delicious!   \n",
       "2      They ended up putting on a wonderful show for ...   \n",
       "3            She told me it was everyone and everything.   \n",
       "4      She demonstrated the Mac computer and it worke...   \n",
       "...                                                  ...   \n",
       "53229          They had to stay at a dingy motel nearby.   \n",
       "53230  I had no idea I was sitting on the lap of a le...   \n",
       "53231          When Rick woke up he couldn't see anyone.   \n",
       "53232     Her teacher promoted her to the next class up.   \n",
       "53233    Tom bought a large quantity of the healthy gum.   \n",
       "\n",
       "                                              selection2  \\\n",
       "0      Professor Smith asked for forgiveness, he'd re...   \n",
       "1               I really thought it turned out terrible.   \n",
       "2      A red sock had been hidden in the load and dye...   \n",
       "3       Gina wanted to sit in her dad's car to be alone.   \n",
       "4      Davis decided that he needed to become more ac...   \n",
       "...                                                  ...   \n",
       "53229  They had a chance to help hold a hose spraying...   \n",
       "53230       Lexi finally got the courage to try to sing.   \n",
       "53231                 All his roommates loved the smell.   \n",
       "53232  He didn't know if they were going to take his ...   \n",
       "53233  She did her best to keep up with them in pract...   \n",
       "\n",
       "                                              selection3  \\\n",
       "0                                 I was in so much pain.   \n",
       "1      My daughter jumped up and grabbed the blue one...   \n",
       "2      Her mother loved the picture and Jennifer deci...   \n",
       "3      When the other kids wouldn't move over I'd sta...   \n",
       "4                             He thought it was a shark.   \n",
       "...                                                  ...   \n",
       "53229  Ted was excited about opening up his new elect...   \n",
       "53230  She did not cry but she was very skeptical abo...   \n",
       "53231         We ended up getting married unnecessarily.   \n",
       "53232  The neighbor wanted privacy and had erected th...   \n",
       "53233  I was at home one day when I heard what sounde...   \n",
       "\n",
       "                                              selection4  label  \n",
       "0                  Six of his friends had the same idea.      4  \n",
       "1      He had a passion to change his country for bet...      2  \n",
       "2      Kylie invited her to get coffee and the two re...      3  \n",
       "3      Eventually he starts to have favorite televisi...      1  \n",
       "4       I got a little lost when it was my turn to hide.      2  \n",
       "...                                                  ...    ...  \n",
       "53229              She saw a small duck swimming around.      4  \n",
       "53230                  Luckily, his friend lived nearby.      0  \n",
       "53231           When he got to school he tried to study.      1  \n",
       "53232  Ryan was so happy when the neighbor called to ...      2  \n",
       "53233  He drove from Virginia to California to visit ...      0  \n",
       "\n",
       "[53234 rows x 8 columns]"
      ]
     },
     "execution_count": 14,
     "metadata": {},
     "output_type": "execute_result"
    }
   ],
   "source": [
    "trainDatasetProcessed.to_csv(f'./dataset/5Select-{fileTag}-train.csv')\n",
    "trainDatasetProcessed"
   ]
  },
  {
   "cell_type": "code",
   "execution_count": 15,
   "id": "b770299d-567d-46e2-b928-8ee31a341c07",
   "metadata": {},
   "outputs": [
    {
     "data": {
      "text/html": [
       "<div>\n",
       "<style scoped>\n",
       "    .dataframe tbody tr th:only-of-type {\n",
       "        vertical-align: middle;\n",
       "    }\n",
       "\n",
       "    .dataframe tbody tr th {\n",
       "        vertical-align: top;\n",
       "    }\n",
       "\n",
       "    .dataframe thead th {\n",
       "        text-align: right;\n",
       "    }\n",
       "</style>\n",
       "<table border=\"1\" class=\"dataframe\">\n",
       "  <thead>\n",
       "    <tr style=\"text-align: right;\">\n",
       "      <th></th>\n",
       "      <th>emotion</th>\n",
       "      <th>plutchik</th>\n",
       "      <th>selection0</th>\n",
       "      <th>selection1</th>\n",
       "      <th>selection2</th>\n",
       "      <th>selection3</th>\n",
       "      <th>selection4</th>\n",
       "      <th>label</th>\n",
       "    </tr>\n",
       "  </thead>\n",
       "  <tbody>\n",
       "    <tr>\n",
       "      <th>0</th>\n",
       "      <td>[\"strange\"]</td>\n",
       "      <td>[\"surprise:3\"]</td>\n",
       "      <td>Lauren decided to go to the museum.</td>\n",
       "      <td>He is learning French.</td>\n",
       "      <td>Steven brought the couch home and set it up.</td>\n",
       "      <td>His wife was terribly embarrassed.</td>\n",
       "      <td>She really wanted to speak!</td>\n",
       "      <td>4</td>\n",
       "    </tr>\n",
       "    <tr>\n",
       "      <th>1</th>\n",
       "      <td>[\"lively\"]</td>\n",
       "      <td>[\"joy:3\", \"trust:2\", \"surprise:2\"]</td>\n",
       "      <td>Daniel is driving home from work.</td>\n",
       "      <td>Every since I could remember, I didn't feel li...</td>\n",
       "      <td>A substitute teacher came to teach her class f...</td>\n",
       "      <td>After that the horse let him ride for a long t...</td>\n",
       "      <td>It was dark and they were scary.</td>\n",
       "      <td>3</td>\n",
       "    </tr>\n",
       "    <tr>\n",
       "      <th>2</th>\n",
       "      <td>[\"relieved\", \"thankful\"]</td>\n",
       "      <td>[\"joy:3\"]</td>\n",
       "      <td>He called his mom to bring some spare keys.</td>\n",
       "      <td>The girl he liked read the letter and was quit...</td>\n",
       "      <td>His mom came and unlocked the car.</td>\n",
       "      <td>Mr Cooper found out about the affair after com...</td>\n",
       "      <td>Ben worked on a report late at night.</td>\n",
       "      <td>2</td>\n",
       "    </tr>\n",
       "    <tr>\n",
       "      <th>3</th>\n",
       "      <td>[\"satisfied\"]</td>\n",
       "      <td>[\"joy:2\", \"trust:2\", \"surprise:2\", \"anticipati...</td>\n",
       "      <td>Which made more milk come out.</td>\n",
       "      <td>The next day Sam happily took his stolen blue ...</td>\n",
       "      <td>He had never played before and spent many hour...</td>\n",
       "      <td>While their guard was down the opposition reta...</td>\n",
       "      <td>So he put frozen pizza in his oven.</td>\n",
       "      <td>2</td>\n",
       "    </tr>\n",
       "    <tr>\n",
       "      <th>4</th>\n",
       "      <td>[\"helpful\"]</td>\n",
       "      <td>[\"joy:3\", \"trust:2\", \"anticipation:2\"]</td>\n",
       "      <td>She ate it for lunch everyday for a week.</td>\n",
       "      <td>He took his job very seriously.</td>\n",
       "      <td>He lives so far out into the country that he s...</td>\n",
       "      <td>When he got to the restaurant, he stood where ...</td>\n",
       "      <td>After that day, every time I got in the pool I...</td>\n",
       "      <td>1</td>\n",
       "    </tr>\n",
       "    <tr>\n",
       "      <th>...</th>\n",
       "      <td>...</td>\n",
       "      <td>...</td>\n",
       "      <td>...</td>\n",
       "      <td>...</td>\n",
       "      <td>...</td>\n",
       "      <td>...</td>\n",
       "      <td>...</td>\n",
       "      <td>...</td>\n",
       "    </tr>\n",
       "    <tr>\n",
       "      <th>51886</th>\n",
       "      <td>[\"nervous\"]</td>\n",
       "      <td>[\"fear:2\", \"surprise:2\", \"anticipation:3\"]</td>\n",
       "      <td>Joe and Jim were avid hikers.</td>\n",
       "      <td>And drinking the coffee made her feel warm.</td>\n",
       "      <td>He went shopping for the food he would cook.</td>\n",
       "      <td>He was worried about one thing, though.</td>\n",
       "      <td>He dressed and he took the bus to work</td>\n",
       "      <td>3</td>\n",
       "    </tr>\n",
       "    <tr>\n",
       "      <th>51887</th>\n",
       "      <td>[\"clever\"]</td>\n",
       "      <td>[]</td>\n",
       "      <td>The vet gave it some medicine.</td>\n",
       "      <td>It was far too sour and Suzy never wanted coff...</td>\n",
       "      <td>She assumed it was because of the coal power p...</td>\n",
       "      <td>After much thought he laid his coat on the gro...</td>\n",
       "      <td>They switched places to see if he would notice.</td>\n",
       "      <td>3</td>\n",
       "    </tr>\n",
       "    <tr>\n",
       "      <th>51888</th>\n",
       "      <td>[\"none\"]</td>\n",
       "      <td>[\"none\"]</td>\n",
       "      <td>He sent it in the mail to the buyer.</td>\n",
       "      <td>We finished much quicker as a team than if I d...</td>\n",
       "      <td>But when she bit into it, her face twisted.</td>\n",
       "      <td>Jack was glad he could buy his own shoes.</td>\n",
       "      <td>He shuddered with anticipation at the confirma...</td>\n",
       "      <td>4</td>\n",
       "    </tr>\n",
       "    <tr>\n",
       "      <th>51889</th>\n",
       "      <td>[\"Relieved\"]</td>\n",
       "      <td>[\"joy:3\", \"trust:2\", \"fear:2\", \"surprise:3\", \"...</td>\n",
       "      <td>Jennie recently started feeling distant from T...</td>\n",
       "      <td>Then as it got dark, a sculpture carved like a...</td>\n",
       "      <td>I quickly left the dog park.</td>\n",
       "      <td>He felt lucky to have a seat next to someone h...</td>\n",
       "      <td>Mary was cooking dinner.</td>\n",
       "      <td>3</td>\n",
       "    </tr>\n",
       "    <tr>\n",
       "      <th>51890</th>\n",
       "      <td>[\"helpful\"]</td>\n",
       "      <td>[\"joy:2\", \"trust:2\"]</td>\n",
       "      <td>He was so nervous, but knew he had to ask her ...</td>\n",
       "      <td>One day, she saw a lonely kitty walking alone.</td>\n",
       "      <td>She tried several times but all of her tries l...</td>\n",
       "      <td>Kate used a lot of software to remove them.</td>\n",
       "      <td>He fell to his knees with shortness of breath ...</td>\n",
       "      <td>3</td>\n",
       "    </tr>\n",
       "  </tbody>\n",
       "</table>\n",
       "<p>51891 rows × 8 columns</p>\n",
       "</div>"
      ],
      "text/plain": [
       "                        emotion  \\\n",
       "0                   [\"strange\"]   \n",
       "1                    [\"lively\"]   \n",
       "2      [\"relieved\", \"thankful\"]   \n",
       "3                 [\"satisfied\"]   \n",
       "4                   [\"helpful\"]   \n",
       "...                         ...   \n",
       "51886               [\"nervous\"]   \n",
       "51887                [\"clever\"]   \n",
       "51888                  [\"none\"]   \n",
       "51889              [\"Relieved\"]   \n",
       "51890               [\"helpful\"]   \n",
       "\n",
       "                                                plutchik  \\\n",
       "0                                         [\"surprise:3\"]   \n",
       "1                     [\"joy:3\", \"trust:2\", \"surprise:2\"]   \n",
       "2                                              [\"joy:3\"]   \n",
       "3      [\"joy:2\", \"trust:2\", \"surprise:2\", \"anticipati...   \n",
       "4                 [\"joy:3\", \"trust:2\", \"anticipation:2\"]   \n",
       "...                                                  ...   \n",
       "51886         [\"fear:2\", \"surprise:2\", \"anticipation:3\"]   \n",
       "51887                                                 []   \n",
       "51888                                           [\"none\"]   \n",
       "51889  [\"joy:3\", \"trust:2\", \"fear:2\", \"surprise:3\", \"...   \n",
       "51890                               [\"joy:2\", \"trust:2\"]   \n",
       "\n",
       "                                              selection0  \\\n",
       "0                    Lauren decided to go to the museum.   \n",
       "1                      Daniel is driving home from work.   \n",
       "2            He called his mom to bring some spare keys.   \n",
       "3                         Which made more milk come out.   \n",
       "4              She ate it for lunch everyday for a week.   \n",
       "...                                                  ...   \n",
       "51886                      Joe and Jim were avid hikers.   \n",
       "51887                     The vet gave it some medicine.   \n",
       "51888               He sent it in the mail to the buyer.   \n",
       "51889  Jennie recently started feeling distant from T...   \n",
       "51890  He was so nervous, but knew he had to ask her ...   \n",
       "\n",
       "                                              selection1  \\\n",
       "0                                 He is learning French.   \n",
       "1      Every since I could remember, I didn't feel li...   \n",
       "2      The girl he liked read the letter and was quit...   \n",
       "3      The next day Sam happily took his stolen blue ...   \n",
       "4                        He took his job very seriously.   \n",
       "...                                                  ...   \n",
       "51886        And drinking the coffee made her feel warm.   \n",
       "51887  It was far too sour and Suzy never wanted coff...   \n",
       "51888  We finished much quicker as a team than if I d...   \n",
       "51889  Then as it got dark, a sculpture carved like a...   \n",
       "51890     One day, she saw a lonely kitty walking alone.   \n",
       "\n",
       "                                              selection2  \\\n",
       "0           Steven brought the couch home and set it up.   \n",
       "1      A substitute teacher came to teach her class f...   \n",
       "2                     His mom came and unlocked the car.   \n",
       "3      He had never played before and spent many hour...   \n",
       "4      He lives so far out into the country that he s...   \n",
       "...                                                  ...   \n",
       "51886       He went shopping for the food he would cook.   \n",
       "51887  She assumed it was because of the coal power p...   \n",
       "51888        But when she bit into it, her face twisted.   \n",
       "51889                       I quickly left the dog park.   \n",
       "51890  She tried several times but all of her tries l...   \n",
       "\n",
       "                                              selection3  \\\n",
       "0                     His wife was terribly embarrassed.   \n",
       "1      After that the horse let him ride for a long t...   \n",
       "2      Mr Cooper found out about the affair after com...   \n",
       "3      While their guard was down the opposition reta...   \n",
       "4      When he got to the restaurant, he stood where ...   \n",
       "...                                                  ...   \n",
       "51886            He was worried about one thing, though.   \n",
       "51887  After much thought he laid his coat on the gro...   \n",
       "51888          Jack was glad he could buy his own shoes.   \n",
       "51889  He felt lucky to have a seat next to someone h...   \n",
       "51890        Kate used a lot of software to remove them.   \n",
       "\n",
       "                                              selection4  label  \n",
       "0                            She really wanted to speak!      4  \n",
       "1                       It was dark and they were scary.      3  \n",
       "2                  Ben worked on a report late at night.      2  \n",
       "3                    So he put frozen pizza in his oven.      2  \n",
       "4      After that day, every time I got in the pool I...      1  \n",
       "...                                                  ...    ...  \n",
       "51886             He dressed and he took the bus to work      3  \n",
       "51887    They switched places to see if he would notice.      3  \n",
       "51888  He shuddered with anticipation at the confirma...      4  \n",
       "51889                           Mary was cooking dinner.      3  \n",
       "51890  He fell to his knees with shortness of breath ...      3  \n",
       "\n",
       "[51891 rows x 8 columns]"
      ]
     },
     "execution_count": 15,
     "metadata": {},
     "output_type": "execute_result"
    }
   ],
   "source": [
    "testDatasetProcessed.to_csv(f'./dataset/5Select-{fileTag}-test.csv')\n",
    "testDatasetProcessed"
   ]
  },
  {
   "cell_type": "markdown",
   "id": "0a7283c1-d83e-4369-b5e4-6c2e09d654ac",
   "metadata": {},
   "source": [
    "# load dataset"
   ]
  },
  {
   "cell_type": "code",
   "execution_count": 9,
   "id": "828a5092-83e6-4580-99c9-bd9ec434708f",
   "metadata": {},
   "outputs": [],
   "source": [
    "from datasets import load_dataset, load_metric"
   ]
  },
  {
   "cell_type": "code",
   "execution_count": 10,
   "id": "05151e3b-0bec-44f4-bf0a-ac58cddbf838",
   "metadata": {
    "scrolled": true
   },
   "outputs": [
    {
     "name": "stderr",
     "output_type": "stream",
     "text": [
      "Using custom data configuration default-465e8deaa03b0346\n"
     ]
    },
    {
     "name": "stdout",
     "output_type": "stream",
     "text": [
      "Downloading and preparing dataset csv/default to C:\\Users\\JAM_0\\.cache\\huggingface\\datasets\\csv\\default-465e8deaa03b0346\\0.0.0\\433e0ccc46f9880962cc2b12065189766fbb2bee57a221866138fb9203c83519...\n"
     ]
    },
    {
     "data": {
      "application/vnd.jupyter.widget-view+json": {
       "model_id": "b0bc3a72ff2047049ae9aa2adcc030b6",
       "version_major": 2,
       "version_minor": 0
      },
      "text/plain": [
       "Downloading data files:   0%|          | 0/2 [00:00<?, ?it/s]"
      ]
     },
     "metadata": {},
     "output_type": "display_data"
    },
    {
     "data": {
      "application/vnd.jupyter.widget-view+json": {
       "model_id": "ba153802cb424d05927c7c6405e55ec3",
       "version_major": 2,
       "version_minor": 0
      },
      "text/plain": [
       "Extracting data files:   0%|          | 0/2 [00:00<?, ?it/s]"
      ]
     },
     "metadata": {},
     "output_type": "display_data"
    },
    {
     "name": "stdout",
     "output_type": "stream",
     "text": [
      "Dataset csv downloaded and prepared to C:\\Users\\JAM_0\\.cache\\huggingface\\datasets\\csv\\default-465e8deaa03b0346\\0.0.0\\433e0ccc46f9880962cc2b12065189766fbb2bee57a221866138fb9203c83519. Subsequent calls will reuse this data.\n"
     ]
    },
    {
     "data": {
      "application/vnd.jupyter.widget-view+json": {
       "model_id": "60a9c605e448430abefe253757cb74d5",
       "version_major": 2,
       "version_minor": 0
      },
      "text/plain": [
       "  0%|          | 0/2 [00:00<?, ?it/s]"
      ]
     },
     "metadata": {},
     "output_type": "display_data"
    }
   ],
   "source": [
    "dataset = load_dataset('csv', data_files={'train': f'./dataset/5Select-{fileTag}-train.csv', \n",
    "                                           'test': f'./dataset/5Select-{fileTag}-test.csv'})"
   ]
  },
  {
   "cell_type": "code",
   "execution_count": 11,
   "id": "d776c270-7752-4445-ba6c-eb078f71eccc",
   "metadata": {},
   "outputs": [
    {
     "data": {
      "text/plain": [
       "DatasetDict({\n",
       "    train: Dataset({\n",
       "        features: ['Unnamed: 0', 'emotion', 'plutchik', 'selection0', 'selection1', 'selection2', 'selection3', 'selection4', 'label'],\n",
       "        num_rows: 42954\n",
       "    })\n",
       "    test: Dataset({\n",
       "        features: ['Unnamed: 0', 'emotion', 'plutchik', 'selection0', 'selection1', 'selection2', 'selection3', 'selection4', 'label'],\n",
       "        num_rows: 43195\n",
       "    })\n",
       "})"
      ]
     },
     "execution_count": 11,
     "metadata": {},
     "output_type": "execute_result"
    }
   ],
   "source": [
    "dataset"
   ]
  },
  {
   "cell_type": "code",
   "execution_count": 12,
   "id": "a1c79159-f795-4d02-b052-94f04286d53c",
   "metadata": {},
   "outputs": [
    {
     "data": {
      "text/plain": [
       "{'Unnamed: 0': 0,\n",
       " 'emotion': \"['hopeful']\",\n",
       " 'plutchik': \"{'joy': 0, 'trust': 0, 'fear': 0, 'surprise': 0, 'sadness': 0, 'disgust': 0, 'anger': 0, 'anticipation': 2}\",\n",
       " 'selection0': 'Jim tried out for the basketball team at school.',\n",
       " 'selection1': 'There, the teller split open each roll like a tube of dough.',\n",
       " 'selection2': 'Lisa will never forget this birthday party.',\n",
       " 'selection3': 'He was hoping this year to be tall enough for the coaster.',\n",
       " 'selection4': \"Ivy's party turned out to be wonderful and well-planned!\",\n",
       " 'label': 3}"
      ]
     },
     "execution_count": 12,
     "metadata": {},
     "output_type": "execute_result"
    }
   ],
   "source": [
    "dataset['test'][0]"
   ]
  },
  {
   "cell_type": "code",
   "execution_count": 13,
   "id": "1f6ad67d-b4cb-4f65-a9cb-d2d665deec1f",
   "metadata": {},
   "outputs": [],
   "source": [
    "def show_one(example):\n",
    "    print(f\"Context: {example['emotion']}\")\n",
    "    print(f\"  A - {example['selection0']}\")\n",
    "    print(f\"  B - {example['selection1']}\")\n",
    "    print(f\"  C - {example['selection2']}\")\n",
    "    print(f\"  D - {example['selection3']}\")\n",
    "    print(f\"  E - {example['selection4']}\")\n",
    "    print(f\"\\nGround truth: option {['A', 'B', 'C', 'D', 'E'][example['label']]}\")"
   ]
  },
  {
   "cell_type": "code",
   "execution_count": 14,
   "id": "15cd7cfb-748a-4fe7-8152-7debf6a65ead",
   "metadata": {},
   "outputs": [
    {
     "name": "stdout",
     "output_type": "stream",
     "text": [
      "Context: ['accomplished']\n",
      "  A - I had to carry around a lot of cash, but I enjoyed myself.\n",
      "  B - Marie decided to make chicken for dinner.\n",
      "  C - It was trying to steal my food.\n",
      "  D - He pulled in the driveway as I was finishing.\n",
      "  E - Chris got a job out of state and moved away two weeks later.\n",
      "\n",
      "Ground truth: option B\n"
     ]
    }
   ],
   "source": [
    "show_one(dataset[\"train\"][2])"
   ]
  },
  {
   "cell_type": "markdown",
   "id": "5da93346-1037-41ed-b67d-91877fa8c0ec",
   "metadata": {},
   "source": [
    "# Preprocessing Data"
   ]
  },
  {
   "cell_type": "code",
   "execution_count": 15,
   "id": "3da78c12-9aff-4beb-a006-e287bbf61023",
   "metadata": {},
   "outputs": [],
   "source": [
    "from transformers import AutoTokenizer\n",
    "    \n",
    "tokenizer = AutoTokenizer.from_pretrained(model_checkpoint, use_fast=True)"
   ]
  },
  {
   "cell_type": "code",
   "execution_count": 18,
   "id": "caffe397-a65d-478f-b966-7b910fb2edd7",
   "metadata": {},
   "outputs": [],
   "source": [
    "selectionList = [\"selection0\", \"selection1\", \"selection2\", \"selection3\", \"selection4\"]\n",
    "\n",
    "def preprocess_function(examples):\n",
    "    # Repeat each first sentence four times to go with the four possibilities of second sentences.\n",
    "    first_sentences = [[\"The following sentences contain emotions: {}\".format(context.strip(\"[\").strip(\"]\").replace('\\'', '')) ]*5 for context in examples[\"emotion\"]]\n",
    "    # Grab all second sentences possible for each context.\n",
    "    second_sentences = [[examples[selection][index] for selection in selectionList] for index in range(len(examples['selection0']))]\n",
    "\n",
    "    # Flatten everything\n",
    "    first_sentences = sum(first_sentences, [])\n",
    "    second_sentences = sum(second_sentences, [])\n",
    "    \n",
    "    # Tokenize\n",
    "    tokenized_examples = tokenizer(first_sentences, second_sentences, truncation=True)\n",
    "    # Un-flatten\n",
    "    # print(tokenized_examples.items())\n",
    "    return {k: [v[i:i+5] for i in range(0, len(v), 5)] for k, v in tokenized_examples.items()}"
   ]
  },
  {
   "cell_type": "code",
   "execution_count": 19,
   "id": "0afb4841-ab69-4b91-8859-fd249badb923",
   "metadata": {},
   "outputs": [
    {
     "name": "stdout",
     "output_type": "stream",
     "text": [
      "5 5 [23, 23, 24, 17, 18]\n"
     ]
    }
   ],
   "source": [
    "examples = dataset[\"train\"][:5]\n",
    "features = preprocess_function(examples)\n",
    "print(len(features[\"input_ids\"]), len(features[\"input_ids\"][0]), [len(x) for x in features[\"input_ids\"][0]])"
   ]
  },
  {
   "cell_type": "code",
   "execution_count": 21,
   "id": "903e2891-0e3d-4e87-b98a-727eaf36417a",
   "metadata": {},
   "outputs": [
    {
     "data": {
      "text/plain": [
       "['<s>The following sentences contain emotions: sad</s></s>He decided to sail it in the canal near his house.</s>',\n",
       " '<s>The following sentences contain emotions: sad</s></s>She made it home and disappointed her mother by forgetting things.</s>',\n",
       " '<s>The following sentences contain emotions: sad</s></s>She stood up quickly and knocked the bottle over on her table.</s>',\n",
       " '<s>The following sentences contain emotions: sad</s></s>Cliff was recently divorced.</s>',\n",
       " '<s>The following sentences contain emotions: sad</s></s>The wooden seat broke in half!</s>',\n",
       " '<s>The following sentences contain emotions: happy</s></s>He spots a woman in trouble.</s>',\n",
       " '<s>The following sentences contain emotions: happy</s></s>By the end of the evening, he turned out to be a pretty cool guy.</s>',\n",
       " '<s>The following sentences contain emotions: happy</s></s>Her husband fell in love with it and they are moving in next week.</s>',\n",
       " '<s>The following sentences contain emotions: happy</s></s>And my daughter rode on all the rides.</s>',\n",
       " '<s>The following sentences contain emotions: happy</s></s>We got in the car and drove to the office.</s>',\n",
       " '<s>The following sentences contain emotions: accomplished</s></s>I had to carry around a lot of cash, but I enjoyed myself.</s>',\n",
       " '<s>The following sentences contain emotions: accomplished</s></s>Marie decided to make chicken for dinner.</s>',\n",
       " '<s>The following sentences contain emotions: accomplished</s></s>It was trying to steal my food.</s>',\n",
       " '<s>The following sentences contain emotions: accomplished</s></s>He pulled in the driveway as I was finishing.</s>',\n",
       " '<s>The following sentences contain emotions: accomplished</s></s>Chris got a job out of state and moved away two weeks later.</s>',\n",
       " '<s>The following sentences contain emotions: hopeful, determined</s></s>Recently, while depressed, he researched wealthy alumnus.</s>',\n",
       " '<s>The following sentences contain emotions: hopeful, determined</s></s>Finally, I found the perfect ones, and promised to keep them clean.</s>',\n",
       " '<s>The following sentences contain emotions: hopeful, determined</s></s>He got tired after an hour and ran home to take a nap.</s>',\n",
       " '<s>The following sentences contain emotions: hopeful, determined</s></s>Zeke wanted to become the senator of Texas.</s>',\n",
       " '<s>The following sentences contain emotions: hopeful, determined</s></s>He caught sight of an assistant who looked just like the lead actress.</s>',\n",
       " '<s>The following sentences contain emotions: anticipation</s></s>They saw monkeys and snakes and birds.</s>',\n",
       " '<s>The following sentences contain emotions: anticipation</s></s>The game was getting close and nerve racking.</s>',\n",
       " '<s>The following sentences contain emotions: anticipation</s></s>Marsha was thrilled to have a new best friend forever.</s>',\n",
       " '<s>The following sentences contain emotions: anticipation</s></s>Tonight she came from NY and asked where Peter was.</s>',\n",
       " '<s>The following sentences contain emotions: anticipation</s></s>His wife convinced him to buy a cheap charcoal grill.</s>']"
      ]
     },
     "execution_count": 21,
     "metadata": {},
     "output_type": "execute_result"
    }
   ],
   "source": [
    "[tokenizer.decode(features[\"input_ids\"][a][i]) for a in range(5) for i in range(5) ]"
   ]
  },
  {
   "cell_type": "code",
   "execution_count": 22,
   "id": "4a286ba6-cb84-4619-b842-780124d26a4a",
   "metadata": {},
   "outputs": [
    {
     "data": {
      "application/vnd.jupyter.widget-view+json": {
       "model_id": "78be00e6a2ac42d7a11970952cca944a",
       "version_major": 2,
       "version_minor": 0
      },
      "text/plain": [
       "  0%|          | 0/43 [00:00<?, ?ba/s]"
      ]
     },
     "metadata": {},
     "output_type": "display_data"
    },
    {
     "data": {
      "application/vnd.jupyter.widget-view+json": {
       "model_id": "29230920ec43407fbeb4dc06568c48bd",
       "version_major": 2,
       "version_minor": 0
      },
      "text/plain": [
       "  0%|          | 0/44 [00:00<?, ?ba/s]"
      ]
     },
     "metadata": {},
     "output_type": "display_data"
    }
   ],
   "source": [
    "encoded_datasets = dataset.map(preprocess_function, batched=True)"
   ]
  },
  {
   "cell_type": "markdown",
   "id": "7f496be7-4673-4520-b30e-656cd5640b34",
   "metadata": {},
   "source": [
    "# Fine-tuning the model"
   ]
  },
  {
   "cell_type": "code",
   "execution_count": 23,
   "id": "7706d875-3a89-4e52-9f08-c77256b621ca",
   "metadata": {},
   "outputs": [
    {
     "name": "stderr",
     "output_type": "stream",
     "text": [
      "Some weights of the model checkpoint at roberta-base were not used when initializing RobertaForMultipleChoice: ['lm_head.decoder.weight', 'lm_head.dense.weight', 'lm_head.dense.bias', 'lm_head.bias', 'lm_head.layer_norm.bias', 'lm_head.layer_norm.weight']\n",
      "- This IS expected if you are initializing RobertaForMultipleChoice from the checkpoint of a model trained on another task or with another architecture (e.g. initializing a BertForSequenceClassification model from a BertForPreTraining model).\n",
      "- This IS NOT expected if you are initializing RobertaForMultipleChoice from the checkpoint of a model that you expect to be exactly identical (initializing a BertForSequenceClassification model from a BertForSequenceClassification model).\n",
      "Some weights of RobertaForMultipleChoice were not initialized from the model checkpoint at roberta-base and are newly initialized: ['classifier.bias', 'classifier.weight']\n",
      "You should probably TRAIN this model on a down-stream task to be able to use it for predictions and inference.\n"
     ]
    }
   ],
   "source": [
    "from transformers import AutoModelForMultipleChoice, TrainingArguments, Trainer\n",
    "\n",
    "model = AutoModelForMultipleChoice.from_pretrained(model_checkpoint)"
   ]
  },
  {
   "cell_type": "code",
   "execution_count": 24,
   "id": "2cd7be65-ebd8-43db-bcbf-a87d7e2342e4",
   "metadata": {},
   "outputs": [],
   "source": [
    "model_name = model_checkpoint.split(\"/\")[-1]\n",
    "args = TrainingArguments(\n",
    "    f\"{model_name}-finetuned-emotionCommonsense\",\n",
    "    evaluation_strategy = \"epoch\",\n",
    "    #learning_rate=5e-5, # for bert-base\n",
    "    learning_rate=5e-7, # for roberta-base\n",
    "    # learning_rate=1e-3,\n",
    "    per_device_train_batch_size=batch_size,\n",
    "    per_device_eval_batch_size=batch_size,\n",
    "    num_train_epochs=num_epochs,\n",
    "    weight_decay=0.01,\n",
    "    push_to_hub=False,\n",
    ")"
   ]
  },
  {
   "cell_type": "code",
   "execution_count": 25,
   "id": "2737e04e-19c2-407d-8ce1-06b675f208c6",
   "metadata": {},
   "outputs": [],
   "source": [
    "from dataclasses import dataclass\n",
    "from transformers.tokenization_utils_base import PreTrainedTokenizerBase, PaddingStrategy\n",
    "from typing import Optional, Union\n",
    "import torch\n",
    "\n",
    "@dataclass\n",
    "class DataCollatorForMultipleChoice:\n",
    "    \"\"\"\n",
    "    Data collator that will dynamically pad the inputs for multiple choice received.\n",
    "    \"\"\"\n",
    "\n",
    "    tokenizer: PreTrainedTokenizerBase\n",
    "    padding: Union[bool, str, PaddingStrategy] = True\n",
    "    max_length: Optional[int] = None\n",
    "    pad_to_multiple_of: Optional[int] = None\n",
    "\n",
    "    def __call__(self, features):\n",
    "        label_name = \"label\" if \"label\" in features[0].keys() else \"labels\"\n",
    "        labels = [feature.pop(label_name) for feature in features]\n",
    "        batch_size = len(features)\n",
    "        num_choices = len(features[0][\"input_ids\"])\n",
    "        flattened_features = [[{k: v[i] for k, v in feature.items()} for i in range(num_choices)] for feature in features]\n",
    "        flattened_features = sum(flattened_features, [])\n",
    "        \n",
    "        batch = self.tokenizer.pad(\n",
    "            flattened_features,\n",
    "            padding=self.padding,\n",
    "            max_length=self.max_length,\n",
    "            pad_to_multiple_of=self.pad_to_multiple_of,\n",
    "            return_tensors=\"pt\",\n",
    "        )\n",
    "        \n",
    "        # Un-flatten\n",
    "        batch = {k: v.view(batch_size, num_choices, -1) for k, v in batch.items()}\n",
    "        # Add back labels\n",
    "        batch[\"labels\"] = torch.tensor(labels, dtype=torch.int64)\n",
    "        return batch"
   ]
  },
  {
   "cell_type": "code",
   "execution_count": 26,
   "id": "03a0ec05-de5e-434f-b07c-63212e7c7f2c",
   "metadata": {},
   "outputs": [],
   "source": [
    "accepted_keys = [\"input_ids\", \"attention_mask\", \"label\"]\n",
    "features = [{k: v for k, v in encoded_datasets[\"train\"][i].items() if k in accepted_keys} for i in range(10)]\n",
    "batch = DataCollatorForMultipleChoice(tokenizer)(features)"
   ]
  },
  {
   "cell_type": "code",
   "execution_count": 27,
   "id": "45f7f26c-04bb-42ae-8627-897ced69888e",
   "metadata": {},
   "outputs": [
    {
     "data": {
      "text/plain": [
       "['<s>The following sentences contain emotions: amused</s></s>She simply laughed and called over her sister.</s><pad><pad><pad><pad><pad><pad><pad><pad>',\n",
       " \"<s>The following sentences contain emotions: amused</s></s>Her grandma didn't have cable and nothing was on.</s><pad><pad><pad><pad><pad><pad>\",\n",
       " '<s>The following sentences contain emotions: amused</s></s>He sat on the porch yelling at nobody.</s><pad><pad><pad><pad><pad><pad><pad><pad>',\n",
       " '<s>The following sentences contain emotions: amused</s></s>When the ham ran out I forgot what other food tasted like.</s><pad><pad><pad><pad>',\n",
       " '<s>The following sentences contain emotions: amused</s></s>Russell made a joke in the back of class.</s><pad><pad><pad><pad><pad><pad><pad>']"
      ]
     },
     "execution_count": 27,
     "metadata": {},
     "output_type": "execute_result"
    }
   ],
   "source": [
    "[tokenizer.decode(batch[\"input_ids\"][8][i].tolist()) for i in range(5)]"
   ]
  },
  {
   "cell_type": "code",
   "execution_count": 28,
   "id": "c4b55256-30fa-4e30-a3a4-66fe1114b941",
   "metadata": {},
   "outputs": [
    {
     "name": "stdout",
     "output_type": "stream",
     "text": [
      "Context: ['amused']\n",
      "  A - She simply laughed and called over her sister.\n",
      "  B - Her grandma didn't have cable and nothing was on.\n",
      "  C - He sat on the porch yelling at nobody.\n",
      "  D - When the ham ran out I forgot what other food tasted like.\n",
      "  E - Russell made a joke in the back of class.\n",
      "\n",
      "Ground truth: option A\n"
     ]
    }
   ],
   "source": [
    "show_one(dataset[\"train\"][8])"
   ]
  },
  {
   "cell_type": "markdown",
   "id": "eb8305d3-8dc9-4d0f-8628-f51dc356c2d2",
   "metadata": {},
   "source": [
    "# Trainer Defined"
   ]
  },
  {
   "cell_type": "code",
   "execution_count": 29,
   "id": "b707863a-bc16-43b0-b633-c7ffb4fa72e5",
   "metadata": {},
   "outputs": [],
   "source": [
    "import numpy as np\n",
    "\n",
    "valStored = []\n",
    "def compute_metrics(eval_predictions):\n",
    "    predictions, label_ids = eval_predictions\n",
    "    preds = np.argmax(predictions, axis=1)\n",
    "    valStored.append((preds != label_ids).astype(np.float32));\n",
    "    return {\"accuracy\": (preds == label_ids).astype(np.float32).mean().item()}"
   ]
  },
  {
   "cell_type": "code",
   "execution_count": 79,
   "id": "b115c1ba-323a-47d5-bb9d-55de985f13b9",
   "metadata": {},
   "outputs": [],
   "source": [
    "trainer = Trainer(\n",
    "    model,\n",
    "    args,\n",
    "    train_dataset=encoded_datasets[\"train\"],\n",
    "    eval_dataset=encoded_datasets[\"test\"],\n",
    "    tokenizer=tokenizer,\n",
    "    data_collator=DataCollatorForMultipleChoice(tokenizer),\n",
    "    compute_metrics=compute_metrics,\n",
    ")"
   ]
  },
  {
   "cell_type": "code",
   "execution_count": 80,
   "id": "df5a83ea",
   "metadata": {},
   "outputs": [
    {
     "name": "stdout",
     "output_type": "stream",
     "text": [
      "Fri Jun 17 05:08:35 2022       \n",
      "+-----------------------------------------------------------------------------+\n",
      "| NVIDIA-SMI 511.23       Driver Version: 511.23       CUDA Version: 11.6     |\n",
      "|-------------------------------+----------------------+----------------------+\n",
      "| GPU  Name            TCC/WDDM | Bus-Id        Disp.A | Volatile Uncorr. ECC |\n",
      "| Fan  Temp  Perf  Pwr:Usage/Cap|         Memory-Usage | GPU-Util  Compute M. |\n",
      "|                               |                      |               MIG M. |\n",
      "|===============================+======================+======================|\n",
      "|   0  NVIDIA GeForce ... WDDM  | 00000000:09:00.0  On |                  N/A |\n",
      "| 30%   40C    P2    68W / 350W |  13376MiB / 24576MiB |      8%      Default |\n",
      "|                               |                      |                  N/A |\n",
      "+-------------------------------+----------------------+----------------------+\n",
      "                                                                               \n",
      "+-----------------------------------------------------------------------------+\n",
      "| Processes:                                                                  |\n",
      "|  GPU   GI   CI        PID   Type   Process name                  GPU Memory |\n",
      "|        ID   ID                                                   Usage      |\n",
      "|=============================================================================|\n",
      "|    0   N/A  N/A      1256    C+G   ...ty\\Common7\\IDE\\devenv.exe    N/A      |\n",
      "|    0   N/A  N/A      1372    C+G   ...lack\\app-4.26.2\\slack.exe    N/A      |\n",
      "|    0   N/A  N/A      4012    C+G   D:\\osu!\\osu!.exe                N/A      |\n",
      "|    0   N/A  N/A      4972    C+G   ...5n1h2txyewy\\SearchApp.exe    N/A      |\n",
      "|    0   N/A  N/A      6048    C+G   ...artMenuExperienceHost.exe    N/A      |\n",
      "|    0   N/A  N/A      6088    C+G   ...\\LeagueClientUxRender.exe    N/A      |\n",
      "|    0   N/A  N/A      7976    C+G   ...n\\AcPowerNotification.exe    N/A      |\n",
      "|    0   N/A  N/A      8968    C+G   ...perience\\NVIDIA Share.exe    N/A      |\n",
      "|    0   N/A  N/A      9292    C+G   ...8bbwe\\Microsoft.Notes.exe    N/A      |\n",
      "|    0   N/A  N/A     13656    C+G   ...wAgent\\ArmourySwAgent.exe    N/A      |\n",
      "|    0   N/A  N/A     16308    C+G   ...2txyewy\\TextInputHost.exe    N/A      |\n",
      "|    0   N/A  N/A     17172    C+G   ...\\app-1.0.9004\\Discord.exe    N/A      |\n",
      "|    0   N/A  N/A     17216    C+G   ...8wekyb3d8bbwe\\GameBar.exe    N/A      |\n",
      "|    0   N/A  N/A     20024      C   ...vs\\story_cloze\\python.exe    N/A      |\n",
      "|    0   N/A  N/A     20900    C+G   ...in7x64\\steamwebhelper.exe    N/A      |\n",
      "|    0   N/A  N/A     22836    C+G   ...er_engine\\wallpaper32.exe    N/A      |\n",
      "|    0   N/A  N/A     25156    C+G   ...p-3.0.1\\GitHubDesktop.exe    N/A      |\n",
      "|    0   N/A  N/A     25772    C+G                                   N/A      |\n",
      "|    0   N/A  N/A     26752    C+G   C:\\Windows\\explorer.exe         N/A      |\n",
      "|    0   N/A  N/A     27196    C+G   ...me\\Application\\chrome.exe    N/A      |\n",
      "|    0   N/A  N/A     28552    C+G   ...tracted\\WechatBrowser.exe    N/A      |\n",
      "|    0   N/A  N/A     30244    C+G   ...bbwe\\Microsoft.Photos.exe    N/A      |\n",
      "|    0   N/A  N/A     30428    C+G   ...5n1h2txyewy\\SearchApp.exe    N/A      |\n",
      "|    0   N/A  N/A     31312    C+G   ...y\\ShellExperienceHost.exe    N/A      |\n",
      "|    0   N/A  N/A     32220    C+G   ...n64\\EpicGamesLauncher.exe    N/A      |\n",
      "|    0   N/A  N/A     35748    C+G   ...perience\\NVIDIA Share.exe    N/A      |\n",
      "+-----------------------------------------------------------------------------+\n"
     ]
    }
   ],
   "source": [
    "!nvidia-smi"
   ]
  },
  {
   "cell_type": "code",
   "execution_count": 81,
   "id": "2fe74f7d",
   "metadata": {},
   "outputs": [
    {
     "name": "stdout",
     "output_type": "stream",
     "text": [
      "Using device: cuda\n",
      "\n",
      "NVIDIA GeForce RTX 3090\n",
      "Memory Usage:\n",
      "Allocated: 0.5 GB\n",
      "Cached:    7.6 GB\n"
     ]
    }
   ],
   "source": [
    "device = torch.device('cuda' if torch.cuda.is_available() else 'cpu')\n",
    "print('Using device:', device)\n",
    "print()\n",
    "\n",
    "#Additional Info when using cuda\n",
    "if device.type == 'cuda':\n",
    "    print(torch.cuda.get_device_name(0))\n",
    "    print('Memory Usage:')\n",
    "    print('Allocated:', round(torch.cuda.memory_allocated(0)/1024**3,1), 'GB')\n",
    "    print('Cached:   ', round(torch.cuda.memory_reserved(0)/1024**3,1), 'GB')"
   ]
  },
  {
   "cell_type": "code",
   "execution_count": 82,
   "id": "2a5e3430-bbd6-484d-8a8d-9cbcdba37d6e",
   "metadata": {},
   "outputs": [
    {
     "data": {
      "text/html": [
       "\n",
       "    <div>\n",
       "      \n",
       "      <progress value='42960' max='42960' style='width:300px; height:20px; vertical-align: middle;'></progress>\n",
       "      [42960/42960 53:59, Epoch 16/16]\n",
       "    </div>\n",
       "    <table border=\"1\" class=\"dataframe\">\n",
       "  <thead>\n",
       "    <tr style=\"text-align: left;\">\n",
       "      <th>Epoch</th>\n",
       "      <th>Training Loss</th>\n",
       "      <th>Validation Loss</th>\n",
       "      <th>Accuracy</th>\n",
       "    </tr>\n",
       "  </thead>\n",
       "  <tbody>\n",
       "    <tr>\n",
       "      <td>1</td>\n",
       "      <td>0.678000</td>\n",
       "      <td>0.591944</td>\n",
       "      <td>0.716912</td>\n",
       "    </tr>\n",
       "    <tr>\n",
       "      <td>2</td>\n",
       "      <td>0.549700</td>\n",
       "      <td>0.479495</td>\n",
       "      <td>0.779905</td>\n",
       "    </tr>\n",
       "    <tr>\n",
       "      <td>3</td>\n",
       "      <td>0.482700</td>\n",
       "      <td>0.457887</td>\n",
       "      <td>0.789698</td>\n",
       "    </tr>\n",
       "    <tr>\n",
       "      <td>4</td>\n",
       "      <td>0.471500</td>\n",
       "      <td>0.438942</td>\n",
       "      <td>0.795995</td>\n",
       "    </tr>\n",
       "    <tr>\n",
       "      <td>5</td>\n",
       "      <td>0.460800</td>\n",
       "      <td>0.432413</td>\n",
       "      <td>0.799722</td>\n",
       "    </tr>\n",
       "    <tr>\n",
       "      <td>6</td>\n",
       "      <td>0.434800</td>\n",
       "      <td>0.434317</td>\n",
       "      <td>0.801181</td>\n",
       "    </tr>\n",
       "    <tr>\n",
       "      <td>7</td>\n",
       "      <td>0.444400</td>\n",
       "      <td>0.429941</td>\n",
       "      <td>0.804213</td>\n",
       "    </tr>\n",
       "    <tr>\n",
       "      <td>8</td>\n",
       "      <td>0.433400</td>\n",
       "      <td>0.425862</td>\n",
       "      <td>0.805510</td>\n",
       "    </tr>\n",
       "    <tr>\n",
       "      <td>9</td>\n",
       "      <td>0.417800</td>\n",
       "      <td>0.425906</td>\n",
       "      <td>0.806945</td>\n",
       "    </tr>\n",
       "    <tr>\n",
       "      <td>10</td>\n",
       "      <td>0.420700</td>\n",
       "      <td>0.425732</td>\n",
       "      <td>0.808265</td>\n",
       "    </tr>\n",
       "    <tr>\n",
       "      <td>11</td>\n",
       "      <td>0.412100</td>\n",
       "      <td>0.424108</td>\n",
       "      <td>0.808219</td>\n",
       "    </tr>\n",
       "    <tr>\n",
       "      <td>12</td>\n",
       "      <td>0.410800</td>\n",
       "      <td>0.425482</td>\n",
       "      <td>0.809168</td>\n",
       "    </tr>\n",
       "    <tr>\n",
       "      <td>13</td>\n",
       "      <td>0.410100</td>\n",
       "      <td>0.422600</td>\n",
       "      <td>0.809307</td>\n",
       "    </tr>\n",
       "    <tr>\n",
       "      <td>14</td>\n",
       "      <td>0.408000</td>\n",
       "      <td>0.421005</td>\n",
       "      <td>0.809561</td>\n",
       "    </tr>\n",
       "    <tr>\n",
       "      <td>15</td>\n",
       "      <td>0.402000</td>\n",
       "      <td>0.422161</td>\n",
       "      <td>0.809747</td>\n",
       "    </tr>\n",
       "    <tr>\n",
       "      <td>16</td>\n",
       "      <td>0.410000</td>\n",
       "      <td>0.422460</td>\n",
       "      <td>0.810117</td>\n",
       "    </tr>\n",
       "  </tbody>\n",
       "</table><p>"
      ],
      "text/plain": [
       "<IPython.core.display.HTML object>"
      ]
     },
     "metadata": {},
     "output_type": "display_data"
    },
    {
     "data": {
      "text/plain": [
       "TrainOutput(global_step=42960, training_loss=0.45674537289298, metrics={'train_runtime': 3240.1255, 'train_samples_per_second': 13.259, 'total_flos': 312197353314264.0, 'epoch': 16.0})"
      ]
     },
     "execution_count": 82,
     "metadata": {},
     "output_type": "execute_result"
    }
   ],
   "source": [
    "trainer.train()"
   ]
  },
  {
   "cell_type": "markdown",
   "id": "32a17948-a8f7-4450-b2b0-8a7016e91391",
   "metadata": {},
   "source": [
    "出现validation loss 上升情况大多是训练集验证集数据分布不一致，或者训练集过小，未包含验证集中所有情况，\n",
    "也就是过拟合导致的。而解决这种现象可以尝试以下几种策略：\n",
    "1. 增加训练样本增加正则项系数权重，\n",
    "2. 减小过拟合加入早停机制，ValLoss上升几个epoch直接停止\n",
    "3. 采用Focal Loss\n",
    "4. 加入Label Smoothing"
   ]
  },
  {
   "cell_type": "markdown",
   "id": "b73d6ab3-33ac-4e8e-99ee-3c3f17d71642",
   "metadata": {},
   "source": [
    "# Store Value"
   ]
  },
  {
   "cell_type": "code",
   "execution_count": 56,
   "id": "c30271fe-7ce9-43e8-9e87-de8d6ae2c2c0",
   "metadata": {},
   "outputs": [
    {
     "data": {
      "text/plain": [
       "<matplotlib.collections.QuadMesh at 0x146c6775f40>"
      ]
     },
     "execution_count": 56,
     "metadata": {},
     "output_type": "execute_result"
    },
    {
     "data": {
      "image/png": "[encoded data removed]",
      "text/plain": [
       "<Figure size 432x288 with 1 Axes>"
      ]
     },
     "metadata": {
      "needs_background": "light"
     },
     "output_type": "display_data"
    }
   ],
   "source": [
    "import matplotlib.pyplot as plt\n",
    "import numpy as np\n",
    "import matplotlib\n",
    "\n",
    "Z = np.transpose(valStored)\n",
    "\n",
    "fig, ax = plt.subplots()\n",
    "ax.pcolormesh(Z)"
   ]
  },
  {
   "cell_type": "code",
   "execution_count": 57,
   "id": "5e77d30e-e51a-45a6-9130-83a17c4d2219",
   "metadata": {},
   "outputs": [],
   "source": [
    "import pandas as pd\n",
    "\n",
    "dataLog = pd.DataFrame(trainer.state.log_history)\n",
    "dataLog.to_csv(f'./trainingMetric/[Emotion] 5Select/TI-{model_checkpoint}-{fileTag}.csv')"
   ]
  },
  {
   "cell_type": "code",
   "execution_count": 58,
   "id": "c90cfec4-96ec-46c8-a99f-3c78b989b862",
   "metadata": {},
   "outputs": [],
   "source": [
    "evaluationIterationResult = pd.DataFrame(np.transpose(valStored))\n",
    "evaluationIterationResult.to_csv(f'./trainingMetric/[Emotion] 5Select/ESI-{model_checkpoint}-{fileTag}.csv')"
   ]
  },
  {
   "cell_type": "code",
   "execution_count": null,
   "id": "6fd7f330-1477-4119-a9dc-1ebb7acb7665",
   "metadata": {},
   "outputs": [],
   "source": []
  }
 ],
 "metadata": {
  "kernelspec": {
   "display_name": "pytorchEnvWithDataSci",
   "language": "python",
   "name": "pytorchenvwithdatasci"
  },
  "language_info": {
   "codemirror_mode": {
    "name": "ipython",
    "version": 3
   },
   "file_extension": ".py",
   "mimetype": "text/x-python",
   "name": "python",
   "nbconvert_exporter": "python",
   "pygments_lexer": "ipython3",
   "version": "3.8.13"
  }
 },
 "nbformat": 4,
 "nbformat_minor": 5
}
