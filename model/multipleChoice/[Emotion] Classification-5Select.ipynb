{
 "cells": [
  {
   "cell_type": "code",
   "execution_count": 27,
   "id": "d1615a8a-9813-4956-b4ed-33ef2ea30723",
   "metadata": {},
   "outputs": [
    {
     "data": {
      "text/plain": [
       "'roberta-base'"
      ]
     },
     "execution_count": 27,
     "metadata": {},
     "output_type": "execute_result"
    }
   ],
   "source": [
    "# global var set\n",
    "import transformers\n",
    "\n",
    "# model info, change as needed\n",
    "model_checkpoint = 'roberta-base'\n",
    "batch_size = 16\n",
    "num_epochs = 16\n",
    "\n",
    "# fileTag = \"clean-v1\"                      # clean + no phase + combine    (pure clean)\n",
    "# fileTag = \"clean-phase-v1\"                # clean +   phase  + combine\n",
    "fileTag = 'clean-phase-noCombin-v1'       # clean +   phase  + no combine\n",
    "# fileTag = 'original-noCheat-noCombin-v1'  # raw   +   no Cheat case\n",
    "# fileTag = 'original'                        # row   +   keep Cheat case     (pure raw) \n",
    "\n",
    "model_checkpoint"
   ]
  },
  {
   "cell_type": "markdown",
   "id": "79b9d76f-5ed6-4ab9-8c62-f6d6a8b47be4",
   "metadata": {
    "jp-MarkdownHeadingCollapsed": true,
    "tags": []
   },
   "source": [
    "# Convert dataset to suitable format\n",
    "IMPORTANT: please never run this section again if you have your dataset ready!"
   ]
  },
  {
   "cell_type": "code",
   "execution_count": 7,
   "id": "a93a9f46-6703-4535-af96-8be1b5b3407f",
   "metadata": {},
   "outputs": [],
   "source": [
    "import pandas as pd\n",
    "from pandas import DataFrame\n",
    "\n",
    "trainDatasetOriginal = pd.read_csv(f'../../data/csv_version/dev/emotion/allcharlinepairs-{fileTag}.csv')\n",
    "testDatasetOriginal = pd.read_csv(f'../../data/csv_version/test/emotion/allcharlinepairs-{fileTag}.csv')"
   ]
  },
  {
   "cell_type": "code",
   "execution_count": 8,
   "id": "7265a797-adc2-49ed-b237-19abf9e0569f",
   "metadata": {},
   "outputs": [],
   "source": [
    "trainDatasetProcessed = DataFrame({'emotion' : trainDatasetOriginal['emotion'],\n",
    "                                   'plutchik' : trainDatasetOriginal['plutchik'],\n",
    "                                  'selection0': pd.concat([trainDatasetOriginal['sentence'][:trainDatasetOriginal.shape[0]//5], trainDatasetOriginal.sample(frac = 1).reset_index()['sentence'][trainDatasetOriginal.shape[0]//5:]]), \n",
    "                                  'selection1': pd.concat([trainDatasetOriginal.sample(frac = 1).reset_index()['sentence'][:trainDatasetOriginal.shape[0]//5], \n",
    "                                                pd.concat([trainDatasetOriginal['sentence'][trainDatasetOriginal.shape[0]//5:trainDatasetOriginal.shape[0]//5*2], \n",
    "                                                trainDatasetOriginal.sample(frac = 1).reset_index()['sentence'][trainDatasetOriginal.shape[0]//5*2:]])]), \n",
    "                                  'selection2': pd.concat([trainDatasetOriginal.sample(frac = 1).reset_index()['sentence'][:trainDatasetOriginal.shape[0]//5*2], \n",
    "                                                pd.concat([trainDatasetOriginal['sentence'][trainDatasetOriginal.shape[0]//5*2:trainDatasetOriginal.shape[0]//5*3], \n",
    "                                                trainDatasetOriginal.sample(frac = 1).reset_index()['sentence'][trainDatasetOriginal.shape[0]//5*3:]])]), \n",
    "                                  'selection3': pd.concat([trainDatasetOriginal.sample(frac = 1).reset_index()['sentence'][:trainDatasetOriginal.shape[0]//5*3], \n",
    "                                                pd.concat([trainDatasetOriginal['sentence'][trainDatasetOriginal.shape[0]//5*3:trainDatasetOriginal.shape[0]//5*4], \n",
    "                                                trainDatasetOriginal.sample(frac = 1).reset_index()['sentence'][trainDatasetOriginal.shape[0]//5*4:]])]),\n",
    "                                  'selection4': pd.concat([trainDatasetOriginal.sample(frac = 1).reset_index()['sentence'][:trainDatasetOriginal.shape[0]//5*4], \n",
    "                                                           trainDatasetOriginal['sentence'][trainDatasetOriginal.shape[0]//5*4:]]),\n",
    "                                  'label': pd.Series(0 if x < trainDatasetOriginal.shape[0]//5 else (1 if x < trainDatasetOriginal.shape[0]//5*2 \n",
    "                                                                                               else (2 if x < trainDatasetOriginal.shape[0]//5*3 \n",
    "                                                                                               else (3 if x < trainDatasetOriginal.shape[0]//5*4\n",
    "                                                                                               else  4))) for x in trainDatasetOriginal.index)}).sample(frac=1).reset_index(drop=True)\n",
    "\n",
    "testDatasetProcessed = DataFrame({'emotion' : testDatasetOriginal['emotion'],\n",
    "                                   'plutchik' : testDatasetOriginal['plutchik'],\n",
    "                                  'selection0': pd.concat([testDatasetOriginal['sentence'][:testDatasetOriginal.shape[0]//5], testDatasetOriginal.sample(frac = 1).reset_index()['sentence'][testDatasetOriginal.shape[0]//5:]]), \n",
    "                                  'selection1': pd.concat([testDatasetOriginal.sample(frac = 1).reset_index()['sentence'][:testDatasetOriginal.shape[0]//5], \n",
    "                                                pd.concat([testDatasetOriginal['sentence'][testDatasetOriginal.shape[0]//5:testDatasetOriginal.shape[0]//5*2], \n",
    "                                                testDatasetOriginal.sample(frac = 1).reset_index()['sentence'][testDatasetOriginal.shape[0]//5*2:]])]), \n",
    "                                  'selection2': pd.concat([testDatasetOriginal.sample(frac = 1).reset_index()['sentence'][:testDatasetOriginal.shape[0]//5*2], \n",
    "                                                pd.concat([testDatasetOriginal['sentence'][testDatasetOriginal.shape[0]//5*2:testDatasetOriginal.shape[0]//5*3], \n",
    "                                                testDatasetOriginal.sample(frac = 1).reset_index()['sentence'][testDatasetOriginal.shape[0]//5*3:]])]), \n",
    "                                  'selection3': pd.concat([testDatasetOriginal.sample(frac = 1).reset_index()['sentence'][:testDatasetOriginal.shape[0]//5*3], \n",
    "                                                pd.concat([testDatasetOriginal['sentence'][testDatasetOriginal.shape[0]//5*3:testDatasetOriginal.shape[0]//5*4], \n",
    "                                                testDatasetOriginal.sample(frac = 1).reset_index()['sentence'][testDatasetOriginal.shape[0]//5*4:]])]),\n",
    "                                  'selection4': pd.concat([testDatasetOriginal.sample(frac = 1).reset_index()['sentence'][:testDatasetOriginal.shape[0]//5*4], \n",
    "                                                           testDatasetOriginal['sentence'][testDatasetOriginal.shape[0]//5*4:]]),\n",
    "                                  'label': pd.Series(0 if x < testDatasetOriginal.shape[0]//5 else (1 if x < testDatasetOriginal.shape[0]//5*2 \n",
    "                                                                                               else (2 if x < testDatasetOriginal.shape[0]//5*3 \n",
    "                                                                                               else (3 if x < testDatasetOriginal.shape[0]//5*4\n",
    "                                                                                               else  4))) for x in testDatasetOriginal.index)}).sample(frac=1).reset_index(drop=True)\n"
   ]
  },
  {
   "cell_type": "code",
   "execution_count": 9,
   "id": "19e3c334-b371-44ad-b6e1-7161f405b741",
   "metadata": {},
   "outputs": [
    {
     "data": {
      "text/html": [
       "<div>\n",
       "<style scoped>\n",
       "    .dataframe tbody tr th:only-of-type {\n",
       "        vertical-align: middle;\n",
       "    }\n",
       "\n",
       "    .dataframe tbody tr th {\n",
       "        vertical-align: top;\n",
       "    }\n",
       "\n",
       "    .dataframe thead th {\n",
       "        text-align: right;\n",
       "    }\n",
       "</style>\n",
       "<table border=\"1\" class=\"dataframe\">\n",
       "  <thead>\n",
       "    <tr style=\"text-align: right;\">\n",
       "      <th></th>\n",
       "      <th>emotion</th>\n",
       "      <th>plutchik</th>\n",
       "      <th>selection0</th>\n",
       "      <th>selection1</th>\n",
       "      <th>selection2</th>\n",
       "      <th>selection3</th>\n",
       "      <th>selection4</th>\n",
       "      <th>label</th>\n",
       "    </tr>\n",
       "  </thead>\n",
       "  <tbody>\n",
       "    <tr>\n",
       "      <th>0</th>\n",
       "      <td>['okay', 'part', 'included']</td>\n",
       "      <td>{'joy': 1, 'trust': 1, 'fear': 0, 'surprise': ...</td>\n",
       "      <td>Ricky called his dad for help.</td>\n",
       "      <td>Neil was impressed by the amount of work done ...</td>\n",
       "      <td>She ran to the bathroom.</td>\n",
       "      <td>He bought the ticket through a proxy.</td>\n",
       "      <td>Andrea didn't want to be an outcast, so she at...</td>\n",
       "      <td>4</td>\n",
       "    </tr>\n",
       "    <tr>\n",
       "      <th>1</th>\n",
       "      <td>['pro', 'anxious', 'rushed']</td>\n",
       "      <td>{'joy': 1, 'trust': 1, 'fear': 1, 'surprise': ...</td>\n",
       "      <td>I stopped at a blockbuster video store.</td>\n",
       "      <td>She read that the inside of a banana peel help...</td>\n",
       "      <td>Ben's wristwatch had stopped working.</td>\n",
       "      <td>Cameron looked outside the open door of the pl...</td>\n",
       "      <td>So I sped it up.</td>\n",
       "      <td>4</td>\n",
       "    </tr>\n",
       "    <tr>\n",
       "      <th>2</th>\n",
       "      <td>['awful', 'upset', 'disappointed', 'embarrasse...</td>\n",
       "      <td>{'joy': 0, 'trust': 0, 'fear': 0, 'surprise': ...</td>\n",
       "      <td>She felt like she was an adult so she made cup...</td>\n",
       "      <td>His mom made an appointment with the barber fo...</td>\n",
       "      <td>The toughest gal around wanted to fight.</td>\n",
       "      <td>She was so uncomfortable, she had to go home.</td>\n",
       "      <td>This place had the best doughnuts in town.</td>\n",
       "      <td>3</td>\n",
       "    </tr>\n",
       "    <tr>\n",
       "      <th>3</th>\n",
       "      <td>['bored', 'impatient', 'annoyed']</td>\n",
       "      <td>{'joy': 0, 'trust': 0, 'fear': 0, 'surprise': ...</td>\n",
       "      <td>They objected to their union.</td>\n",
       "      <td>One of my daughter's friends got married a few...</td>\n",
       "      <td>The baby settled in Chad's lap at the bottom o...</td>\n",
       "      <td>I began to get tired of using the same crayons.</td>\n",
       "      <td>Ellen had a huge crush on her classmate Evan.</td>\n",
       "      <td>3</td>\n",
       "    </tr>\n",
       "    <tr>\n",
       "      <th>4</th>\n",
       "      <td>['dirty', 'upset']</td>\n",
       "      <td>{'joy': 0, 'trust': 0, 'fear': 0, 'surprise': ...</td>\n",
       "      <td>Amy went camping.</td>\n",
       "      <td>So on her next test, she failed a question, go...</td>\n",
       "      <td>Her hair was so greasy!</td>\n",
       "      <td>Bill was on boating while on holiday.</td>\n",
       "      <td>She was expecting to eat a nice dinner that ni...</td>\n",
       "      <td>2</td>\n",
       "    </tr>\n",
       "    <tr>\n",
       "      <th>...</th>\n",
       "      <td>...</td>\n",
       "      <td>...</td>\n",
       "      <td>...</td>\n",
       "      <td>...</td>\n",
       "      <td>...</td>\n",
       "      <td>...</td>\n",
       "      <td>...</td>\n",
       "      <td>...</td>\n",
       "    </tr>\n",
       "    <tr>\n",
       "      <th>11605</th>\n",
       "      <td>['satisfied', 'satisfaction', 'pride', 'achiev...</td>\n",
       "      <td>{'joy': 2, 'trust': 2, 'fear': 0, 'surprise': ...</td>\n",
       "      <td>Phil put a tape recorder in his shirt pocket a...</td>\n",
       "      <td>Boris didn't really understand the meaning beh...</td>\n",
       "      <td>After installation, Dan realized his house was...</td>\n",
       "      <td>He would buy ten tacos and eat them all under ...</td>\n",
       "      <td>She went to four different shops.</td>\n",
       "      <td>2</td>\n",
       "    </tr>\n",
       "    <tr>\n",
       "      <th>11606</th>\n",
       "      <td>['understanding', 'uncomfortable', 'empty', 'n...</td>\n",
       "      <td>{'joy': 0, 'trust': 1, 'fear': 2, 'surprise': ...</td>\n",
       "      <td>Oscar drove home in his new car.</td>\n",
       "      <td>She said she felt naked without the cross.</td>\n",
       "      <td>His mind was flooded with old memories from hi...</td>\n",
       "      <td>Much of it was unsavory and hurt his business.</td>\n",
       "      <td>When I got into the water I realized that it w...</td>\n",
       "      <td>1</td>\n",
       "    </tr>\n",
       "    <tr>\n",
       "      <th>11607</th>\n",
       "      <td>['annoyed', 'sad', 'betrayed', 'angry']</td>\n",
       "      <td>{'joy': 0, 'trust': 0, 'fear': 0, 'surprise': ...</td>\n",
       "      <td>Kay was upset since the coupons would have sav...</td>\n",
       "      <td>Her child started to cry.</td>\n",
       "      <td>When she was moving towards one, another car c...</td>\n",
       "      <td>Michelle didn't make the cheerleading squad.</td>\n",
       "      <td>Their babysitter informed them that their kid ...</td>\n",
       "      <td>1</td>\n",
       "    </tr>\n",
       "    <tr>\n",
       "      <th>11608</th>\n",
       "      <td>['hunger', 'defeat', 'hungry', 'innovative', '...</td>\n",
       "      <td>{'joy': 1, 'trust': 1, 'fear': 0, 'surprise': ...</td>\n",
       "      <td>They put them between graham crackers.</td>\n",
       "      <td>I'm sure glad our apartment complex has a pool...</td>\n",
       "      <td>Peter eventually recovered from his illness.</td>\n",
       "      <td>Their parents blamed Jane and she was very ash...</td>\n",
       "      <td>The teacher handed the class their exams to take.</td>\n",
       "      <td>0</td>\n",
       "    </tr>\n",
       "    <tr>\n",
       "      <th>11609</th>\n",
       "      <td>['intrigued', 'happy', 'contemplative']</td>\n",
       "      <td>{'joy': 3, 'trust': 1, 'fear': 0, 'surprise': ...</td>\n",
       "      <td>At practice, the other members told him he was...</td>\n",
       "      <td>Roger was okay though he only got a few bruises.</td>\n",
       "      <td>The cop gave the person a ticket.</td>\n",
       "      <td>Shawn falls in love with the dog at the store.</td>\n",
       "      <td>Marcus was collecting shells on the beach.</td>\n",
       "      <td>4</td>\n",
       "    </tr>\n",
       "  </tbody>\n",
       "</table>\n",
       "<p>11610 rows × 8 columns</p>\n",
       "</div>"
      ],
      "text/plain": [
       "                                                 emotion  \\\n",
       "0                           ['okay', 'part', 'included']   \n",
       "1                           ['pro', 'anxious', 'rushed']   \n",
       "2      ['awful', 'upset', 'disappointed', 'embarrasse...   \n",
       "3                      ['bored', 'impatient', 'annoyed']   \n",
       "4                                     ['dirty', 'upset']   \n",
       "...                                                  ...   \n",
       "11605  ['satisfied', 'satisfaction', 'pride', 'achiev...   \n",
       "11606  ['understanding', 'uncomfortable', 'empty', 'n...   \n",
       "11607            ['annoyed', 'sad', 'betrayed', 'angry']   \n",
       "11608  ['hunger', 'defeat', 'hungry', 'innovative', '...   \n",
       "11609            ['intrigued', 'happy', 'contemplative']   \n",
       "\n",
       "                                                plutchik  \\\n",
       "0      {'joy': 1, 'trust': 1, 'fear': 0, 'surprise': ...   \n",
       "1      {'joy': 1, 'trust': 1, 'fear': 1, 'surprise': ...   \n",
       "2      {'joy': 0, 'trust': 0, 'fear': 0, 'surprise': ...   \n",
       "3      {'joy': 0, 'trust': 0, 'fear': 0, 'surprise': ...   \n",
       "4      {'joy': 0, 'trust': 0, 'fear': 0, 'surprise': ...   \n",
       "...                                                  ...   \n",
       "11605  {'joy': 2, 'trust': 2, 'fear': 0, 'surprise': ...   \n",
       "11606  {'joy': 0, 'trust': 1, 'fear': 2, 'surprise': ...   \n",
       "11607  {'joy': 0, 'trust': 0, 'fear': 0, 'surprise': ...   \n",
       "11608  {'joy': 1, 'trust': 1, 'fear': 0, 'surprise': ...   \n",
       "11609  {'joy': 3, 'trust': 1, 'fear': 0, 'surprise': ...   \n",
       "\n",
       "                                              selection0  \\\n",
       "0                         Ricky called his dad for help.   \n",
       "1                I stopped at a blockbuster video store.   \n",
       "2      She felt like she was an adult so she made cup...   \n",
       "3                          They objected to their union.   \n",
       "4                                      Amy went camping.   \n",
       "...                                                  ...   \n",
       "11605  Phil put a tape recorder in his shirt pocket a...   \n",
       "11606                   Oscar drove home in his new car.   \n",
       "11607  Kay was upset since the coupons would have sav...   \n",
       "11608             They put them between graham crackers.   \n",
       "11609  At practice, the other members told him he was...   \n",
       "\n",
       "                                              selection1  \\\n",
       "0      Neil was impressed by the amount of work done ...   \n",
       "1      She read that the inside of a banana peel help...   \n",
       "2      His mom made an appointment with the barber fo...   \n",
       "3      One of my daughter's friends got married a few...   \n",
       "4      So on her next test, she failed a question, go...   \n",
       "...                                                  ...   \n",
       "11605  Boris didn't really understand the meaning beh...   \n",
       "11606         She said she felt naked without the cross.   \n",
       "11607                          Her child started to cry.   \n",
       "11608  I'm sure glad our apartment complex has a pool...   \n",
       "11609   Roger was okay though he only got a few bruises.   \n",
       "\n",
       "                                              selection2  \\\n",
       "0                               She ran to the bathroom.   \n",
       "1                  Ben's wristwatch had stopped working.   \n",
       "2               The toughest gal around wanted to fight.   \n",
       "3      The baby settled in Chad's lap at the bottom o...   \n",
       "4                                Her hair was so greasy!   \n",
       "...                                                  ...   \n",
       "11605  After installation, Dan realized his house was...   \n",
       "11606  His mind was flooded with old memories from hi...   \n",
       "11607  When she was moving towards one, another car c...   \n",
       "11608       Peter eventually recovered from his illness.   \n",
       "11609                  The cop gave the person a ticket.   \n",
       "\n",
       "                                              selection3  \\\n",
       "0                  He bought the ticket through a proxy.   \n",
       "1      Cameron looked outside the open door of the pl...   \n",
       "2          She was so uncomfortable, she had to go home.   \n",
       "3        I began to get tired of using the same crayons.   \n",
       "4                  Bill was on boating while on holiday.   \n",
       "...                                                  ...   \n",
       "11605  He would buy ten tacos and eat them all under ...   \n",
       "11606     Much of it was unsavory and hurt his business.   \n",
       "11607       Michelle didn't make the cheerleading squad.   \n",
       "11608  Their parents blamed Jane and she was very ash...   \n",
       "11609     Shawn falls in love with the dog at the store.   \n",
       "\n",
       "                                              selection4  label  \n",
       "0      Andrea didn't want to be an outcast, so she at...      4  \n",
       "1                                       So I sped it up.      4  \n",
       "2             This place had the best doughnuts in town.      3  \n",
       "3          Ellen had a huge crush on her classmate Evan.      3  \n",
       "4      She was expecting to eat a nice dinner that ni...      2  \n",
       "...                                                  ...    ...  \n",
       "11605                  She went to four different shops.      2  \n",
       "11606  When I got into the water I realized that it w...      1  \n",
       "11607  Their babysitter informed them that their kid ...      1  \n",
       "11608  The teacher handed the class their exams to take.      0  \n",
       "11609         Marcus was collecting shells on the beach.      4  \n",
       "\n",
       "[11610 rows x 8 columns]"
      ]
     },
     "execution_count": 9,
     "metadata": {},
     "output_type": "execute_result"
    }
   ],
   "source": [
    "trainDatasetProcessed.to_csv(f'./dataset/5Select-{fileTag}-train.csv')\n",
    "trainDatasetProcessed"
   ]
  },
  {
   "cell_type": "code",
   "execution_count": 10,
   "id": "b770299d-567d-46e2-b928-8ee31a341c07",
   "metadata": {},
   "outputs": [
    {
     "data": {
      "text/html": [
       "<div>\n",
       "<style scoped>\n",
       "    .dataframe tbody tr th:only-of-type {\n",
       "        vertical-align: middle;\n",
       "    }\n",
       "\n",
       "    .dataframe tbody tr th {\n",
       "        vertical-align: top;\n",
       "    }\n",
       "\n",
       "    .dataframe thead th {\n",
       "        text-align: right;\n",
       "    }\n",
       "</style>\n",
       "<table border=\"1\" class=\"dataframe\">\n",
       "  <thead>\n",
       "    <tr style=\"text-align: right;\">\n",
       "      <th></th>\n",
       "      <th>emotion</th>\n",
       "      <th>plutchik</th>\n",
       "      <th>selection0</th>\n",
       "      <th>selection1</th>\n",
       "      <th>selection2</th>\n",
       "      <th>selection3</th>\n",
       "      <th>selection4</th>\n",
       "      <th>label</th>\n",
       "    </tr>\n",
       "  </thead>\n",
       "  <tbody>\n",
       "    <tr>\n",
       "      <th>0</th>\n",
       "      <td>['upset', 'frustrated', 'unsatisfied']</td>\n",
       "      <td>{'joy': 0, 'trust': 0, 'fear': 0, 'surprise': ...</td>\n",
       "      <td>The captain gasped and they hit the underside ...</td>\n",
       "      <td>Reading and the motion of the bus soon lulled ...</td>\n",
       "      <td>I fell and hurt my back.</td>\n",
       "      <td>Then she realized she was out of butter.</td>\n",
       "      <td>They put new staples in the stapler.</td>\n",
       "      <td>3</td>\n",
       "    </tr>\n",
       "    <tr>\n",
       "      <th>1</th>\n",
       "      <td>['happy', 'excited']</td>\n",
       "      <td>{'joy': 3, 'trust': 0, 'fear': 0, 'surprise': ...</td>\n",
       "      <td>He decided on spectacular New Zealand.</td>\n",
       "      <td>Fiona was driving her car one wintry day.</td>\n",
       "      <td>James won the tickets.</td>\n",
       "      <td>Suddenly he was awakened when his tent caught ...</td>\n",
       "      <td>Then she visited the Garden of the Gods.</td>\n",
       "      <td>2</td>\n",
       "    </tr>\n",
       "    <tr>\n",
       "      <th>2</th>\n",
       "      <td>['foolish', 'annoyed', 'frustrated']</td>\n",
       "      <td>{'joy': 0, 'trust': 0, 'fear': 1, 'surprise': ...</td>\n",
       "      <td>Anthony was Charles' little cousin.</td>\n",
       "      <td>Tim wound up drinking too much.</td>\n",
       "      <td>I had cracked a head gasket.</td>\n",
       "      <td>Omar's dad six years ago just before Father's ...</td>\n",
       "      <td>After several weeks, he realized he hated grow...</td>\n",
       "      <td>2</td>\n",
       "    </tr>\n",
       "    <tr>\n",
       "      <th>3</th>\n",
       "      <td>['happy', 'hungry']</td>\n",
       "      <td>{'joy': 1, 'trust': 0, 'fear': 0, 'surprise': ...</td>\n",
       "      <td>I had a golden retriever when I was younger.</td>\n",
       "      <td>She placed the meat first, in order to cook it...</td>\n",
       "      <td>The principal told his bully to stop.</td>\n",
       "      <td>He promised her the world.</td>\n",
       "      <td>A bigger goat knocked the food right out of he...</td>\n",
       "      <td>1</td>\n",
       "    </tr>\n",
       "    <tr>\n",
       "      <th>4</th>\n",
       "      <td>['proud', 'pride', 'competent']</td>\n",
       "      <td>{'joy': 3, 'trust': 1, 'fear': 0, 'surprise': ...</td>\n",
       "      <td>At one time most major cities ran PCC trolleys.</td>\n",
       "      <td>She was very grateful and thanked me.</td>\n",
       "      <td>Her mother loved the gift and thanked Sally.</td>\n",
       "      <td>The music store was a big success.</td>\n",
       "      <td>I tried to hold my stance.</td>\n",
       "      <td>3</td>\n",
       "    </tr>\n",
       "    <tr>\n",
       "      <th>...</th>\n",
       "      <td>...</td>\n",
       "      <td>...</td>\n",
       "      <td>...</td>\n",
       "      <td>...</td>\n",
       "      <td>...</td>\n",
       "      <td>...</td>\n",
       "      <td>...</td>\n",
       "      <td>...</td>\n",
       "    </tr>\n",
       "    <tr>\n",
       "      <th>11124</th>\n",
       "      <td>['disappointed', 'annoyed', 'angry', 'aggravat...</td>\n",
       "      <td>{'joy': 0, 'trust': 0, 'fear': 0, 'surprise': ...</td>\n",
       "      <td>When he walked over to his pool, he noticed th...</td>\n",
       "      <td>I used to go to church all the time.</td>\n",
       "      <td>They got into a fight and went to sleep angry.</td>\n",
       "      <td>As a result, Dennis had to learn not to be so ...</td>\n",
       "      <td>Ben finished hanging the picture and then trea...</td>\n",
       "      <td>2</td>\n",
       "    </tr>\n",
       "    <tr>\n",
       "      <th>11125</th>\n",
       "      <td>['happy', 'glad', 'thankful', 'motherly']</td>\n",
       "      <td>{'joy': 2, 'trust': 0, 'fear': 0, 'surprise': ...</td>\n",
       "      <td>This spring they took a cruise from Boston to ...</td>\n",
       "      <td>She went through catalogs and made note of the...</td>\n",
       "      <td>She pulled out the kitchen stool and took a step.</td>\n",
       "      <td>I have a son that I go to the park to play bas...</td>\n",
       "      <td>He paid very little money for them.</td>\n",
       "      <td>3</td>\n",
       "    </tr>\n",
       "    <tr>\n",
       "      <th>11126</th>\n",
       "      <td>['sad', 'angry', 'disappointed', 'distraught']</td>\n",
       "      <td>{'joy': 0, 'trust': 0, 'fear': 0, 'surprise': ...</td>\n",
       "      <td>I had a huge crush on Robbie.</td>\n",
       "      <td>She was very pleased with the delicious pie.</td>\n",
       "      <td>John's wife told him the air freshener did not...</td>\n",
       "      <td>Night began to fall so he looked for shelter t...</td>\n",
       "      <td>The marriage didn't last and they divorced.</td>\n",
       "      <td>4</td>\n",
       "    </tr>\n",
       "    <tr>\n",
       "      <th>11127</th>\n",
       "      <td>['aggravated', 'incapable', 'annoyed']</td>\n",
       "      <td>{'joy': 0, 'trust': 1, 'fear': 0, 'surprise': ...</td>\n",
       "      <td>Now I love using text messages as a quick emai...</td>\n",
       "      <td>Coming to a large fenced in area, John let Cha...</td>\n",
       "      <td>The players rushed onto the field.</td>\n",
       "      <td>She called her best friend to see if she had r...</td>\n",
       "      <td>The plow did not move the snow to the side.</td>\n",
       "      <td>4</td>\n",
       "    </tr>\n",
       "    <tr>\n",
       "      <th>11128</th>\n",
       "      <td>['touched', 'happy', 'grateful', 'thankful', '...</td>\n",
       "      <td>{'joy': 2, 'trust': 1, 'fear': 0, 'surprise': ...</td>\n",
       "      <td>Ivy was so touched and pleased by human kindness!</td>\n",
       "      <td>John frowned, and forked over the money to his...</td>\n",
       "      <td>Jake called home to say he was working some ex...</td>\n",
       "      <td>Bob had a stuffed bear when he was young.</td>\n",
       "      <td>I picked up a handful of corn and threw it at ...</td>\n",
       "      <td>0</td>\n",
       "    </tr>\n",
       "  </tbody>\n",
       "</table>\n",
       "<p>11129 rows × 8 columns</p>\n",
       "</div>"
      ],
      "text/plain": [
       "                                                 emotion  \\\n",
       "0                 ['upset', 'frustrated', 'unsatisfied']   \n",
       "1                                   ['happy', 'excited']   \n",
       "2                   ['foolish', 'annoyed', 'frustrated']   \n",
       "3                                    ['happy', 'hungry']   \n",
       "4                        ['proud', 'pride', 'competent']   \n",
       "...                                                  ...   \n",
       "11124  ['disappointed', 'annoyed', 'angry', 'aggravat...   \n",
       "11125          ['happy', 'glad', 'thankful', 'motherly']   \n",
       "11126     ['sad', 'angry', 'disappointed', 'distraught']   \n",
       "11127             ['aggravated', 'incapable', 'annoyed']   \n",
       "11128  ['touched', 'happy', 'grateful', 'thankful', '...   \n",
       "\n",
       "                                                plutchik  \\\n",
       "0      {'joy': 0, 'trust': 0, 'fear': 0, 'surprise': ...   \n",
       "1      {'joy': 3, 'trust': 0, 'fear': 0, 'surprise': ...   \n",
       "2      {'joy': 0, 'trust': 0, 'fear': 1, 'surprise': ...   \n",
       "3      {'joy': 1, 'trust': 0, 'fear': 0, 'surprise': ...   \n",
       "4      {'joy': 3, 'trust': 1, 'fear': 0, 'surprise': ...   \n",
       "...                                                  ...   \n",
       "11124  {'joy': 0, 'trust': 0, 'fear': 0, 'surprise': ...   \n",
       "11125  {'joy': 2, 'trust': 0, 'fear': 0, 'surprise': ...   \n",
       "11126  {'joy': 0, 'trust': 0, 'fear': 0, 'surprise': ...   \n",
       "11127  {'joy': 0, 'trust': 1, 'fear': 0, 'surprise': ...   \n",
       "11128  {'joy': 2, 'trust': 1, 'fear': 0, 'surprise': ...   \n",
       "\n",
       "                                              selection0  \\\n",
       "0      The captain gasped and they hit the underside ...   \n",
       "1                 He decided on spectacular New Zealand.   \n",
       "2                    Anthony was Charles' little cousin.   \n",
       "3           I had a golden retriever when I was younger.   \n",
       "4        At one time most major cities ran PCC trolleys.   \n",
       "...                                                  ...   \n",
       "11124  When he walked over to his pool, he noticed th...   \n",
       "11125  This spring they took a cruise from Boston to ...   \n",
       "11126                      I had a huge crush on Robbie.   \n",
       "11127  Now I love using text messages as a quick emai...   \n",
       "11128  Ivy was so touched and pleased by human kindness!   \n",
       "\n",
       "                                              selection1  \\\n",
       "0      Reading and the motion of the bus soon lulled ...   \n",
       "1              Fiona was driving her car one wintry day.   \n",
       "2                        Tim wound up drinking too much.   \n",
       "3      She placed the meat first, in order to cook it...   \n",
       "4                  She was very grateful and thanked me.   \n",
       "...                                                  ...   \n",
       "11124               I used to go to church all the time.   \n",
       "11125  She went through catalogs and made note of the...   \n",
       "11126       She was very pleased with the delicious pie.   \n",
       "11127  Coming to a large fenced in area, John let Cha...   \n",
       "11128  John frowned, and forked over the money to his...   \n",
       "\n",
       "                                              selection2  \\\n",
       "0                               I fell and hurt my back.   \n",
       "1                                 James won the tickets.   \n",
       "2                           I had cracked a head gasket.   \n",
       "3                  The principal told his bully to stop.   \n",
       "4           Her mother loved the gift and thanked Sally.   \n",
       "...                                                  ...   \n",
       "11124     They got into a fight and went to sleep angry.   \n",
       "11125  She pulled out the kitchen stool and took a step.   \n",
       "11126  John's wife told him the air freshener did not...   \n",
       "11127                 The players rushed onto the field.   \n",
       "11128  Jake called home to say he was working some ex...   \n",
       "\n",
       "                                              selection3  \\\n",
       "0               Then she realized she was out of butter.   \n",
       "1      Suddenly he was awakened when his tent caught ...   \n",
       "2      Omar's dad six years ago just before Father's ...   \n",
       "3                             He promised her the world.   \n",
       "4                     The music store was a big success.   \n",
       "...                                                  ...   \n",
       "11124  As a result, Dennis had to learn not to be so ...   \n",
       "11125  I have a son that I go to the park to play bas...   \n",
       "11126  Night began to fall so he looked for shelter t...   \n",
       "11127  She called her best friend to see if she had r...   \n",
       "11128          Bob had a stuffed bear when he was young.   \n",
       "\n",
       "                                              selection4  label  \n",
       "0                   They put new staples in the stapler.      3  \n",
       "1               Then she visited the Garden of the Gods.      2  \n",
       "2      After several weeks, he realized he hated grow...      2  \n",
       "3      A bigger goat knocked the food right out of he...      1  \n",
       "4                             I tried to hold my stance.      3  \n",
       "...                                                  ...    ...  \n",
       "11124  Ben finished hanging the picture and then trea...      2  \n",
       "11125                He paid very little money for them.      3  \n",
       "11126        The marriage didn't last and they divorced.      4  \n",
       "11127        The plow did not move the snow to the side.      4  \n",
       "11128  I picked up a handful of corn and threw it at ...      0  \n",
       "\n",
       "[11129 rows x 8 columns]"
      ]
     },
     "execution_count": 10,
     "metadata": {},
     "output_type": "execute_result"
    }
   ],
   "source": [
    "testDatasetProcessed.to_csv(f'./dataset/5Select-{fileTag}-test.csv')\n",
    "testDatasetProcessed"
   ]
  },
  {
   "cell_type": "markdown",
   "id": "0a7283c1-d83e-4369-b5e4-6c2e09d654ac",
   "metadata": {},
   "source": [
    "# load dataset"
   ]
  },
  {
   "cell_type": "code",
   "execution_count": 28,
   "id": "828a5092-83e6-4580-99c9-bd9ec434708f",
   "metadata": {},
   "outputs": [],
   "source": [
    "from datasets import load_dataset, load_metric"
   ]
  },
  {
   "cell_type": "code",
   "execution_count": 29,
   "id": "05151e3b-0bec-44f4-bf0a-ac58cddbf838",
   "metadata": {
    "scrolled": true
   },
   "outputs": [
    {
     "name": "stderr",
     "output_type": "stream",
     "text": [
      "Using custom data configuration default-ca82b610577e1152\n",
      "Reusing dataset csv (C:\\Users\\evans\\.cache\\huggingface\\datasets\\csv\\default-ca82b610577e1152\\0.0.0\\2dc6629a9ff6b5697d82c25b73731dd440507a69cbce8b425db50b751e8fcfd0)\n"
     ]
    }
   ],
   "source": [
    "dataset = load_dataset('csv', data_files={'train': f'./dataset/5Select-{fileTag}-train.csv', \n",
    "                                           'test': f'./dataset/5Select-{fileTag}-test.csv'})"
   ]
  },
  {
   "cell_type": "code",
   "execution_count": 30,
   "id": "d776c270-7752-4445-ba6c-eb078f71eccc",
   "metadata": {},
   "outputs": [
    {
     "data": {
      "text/plain": [
       "DatasetDict({\n",
       "    train: Dataset({\n",
       "        features: ['Unnamed: 0', 'emotion', 'plutchik', 'selection0', 'selection1', 'selection2', 'selection3', 'selection4', 'label'],\n",
       "        num_rows: 42954\n",
       "    })\n",
       "    test: Dataset({\n",
       "        features: ['Unnamed: 0', 'emotion', 'plutchik', 'selection0', 'selection1', 'selection2', 'selection3', 'selection4', 'label'],\n",
       "        num_rows: 43195\n",
       "    })\n",
       "})"
      ]
     },
     "execution_count": 30,
     "metadata": {},
     "output_type": "execute_result"
    }
   ],
   "source": [
    "dataset"
   ]
  },
  {
   "cell_type": "code",
   "execution_count": 31,
   "id": "a1c79159-f795-4d02-b052-94f04286d53c",
   "metadata": {},
   "outputs": [
    {
     "data": {
      "text/plain": [
       "{'Unnamed: 0': 0,\n",
       " 'emotion': \"['happy', 'excitement', 'dream']\",\n",
       " 'label': 2,\n",
       " 'plutchik': \"{'joy': 3, 'trust': 3, 'fear': 0, 'surprise': 3, 'sadness': 0, 'disgust': 0, 'anger': 0, 'anticipation': 3}\",\n",
       " 'selection0': \"Her mom went on a business trip, and Julia's aunt stayed to watch her.\",\n",
       " 'selection1': \"Adam tells her it's been fun but it.\",\n",
       " 'selection2': 'Jim and Janie brought a new baby home one day.',\n",
       " 'selection3': 'Will was taking a stroll in his favorite park.',\n",
       " 'selection4': 'Her friends encouraged her to enter a baking competition.'}"
      ]
     },
     "execution_count": 31,
     "metadata": {},
     "output_type": "execute_result"
    }
   ],
   "source": [
    "dataset['test'][0]"
   ]
  },
  {
   "cell_type": "code",
   "execution_count": 32,
   "id": "1f6ad67d-b4cb-4f65-a9cb-d2d665deec1f",
   "metadata": {},
   "outputs": [],
   "source": [
    "def show_one(example):\n",
    "    print(f\"Context: {example['emotion']}\")\n",
    "    print(f\"  A - {example['selection0']}\")\n",
    "    print(f\"  B - {example['selection1']}\")\n",
    "    print(f\"  C - {example['selection2']}\")\n",
    "    print(f\"  D - {example['selection3']}\")\n",
    "    print(f\"  E - {example['selection4']}\")\n",
    "    print(f\"\\nGround truth: option {['A', 'B', 'C', 'D', 'E'][example['label']]}\")"
   ]
  },
  {
   "cell_type": "code",
   "execution_count": 33,
   "id": "15cd7cfb-748a-4fe7-8152-7debf6a65ead",
   "metadata": {},
   "outputs": [
    {
     "name": "stdout",
     "output_type": "stream",
     "text": [
      "Context: ['warm']\n",
      "  A - May and Nic had been married for ten years.\n",
      "  B - The scarf kept her warm.\n",
      "  C - He feels much better.\n",
      "  D - He laughed at her and asked when dinner would be ready.\n",
      "  E - Tina wanted to be sure she had the perfect wedding dress.\n",
      "\n",
      "Ground truth: option B\n"
     ]
    }
   ],
   "source": [
    "show_one(dataset[\"train\"][2])"
   ]
  },
  {
   "cell_type": "markdown",
   "id": "5da93346-1037-41ed-b67d-91877fa8c0ec",
   "metadata": {},
   "source": [
    "# Preprocessing Data"
   ]
  },
  {
   "cell_type": "code",
   "execution_count": 34,
   "id": "3da78c12-9aff-4beb-a006-e287bbf61023",
   "metadata": {},
   "outputs": [],
   "source": [
    "# from transformers import AutoTokenizer\n",
    "# tokenizer = AutoTokenizer.from_pretrained(model_checkpoint, use_fast=True)\n",
    "from transformers import DistilBertTokenizer, DistilBertForMultipleChoice\n",
    "tokenizer = DistilBertTokenizer.from_pretrained(\"distilbert-base-cased\")"
   ]
  },
  {
   "cell_type": "code",
   "execution_count": 35,
   "id": "caffe397-a65d-478f-b966-7b910fb2edd7",
   "metadata": {},
   "outputs": [],
   "source": [
    "selectionList = [\"selection0\", \"selection1\", \"selection2\", \"selection3\", \"selection4\"]\n",
    "\n",
    "def preprocess_function(examples):\n",
    "    # Repeat each first sentence four times to go with the four possibilities of second sentences.\n",
    "    first_sentences = [[\"The following sentences contain emotions: {}\".format(context.strip(\"[\").strip(\"]\").replace('\\'', '')) ]*5 for context in examples[\"emotion\"]]\n",
    "    # Grab all second sentences possible for each context.\n",
    "    second_sentences = [[examples[selection][index] for selection in selectionList] for index in range(len(examples['selection0']))]\n",
    "\n",
    "    # Flatten everything\n",
    "    first_sentences = sum(first_sentences, [])\n",
    "    second_sentences = sum(second_sentences, [])\n",
    "    \n",
    "    # Tokenize\n",
    "    tokenized_examples = tokenizer(first_sentences, second_sentences, truncation=True)\n",
    "    # Un-flatten\n",
    "    # print(tokenized_examples.items())\n",
    "    return {k: [v[i:i+5] for i in range(0, len(v), 5)] for k, v in tokenized_examples.items()}"
   ]
  },
  {
   "cell_type": "code",
   "execution_count": 36,
   "id": "0afb4841-ab69-4b91-8859-fd249badb923",
   "metadata": {},
   "outputs": [
    {
     "name": "stdout",
     "output_type": "stream",
     "text": [
      "5 5 [19, 21, 22, 22, 25]\n"
     ]
    }
   ],
   "source": [
    "examples = dataset[\"train\"][:5]\n",
    "features = preprocess_function(examples)\n",
    "print(len(features[\"input_ids\"]), len(features[\"input_ids\"][0]), [len(x) for x in features[\"input_ids\"][0]])"
   ]
  },
  {
   "cell_type": "code",
   "execution_count": 37,
   "id": "903e2891-0e3d-4e87-b98a-727eaf36417a",
   "metadata": {},
   "outputs": [
    {
     "data": {
      "text/plain": [
       "['[CLS] The following sentences contain emotions : mutually [SEP] He really liked a girl at the dance. [SEP]',\n",
       " '[CLS] The following sentences contain emotions : mutually [SEP] His friend suggested he try adopting a cat or two. [SEP]',\n",
       " '[CLS] The following sentences contain emotions : mutually [SEP] Gina and Tami talked about the boys all night long. [SEP]',\n",
       " '[CLS] The following sentences contain emotions : mutually [SEP] We got bit so much we had to go home early. [SEP]',\n",
       " \"[CLS] The following sentences contain emotions : mutually [SEP] Sandy's mom felt her forehead and said she wasn't sick. [SEP]\",\n",
       " '[CLS] The following sentences contain emotions : disappointed [SEP] A few months later I was running well over five miles at once! [SEP]',\n",
       " '[CLS] The following sentences contain emotions : disappointed [SEP] She hated books, but Jenny decided to graduate for her parents. [SEP]',\n",
       " '[CLS] The following sentences contain emotions : disappointed [SEP] When she went to taste it, it tasted terrible. [SEP]',\n",
       " '[CLS] The following sentences contain emotions : disappointed [SEP] Conan loved his new job and show. [SEP]',\n",
       " \"[CLS] The following sentences contain emotions : disappointed [SEP] Cassie's car stopped working. [SEP]\",\n",
       " '[CLS] The following sentences contain emotions : warm [SEP] May and Nic had been married for ten years. [SEP]',\n",
       " '[CLS] The following sentences contain emotions : warm [SEP] The scarf kept her warm. [SEP]',\n",
       " '[CLS] The following sentences contain emotions : warm [SEP] He feels much better. [SEP]',\n",
       " '[CLS] The following sentences contain emotions : warm [SEP] He laughed at her and asked when dinner would be ready. [SEP]',\n",
       " '[CLS] The following sentences contain emotions : warm [SEP] Tina wanted to be sure she had the perfect wedding dress. [SEP]',\n",
       " '[CLS] The following sentences contain emotions : conflicted [SEP] Her mama says she needs an adult to swim with her. [SEP]',\n",
       " '[CLS] The following sentences contain emotions : conflicted [SEP] He wanted to get a big fur coat. [SEP]',\n",
       " '[CLS] The following sentences contain emotions : conflicted [SEP] First he found a recipe for it on the internet. [SEP]',\n",
       " '[CLS] The following sentences contain emotions : conflicted [SEP] He thought it was too uncomfortable. [SEP]',\n",
       " '[CLS] The following sentences contain emotions : conflicted [SEP] Soon Ron had saved enough to buy his own car. [SEP]',\n",
       " '[CLS] The following sentences contain emotions : sad, angry [SEP] He opened the window and London street noise was loud. [SEP]',\n",
       " '[CLS] The following sentences contain emotions : sad, angry [SEP] Unfortunately his car was never recovered. [SEP]',\n",
       " '[CLS] The following sentences contain emotions : sad, angry [SEP] He went to the doctor who suggested yet another surgery to remove it. [SEP]',\n",
       " '[CLS] The following sentences contain emotions : sad, angry [SEP] But Ginger was scared of people watching her. [SEP]',\n",
       " '[CLS] The following sentences contain emotions : sad, angry [SEP] He stayed in bed and skipped work. [SEP]']"
      ]
     },
     "execution_count": 37,
     "metadata": {},
     "output_type": "execute_result"
    }
   ],
   "source": [
    "[tokenizer.decode(features[\"input_ids\"][a][i]) for a in range(5) for i in range(5) ]"
   ]
  },
  {
   "cell_type": "code",
   "execution_count": 38,
   "id": "4a286ba6-cb84-4619-b842-780124d26a4a",
   "metadata": {},
   "outputs": [
    {
     "data": {
      "application/vnd.jupyter.widget-view+json": {
       "model_id": "a96d1df06ced4c50a20232aecdd82ec6",
       "version_major": 2,
       "version_minor": 0
      },
      "text/plain": [
       "HBox(children=(FloatProgress(value=0.0, max=43.0), HTML(value='')))"
      ]
     },
     "metadata": {},
     "output_type": "display_data"
    },
    {
     "name": "stdout",
     "output_type": "stream",
     "text": [
      "\n"
     ]
    },
    {
     "data": {
      "application/vnd.jupyter.widget-view+json": {
       "model_id": "e5f66dae42fd4e96b6da0330b1d43e6c",
       "version_major": 2,
       "version_minor": 0
      },
      "text/plain": [
       "HBox(children=(FloatProgress(value=0.0, max=44.0), HTML(value='')))"
      ]
     },
     "metadata": {},
     "output_type": "display_data"
    },
    {
     "name": "stdout",
     "output_type": "stream",
     "text": [
      "\n"
     ]
    }
   ],
   "source": [
    "encoded_datasets = dataset.map(preprocess_function, batched=True)"
   ]
  },
  {
   "cell_type": "markdown",
   "id": "7f496be7-4673-4520-b30e-656cd5640b34",
   "metadata": {},
   "source": [
    "# Fine-tuning the model"
   ]
  },
  {
   "cell_type": "code",
   "execution_count": 39,
   "id": "7706d875-3a89-4e52-9f08-c77256b621ca",
   "metadata": {},
   "outputs": [
    {
     "name": "stderr",
     "output_type": "stream",
     "text": [
      "Some weights of the model checkpoint at distilbert-base-cased were not used when initializing DistilBertForMultipleChoice: ['vocab_transform.weight', 'vocab_layer_norm.bias', 'vocab_projector.bias', 'vocab_transform.bias', 'vocab_projector.weight', 'vocab_layer_norm.weight']\n",
      "- This IS expected if you are initializing DistilBertForMultipleChoice from the checkpoint of a model trained on another task or with another architecture (e.g. initializing a BertForSequenceClassification model from a BertForPreTraining model).\n",
      "- This IS NOT expected if you are initializing DistilBertForMultipleChoice from the checkpoint of a model that you expect to be exactly identical (initializing a BertForSequenceClassification model from a BertForSequenceClassification model).\n",
      "Some weights of DistilBertForMultipleChoice were not initialized from the model checkpoint at distilbert-base-cased and are newly initialized: ['classifier.bias', 'pre_classifier.bias', 'pre_classifier.weight', 'classifier.weight']\n",
      "You should probably TRAIN this model on a down-stream task to be able to use it for predictions and inference.\n"
     ]
    }
   ],
   "source": [
    "from transformers import AutoModelForMultipleChoice, TrainingArguments, Trainer\n",
    "from transformers import DistilBertTokenizer, DistilBertForMultipleChoice\n",
    "import torch\n",
    "model = DistilBertForMultipleChoice.from_pretrained(\"distilbert-base-cased\")\n",
    "\n",
    "# model = AutoModelForMultipleChoice.from_pretrained(model_checkpoint)"
   ]
  },
  {
   "cell_type": "code",
   "execution_count": 40,
   "id": "2cd7be65-ebd8-43db-bcbf-a87d7e2342e4",
   "metadata": {},
   "outputs": [],
   "source": [
    "model_name = model_checkpoint.split(\"/\")[-1]\n",
    "args = TrainingArguments(\n",
    "    f\"{model_name}-finetuned-emotionCommonsense\",\n",
    "    evaluation_strategy = \"epoch\",\n",
    "    #learning_rate=5e-5, # for bert-base\n",
    "    learning_rate=5e-7, # for roberta-base\n",
    "    # learning_rate=1e-3,\n",
    "    per_device_train_batch_size=batch_size,\n",
    "    per_device_eval_batch_size=batch_size,\n",
    "    num_train_epochs=num_epochs,\n",
    "    weight_decay=0.01,\n",
    "    push_to_hub=False,\n",
    ")"
   ]
  },
  {
   "cell_type": "code",
   "execution_count": 41,
   "id": "2737e04e-19c2-407d-8ce1-06b675f208c6",
   "metadata": {},
   "outputs": [],
   "source": [
    "from dataclasses import dataclass\n",
    "from transformers.tokenization_utils_base import PreTrainedTokenizerBase, PaddingStrategy\n",
    "from typing import Optional, Union\n",
    "import torch\n",
    "\n",
    "@dataclass\n",
    "class DataCollatorForMultipleChoice:\n",
    "    \"\"\"\n",
    "    Data collator that will dynamically pad the inputs for multiple choice received.\n",
    "    \"\"\"\n",
    "\n",
    "    tokenizer: PreTrainedTokenizerBase\n",
    "    padding: Union[bool, str, PaddingStrategy] = True\n",
    "    max_length: Optional[int] = None\n",
    "    pad_to_multiple_of: Optional[int] = None\n",
    "\n",
    "    def __call__(self, features):\n",
    "        label_name = \"label\" if \"label\" in features[0].keys() else \"labels\"\n",
    "        labels = [feature.pop(label_name) for feature in features]\n",
    "        batch_size = len(features)\n",
    "        num_choices = len(features[0][\"input_ids\"])\n",
    "        flattened_features = [[{k: v[i] for k, v in feature.items()} for i in range(num_choices)] for feature in features]\n",
    "        flattened_features = sum(flattened_features, [])\n",
    "        \n",
    "        batch = self.tokenizer.pad(\n",
    "            flattened_features,\n",
    "            padding=self.padding,\n",
    "            max_length=self.max_length,\n",
    "            pad_to_multiple_of=self.pad_to_multiple_of,\n",
    "            return_tensors=\"pt\",\n",
    "        )\n",
    "        \n",
    "        # Un-flatten\n",
    "        batch = {k: v.view(batch_size, num_choices, -1) for k, v in batch.items()}\n",
    "        # Add back labels\n",
    "        batch[\"labels\"] = torch.tensor(labels, dtype=torch.int64)\n",
    "        return batch"
   ]
  },
  {
   "cell_type": "code",
   "execution_count": 42,
   "id": "03a0ec05-de5e-434f-b07c-63212e7c7f2c",
   "metadata": {},
   "outputs": [],
   "source": [
    "accepted_keys = [\"input_ids\", \"attention_mask\", \"label\"]\n",
    "features = [{k: v for k, v in encoded_datasets[\"train\"][i].items() if k in accepted_keys} for i in range(10)]\n",
    "batch = DataCollatorForMultipleChoice(tokenizer)(features)"
   ]
  },
  {
   "cell_type": "code",
   "execution_count": 43,
   "id": "45f7f26c-04bb-42ae-8627-897ced69888e",
   "metadata": {},
   "outputs": [
    {
     "data": {
      "text/plain": [
       "['[CLS] The following sentences contain emotions : determined [SEP] Jennifer was forbidden to talk about her co - worker. [SEP] [PAD] [PAD] [PAD] [PAD] [PAD] [PAD]',\n",
       " '[CLS] The following sentences contain emotions : determined [SEP] I tried to put them down in the dining room. [SEP] [PAD] [PAD] [PAD] [PAD] [PAD] [PAD]',\n",
       " '[CLS] The following sentences contain emotions : determined [SEP] She poured the oatmeal into dog dishes. [SEP] [PAD] [PAD] [PAD] [PAD] [PAD] [PAD]',\n",
       " '[CLS] The following sentences contain emotions : determined [SEP] He ordered a cell phone from a new carrier. [SEP] [PAD] [PAD] [PAD] [PAD] [PAD] [PAD] [PAD]',\n",
       " '[CLS] The following sentences contain emotions : determined [SEP] Tina was working as a maid. [SEP] [PAD] [PAD] [PAD] [PAD] [PAD] [PAD] [PAD] [PAD] [PAD] [PAD]']"
      ]
     },
     "execution_count": 43,
     "metadata": {},
     "output_type": "execute_result"
    }
   ],
   "source": [
    "[tokenizer.decode(batch[\"input_ids\"][8][i].tolist()) for i in range(5)]"
   ]
  },
  {
   "cell_type": "code",
   "execution_count": 44,
   "id": "c4b55256-30fa-4e30-a3a4-66fe1114b941",
   "metadata": {},
   "outputs": [
    {
     "name": "stdout",
     "output_type": "stream",
     "text": [
      "Context: ['determined']\n",
      "  A - Jennifer was forbidden to talk about her co-worker.\n",
      "  B - I tried to put them down in the dining room.\n",
      "  C - She poured the oatmeal into dog dishes.\n",
      "  D - He ordered a cell phone from a new carrier.\n",
      "  E - Tina was working as a maid.\n",
      "\n",
      "Ground truth: option C\n"
     ]
    }
   ],
   "source": [
    "show_one(dataset[\"train\"][8])"
   ]
  },
  {
   "cell_type": "markdown",
   "id": "eb8305d3-8dc9-4d0f-8628-f51dc356c2d2",
   "metadata": {},
   "source": [
    "# Trainer Defined"
   ]
  },
  {
   "cell_type": "code",
   "execution_count": 45,
   "id": "b707863a-bc16-43b0-b633-c7ffb4fa72e5",
   "metadata": {},
   "outputs": [],
   "source": [
    "import numpy as np\n",
    "\n",
    "valStored = []\n",
    "def compute_metrics(eval_predictions):\n",
    "    predictions, label_ids = eval_predictions\n",
    "    preds = np.argmax(predictions, axis=1)\n",
    "    valStored.append((preds != label_ids).astype(np.float32));\n",
    "    return {\"accuracy\": (preds == label_ids).astype(np.float32).mean().item()}"
   ]
  },
  {
   "cell_type": "code",
   "execution_count": 46,
   "id": "b115c1ba-323a-47d5-bb9d-55de985f13b9",
   "metadata": {},
   "outputs": [],
   "source": [
    "trainer = Trainer(\n",
    "    model,\n",
    "    args,\n",
    "    train_dataset=encoded_datasets[\"train\"],\n",
    "    eval_dataset=encoded_datasets[\"test\"],\n",
    "    tokenizer=tokenizer,\n",
    "    data_collator=DataCollatorForMultipleChoice(tokenizer),\n",
    "    compute_metrics=compute_metrics,\n",
    ")"
   ]
  },
  {
   "cell_type": "code",
   "execution_count": 47,
   "id": "df5a83ea",
   "metadata": {},
   "outputs": [
    {
     "name": "stdout",
     "output_type": "stream",
     "text": [
      "Wed Jun 22 20:52:43 2022       \n",
      "+-----------------------------------------------------------------------------+\n",
      "| NVIDIA-SMI 511.23       Driver Version: 511.23       CUDA Version: 11.6     |\n",
      "|-------------------------------+----------------------+----------------------+\n",
      "| GPU  Name            TCC/WDDM | Bus-Id        Disp.A | Volatile Uncorr. ECC |\n",
      "| Fan  Temp  Perf  Pwr:Usage/Cap|         Memory-Usage | GPU-Util  Compute M. |\n",
      "|                               |                      |               MIG M. |\n",
      "|===============================+======================+======================|\n",
      "|   0  NVIDIA GeForce ... WDDM  | 00000000:09:00.0  On |                  N/A |\n",
      "| 30%   47C    P5    42W / 350W |   6491MiB / 24576MiB |     56%      Default |\n",
      "|                               |                      |                  N/A |\n",
      "+-------------------------------+----------------------+----------------------+\n",
      "                                                                               \n",
      "+-----------------------------------------------------------------------------+\n",
      "| Processes:                                                                  |\n",
      "|  GPU   GI   CI        PID   Type   Process name                  GPU Memory |\n",
      "|        ID   ID                                                   Usage      |\n",
      "|=============================================================================|\n",
      "|    0   N/A  N/A      1464    C+G                                   N/A      |\n",
      "|    0   N/A  N/A      2628    C+G   ...y\\ShellExperienceHost.exe    N/A      |\n",
      "|    0   N/A  N/A      3232    C+G   ...p-3.0.2\\GitHubDesktop.exe    N/A      |\n",
      "|    0   N/A  N/A      7448    C+G                                   N/A      |\n",
      "|    0   N/A  N/A      8144    C+G   C:\\Windows\\explorer.exe         N/A      |\n",
      "|    0   N/A  N/A      9320    C+G   ...artMenuExperienceHost.exe    N/A      |\n",
      "|    0   N/A  N/A      9760    C+G   ...5n1h2txyewy\\SearchApp.exe    N/A      |\n",
      "|    0   N/A  N/A     10448    C+G   ...ekyb3d8bbwe\\YourPhone.exe    N/A      |\n",
      "|    0   N/A  N/A     10512    C+G   ...perience\\NVIDIA Share.exe    N/A      |\n",
      "|    0   N/A  N/A     11252    C+G   ...2txyewy\\TextInputHost.exe    N/A      |\n",
      "|    0   N/A  N/A     11276    C+G   ...cw5n1h2txyewy\\LockApp.exe    N/A      |\n",
      "|    0   N/A  N/A     14024    C+G                                   N/A      |\n",
      "|    0   N/A  N/A     14936    C+G   ...perience\\NVIDIA Share.exe    N/A      |\n",
      "|    0   N/A  N/A     16996    C+G   ...les\\NZXT CAM\\NZXT CAM.exe    N/A      |\n",
      "|    0   N/A  N/A     17064    C+G   ...in7x64\\steamwebhelper.exe    N/A      |\n",
      "|    0   N/A  N/A     17308    C+G   ...er_engine\\wallpaper32.exe    N/A      |\n",
      "|    0   N/A  N/A     17732    C+G   ...\\app-1.0.9005\\Discord.exe    N/A      |\n",
      "|    0   N/A  N/A     17896    C+G   ...ram Files\\LGHUB\\lghub.exe    N/A      |\n",
      "|    0   N/A  N/A     18872    C+G   ...n64\\EpicGamesLauncher.exe    N/A      |\n",
      "|    0   N/A  N/A     19116    C+G   ...5n1h2txyewy\\SearchApp.exe    N/A      |\n",
      "|    0   N/A  N/A     20152    C+G   ...s\\Win64\\EpicWebHelper.exe    N/A      |\n",
      "|    0   N/A  N/A     20400    C+G   ...8wekyb3d8bbwe\\Cortana.exe    N/A      |\n",
      "|    0   N/A  N/A     20724    C+G   ...ck\\app-4.27.154\\slack.exe    N/A      |\n",
      "|    0   N/A  N/A     20748    C+G   ...me\\Application\\chrome.exe    N/A      |\n",
      "|    0   N/A  N/A     32452      C   ...vs\\story_cloze\\python.exe    N/A      |\n",
      "+-----------------------------------------------------------------------------+\n"
     ]
    }
   ],
   "source": [
    "!nvidia-smi"
   ]
  },
  {
   "cell_type": "code",
   "execution_count": 48,
   "id": "2fe74f7d",
   "metadata": {},
   "outputs": [
    {
     "name": "stdout",
     "output_type": "stream",
     "text": [
      "Using device: cuda\n",
      "\n",
      "NVIDIA GeForce RTX 3090\n",
      "Memory Usage:\n",
      "Allocated: 0.2 GB\n",
      "Cached:    3.7 GB\n"
     ]
    }
   ],
   "source": [
    "device = torch.device('cuda' if torch.cuda.is_available() else 'cpu')\n",
    "print('Using device:', device)\n",
    "print()\n",
    "\n",
    "#Additional Info when using cuda\n",
    "if device.type == 'cuda':\n",
    "    print(torch.cuda.get_device_name(0))\n",
    "    print('Memory Usage:')\n",
    "    print('Allocated:', round(torch.cuda.memory_allocated(0)/1024**3,1), 'GB')\n",
    "    print('Cached:   ', round(torch.cuda.memory_reserved(0)/1024**3,1), 'GB')"
   ]
  },
  {
   "cell_type": "code",
   "execution_count": 49,
   "id": "2a5e3430-bbd6-484d-8a8d-9cbcdba37d6e",
   "metadata": {},
   "outputs": [
    {
     "data": {
      "text/html": [
       "\n",
       "    <div>\n",
       "      \n",
       "      <progress value='42960' max='42960' style='width:300px; height:20px; vertical-align: middle;'></progress>\n",
       "      [42960/42960 47:28, Epoch 16/16]\n",
       "    </div>\n",
       "    <table border=\"1\" class=\"dataframe\">\n",
       "  <thead>\n",
       "    <tr style=\"text-align: left;\">\n",
       "      <th>Epoch</th>\n",
       "      <th>Training Loss</th>\n",
       "      <th>Validation Loss</th>\n",
       "      <th>Accuracy</th>\n",
       "    </tr>\n",
       "  </thead>\n",
       "  <tbody>\n",
       "    <tr>\n",
       "      <td>1</td>\n",
       "      <td>1.610100</td>\n",
       "      <td>1.605305</td>\n",
       "      <td>0.281074</td>\n",
       "    </tr>\n",
       "    <tr>\n",
       "      <td>2</td>\n",
       "      <td>1.519000</td>\n",
       "      <td>1.454067</td>\n",
       "      <td>0.387499</td>\n",
       "    </tr>\n",
       "    <tr>\n",
       "      <td>3</td>\n",
       "      <td>1.438600</td>\n",
       "      <td>1.389135</td>\n",
       "      <td>0.418683</td>\n",
       "    </tr>\n",
       "    <tr>\n",
       "      <td>4</td>\n",
       "      <td>1.399800</td>\n",
       "      <td>1.346294</td>\n",
       "      <td>0.437504</td>\n",
       "    </tr>\n",
       "    <tr>\n",
       "      <td>5</td>\n",
       "      <td>1.358500</td>\n",
       "      <td>1.321087</td>\n",
       "      <td>0.450723</td>\n",
       "    </tr>\n",
       "    <tr>\n",
       "      <td>6</td>\n",
       "      <td>1.346000</td>\n",
       "      <td>1.302448</td>\n",
       "      <td>0.459359</td>\n",
       "    </tr>\n",
       "    <tr>\n",
       "      <td>7</td>\n",
       "      <td>1.323700</td>\n",
       "      <td>1.289080</td>\n",
       "      <td>0.465818</td>\n",
       "    </tr>\n",
       "    <tr>\n",
       "      <td>8</td>\n",
       "      <td>1.319600</td>\n",
       "      <td>1.277565</td>\n",
       "      <td>0.471721</td>\n",
       "    </tr>\n",
       "    <tr>\n",
       "      <td>9</td>\n",
       "      <td>1.306500</td>\n",
       "      <td>1.268696</td>\n",
       "      <td>0.475842</td>\n",
       "    </tr>\n",
       "    <tr>\n",
       "      <td>10</td>\n",
       "      <td>1.285000</td>\n",
       "      <td>1.264239</td>\n",
       "      <td>0.478551</td>\n",
       "    </tr>\n",
       "    <tr>\n",
       "      <td>11</td>\n",
       "      <td>1.277500</td>\n",
       "      <td>1.257468</td>\n",
       "      <td>0.481537</td>\n",
       "    </tr>\n",
       "    <tr>\n",
       "      <td>12</td>\n",
       "      <td>1.265700</td>\n",
       "      <td>1.254180</td>\n",
       "      <td>0.483922</td>\n",
       "    </tr>\n",
       "    <tr>\n",
       "      <td>13</td>\n",
       "      <td>1.259500</td>\n",
       "      <td>1.251544</td>\n",
       "      <td>0.485010</td>\n",
       "    </tr>\n",
       "    <tr>\n",
       "      <td>14</td>\n",
       "      <td>1.259700</td>\n",
       "      <td>1.249417</td>\n",
       "      <td>0.486028</td>\n",
       "    </tr>\n",
       "    <tr>\n",
       "      <td>15</td>\n",
       "      <td>1.262900</td>\n",
       "      <td>1.247989</td>\n",
       "      <td>0.486005</td>\n",
       "    </tr>\n",
       "    <tr>\n",
       "      <td>16</td>\n",
       "      <td>1.256400</td>\n",
       "      <td>1.247539</td>\n",
       "      <td>0.486075</td>\n",
       "    </tr>\n",
       "  </tbody>\n",
       "</table><p>"
      ],
      "text/plain": [
       "<IPython.core.display.HTML object>"
      ]
     },
     "metadata": {},
     "output_type": "display_data"
    },
    {
     "data": {
      "text/plain": [
       "TrainOutput(global_step=42960, training_loss=1.349734116310958, metrics={'train_runtime': 2848.5304, 'train_samples_per_second': 15.081, 'total_flos': 423526008255900.0, 'epoch': 16.0})"
      ]
     },
     "execution_count": 49,
     "metadata": {},
     "output_type": "execute_result"
    }
   ],
   "source": [
    "trainer.train()"
   ]
  },
  {
   "cell_type": "markdown",
   "id": "32a17948-a8f7-4450-b2b0-8a7016e91391",
   "metadata": {},
   "source": [
    "出现validation loss 上升情况大多是训练集验证集数据分布不一致，或者训练集过小，未包含验证集中所有情况，\n",
    "也就是过拟合导致的。而解决这种现象可以尝试以下几种策略：\n",
    "1. 增加训练样本增加正则项系数权重，\n",
    "2. 减小过拟合加入早停机制，ValLoss上升几个epoch直接停止\n",
    "3. 采用Focal Loss\n",
    "4. 加入Label Smoothing"
   ]
  },
  {
   "cell_type": "markdown",
   "id": "b73d6ab3-33ac-4e8e-99ee-3c3f17d71642",
   "metadata": {},
   "source": [
    "# Store Value"
   ]
  },
  {
   "cell_type": "code",
   "execution_count": 50,
   "id": "c30271fe-7ce9-43e8-9e87-de8d6ae2c2c0",
   "metadata": {},
   "outputs": [
    {
     "data": {
      "text/plain": [
       "<matplotlib.collections.QuadMesh at 0x1f486e220d0>"
      ]
     },
     "execution_count": 50,
     "metadata": {},
     "output_type": "execute_result"
    },
    {
     "data": {
      "image/png": "[encoded data removed]",
      "text/plain": [
       "<Figure size 432x288 with 1 Axes>"
      ]
     },
     "metadata": {
      "needs_background": "light"
     },
     "output_type": "display_data"
    }
   ],
   "source": [
    "import matplotlib.pyplot as plt\n",
    "import numpy as np\n",
    "import matplotlib\n",
    "\n",
    "Z = np.transpose(valStored)\n",
    "\n",
    "fig, ax = plt.subplots()\n",
    "ax.pcolormesh(Z)"
   ]
  },
  {
   "cell_type": "code",
   "execution_count": 51,
   "id": "5e77d30e-e51a-45a6-9130-83a17c4d2219",
   "metadata": {},
   "outputs": [],
   "source": [
    "import pandas as pd\n",
    "if model_checkpoint == 'distilbert-base-uncased-finetuned-sst-2-english':\n",
    "    model_checkpoint = 'distilbert-base'\n",
    "dataLog = pd.DataFrame(trainer.state.log_history)\n",
    "dataLog.to_csv(f'./trainingMetric/[Emotion] 5Select/TI-{model_checkpoint}-{fileTag}.csv')"
   ]
  },
  {
   "cell_type": "code",
   "execution_count": 52,
   "id": "c90cfec4-96ec-46c8-a99f-3c78b989b862",
   "metadata": {},
   "outputs": [],
   "source": [
    "evaluationIterationResult = pd.DataFrame(np.transpose(valStored))\n",
    "evaluationIterationResult.to_csv(f'./trainingMetric/[Emotion] 5Select/ESI-{model_checkpoint}-{fileTag}.csv')"
   ]
  },
  {
   "cell_type": "code",
   "execution_count": null,
   "id": "6fd7f330-1477-4119-a9dc-1ebb7acb7665",
   "metadata": {},
   "outputs": [],
   "source": []
  }
 ],
 "metadata": {
  "kernelspec": {
   "display_name": "Python [conda env:story_cloze]",
   "language": "python",
   "name": "conda-env-story_cloze-py"
  },
  "language_info": {
   "codemirror_mode": {
    "name": "ipython",
    "version": 3
   },
   "file_extension": ".py",
   "mimetype": "text/x-python",
   "name": "python",
   "nbconvert_exporter": "python",
   "pygments_lexer": "ipython3",
   "version": "3.8.8"
  }
 },
 "nbformat": 4,
 "nbformat_minor": 5
}
