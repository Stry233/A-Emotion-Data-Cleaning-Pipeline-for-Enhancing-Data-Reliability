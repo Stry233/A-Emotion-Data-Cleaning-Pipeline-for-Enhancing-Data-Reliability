{
 "cells": [
  {
   "cell_type": "markdown",
   "id": "f45d5e74-2f1d-4535-8a5d-9a29e727d9f7",
   "metadata": {},
   "source": [
    "# ATTENTION!!!!\n",
    "NO 4 SELECTION IN THIS PROJECT!!!!"
   ]
  },
  {
   "cell_type": "code",
   "execution_count": null,
   "id": "64008931-2262-441b-8f77-e3a688c23c1e",
   "metadata": {},
   "outputs": [],
   "source": [
    "# global var set\n",
    "import transformers\n",
    "\n",
    "# model info, change as needed\n",
    "model_checkpoint = \"roberta-base\"\n",
    "batch_size = 16\n",
    "num_epochs = 16\n",
    "\n",
    "# fileTag = \"clean-v1\"                      # clean + no phase + combine    (pure clean)\n",
    "# fileTag = \"clean-phase-v1\"                # clean +   phase  + combine\n",
    "# fileTag = 'clean-phase-noCombin-v1'       # clean +   phase  + no combine\n",
    "# fileTag = 'original-noCheat-noCombin-v1'  # raw   +   no Cheat case\n",
    "fileTag = 'original'                        # row   +   keep Cheat case     (pure raw) \n",
    "\n",
    "fileTag\n",
    "model_checkpoint"
   ]
  },
  {
   "cell_type": "markdown",
   "id": "79b9d76f-5ed6-4ab9-8c62-f6d6a8b47be4",
   "metadata": {},
   "source": [
    "# Convert dataset to suitable format\n",
    "IMPORTANT: please never run this section again if you have your dataset ready!"
   ]
  },
  {
   "cell_type": "code",
   "execution_count": 12,
   "id": "a93a9f46-6703-4535-af96-8be1b5b3407f",
   "metadata": {},
   "outputs": [],
   "source": [
    "import pandas as pd\n",
    "from pandas import DataFrame\n",
    "\n",
    "trainDatasetOriginal = pd.read_csv(f'../../data/csv_version/dev/emotion/allcharlinepairs-{fileTag}.csv')\n",
    "testDatasetOriginal = pd.read_csv(f'../../data/csv_version/test/emotion/allcharlinepairs-{fileTag}.csv')"
   ]
  },
  {
   "cell_type": "code",
   "execution_count": 13,
   "id": "7265a797-adc2-49ed-b237-19abf9e0569f",
   "metadata": {},
   "outputs": [],
   "source": [
    "trainDatasetProcessed = DataFrame({'emotion' : trainDatasetOriginal['emotion'],\n",
    "                                   'plutchik' : trainDatasetOriginal['plutchik'],\n",
    "                                  'selection0': pd.concat([trainDatasetOriginal['sentence'][:trainDatasetOriginal.shape[0]//4], trainDatasetOriginal.sample(frac = 1).reset_index()['sentence'][trainDatasetOriginal.shape[0]//4:]]), \n",
    "                                  'selection1': pd.concat([trainDatasetOriginal.sample(frac = 1).reset_index()['sentence'][:trainDatasetOriginal.shape[0]//4], \n",
    "                                                pd.concat([trainDatasetOriginal['sentence'][trainDatasetOriginal.shape[0]//4:trainDatasetOriginal.shape[0]//2], \n",
    "                                                trainDatasetOriginal.sample(frac = 1).reset_index()['sentence'][trainDatasetOriginal.shape[0]//2:]])]), \n",
    "                                  'selection2': pd.concat([trainDatasetOriginal.sample(frac = 1).reset_index()['sentence'][:trainDatasetOriginal.shape[0]//2], \n",
    "                                                pd.concat([trainDatasetOriginal['sentence'][trainDatasetOriginal.shape[0]//2:trainDatasetOriginal.shape[0]//4*3], \n",
    "                                                trainDatasetOriginal.sample(frac = 1).reset_index()['sentence'][trainDatasetOriginal.shape[0]//4*3:]])]), \n",
    "                                  'selection3': pd.concat([trainDatasetOriginal.sample(frac = 1).reset_index()['sentence'][:trainDatasetOriginal.shape[0]//4*3], \n",
    "                                                           trainDatasetOriginal['sentence'][trainDatasetOriginal.shape[0]//4*3:]]),\n",
    "                                  'label': pd.Series(0 if x < trainDatasetOriginal.shape[0]//4 else (1 if x < trainDatasetOriginal.shape[0]//2 \n",
    "                                                                                               else (2 if x < trainDatasetOriginal.shape[0]//4*3 \n",
    "                                                                                               else 3)) for x in trainDatasetOriginal.index)}).sample(frac=1).reset_index(drop=True)\n",
    "\n",
    "testDatasetProcessed = DataFrame({'emotion' : testDatasetOriginal['emotion'],\n",
    "                                   'plutchik' : testDatasetOriginal['plutchik'],\n",
    "                                  'selection0': pd.concat([testDatasetOriginal['sentence'][:testDatasetOriginal.shape[0]//4], testDatasetOriginal.sample(frac = 1).reset_index()['sentence'][testDatasetOriginal.shape[0]//4:]]), \n",
    "                                  'selection1': pd.concat([testDatasetOriginal.sample(frac = 1).reset_index()['sentence'][:testDatasetOriginal.shape[0]//4], \n",
    "                                                pd.concat([testDatasetOriginal['sentence'][testDatasetOriginal.shape[0]//4:testDatasetOriginal.shape[0]//2], \n",
    "                                                testDatasetOriginal.sample(frac = 1).reset_index()['sentence'][testDatasetOriginal.shape[0]//2:]])]), \n",
    "                                  'selection2': pd.concat([testDatasetOriginal.sample(frac = 1).reset_index()['sentence'][:testDatasetOriginal.shape[0]//2], \n",
    "                                                pd.concat([testDatasetOriginal['sentence'][testDatasetOriginal.shape[0]//2:testDatasetOriginal.shape[0]//4*3], \n",
    "                                                testDatasetOriginal.sample(frac = 1).reset_index()['sentence'][testDatasetOriginal.shape[0]//4*3:]])]), \n",
    "                                  'selection3': pd.concat([testDatasetOriginal.sample(frac = 1).reset_index()['sentence'][:testDatasetOriginal.shape[0]//4*3], \n",
    "                                                           testDatasetOriginal['sentence'][testDatasetOriginal.shape[0]//4*3:]]),\n",
    "                                  'label': pd.Series(0 if x < testDatasetOriginal.shape[0]//4 else (1 if x < testDatasetOriginal.shape[0]//2 \n",
    "                                                                                               else (2 if x < testDatasetOriginal.shape[0]//4*3 \n",
    "                                                                                               else 3)) for x in testDatasetOriginal.index)}).sample(frac=1).reset_index(drop=True)\n"
   ]
  },
  {
   "cell_type": "code",
   "execution_count": 14,
   "id": "19e3c334-b371-44ad-b6e1-7161f405b741",
   "metadata": {},
   "outputs": [
    {
     "data": {
      "text/html": [
       "<div>\n",
       "<style scoped>\n",
       "    .dataframe tbody tr th:only-of-type {\n",
       "        vertical-align: middle;\n",
       "    }\n",
       "\n",
       "    .dataframe tbody tr th {\n",
       "        vertical-align: top;\n",
       "    }\n",
       "\n",
       "    .dataframe thead th {\n",
       "        text-align: right;\n",
       "    }\n",
       "</style>\n",
       "<table border=\"1\" class=\"dataframe\">\n",
       "  <thead>\n",
       "    <tr style=\"text-align: right;\">\n",
       "      <th></th>\n",
       "      <th>emotion</th>\n",
       "      <th>plutchik</th>\n",
       "      <th>selection0</th>\n",
       "      <th>selection1</th>\n",
       "      <th>selection2</th>\n",
       "      <th>selection3</th>\n",
       "      <th>label</th>\n",
       "    </tr>\n",
       "  </thead>\n",
       "  <tbody>\n",
       "    <tr>\n",
       "      <th>0</th>\n",
       "      <td>[\"afraid\"]</td>\n",
       "      <td>[\"fear:3\", \"anticipation:2\"]</td>\n",
       "      <td>He works hard and has a varying schedule.</td>\n",
       "      <td>Tommy's dad hired a pricy lawyer to defend him.</td>\n",
       "      <td>They reached in and could barely reach her.</td>\n",
       "      <td>Thompson was always afraid of crocodiles.</td>\n",
       "      <td>3</td>\n",
       "    </tr>\n",
       "    <tr>\n",
       "      <th>1</th>\n",
       "      <td>[\"excitement\", \"pride\", \"happiness\"]</td>\n",
       "      <td>[\"joy:3\", \"anticipation:3\"]</td>\n",
       "      <td>Esther sat watching TV when the doorbell rang.</td>\n",
       "      <td>Indeed, after a few months I mastered the iron...</td>\n",
       "      <td>Bill went to the church and stood at the front...</td>\n",
       "      <td>Julie liked to see her dog happy.</td>\n",
       "      <td>1</td>\n",
       "    </tr>\n",
       "    <tr>\n",
       "      <th>2</th>\n",
       "      <td>[\"anticipation\"]</td>\n",
       "      <td>[\"joy:2\", \"surprise:2\", \"anticipation:3\"]</td>\n",
       "      <td>We asked everyone else at the party if they wa...</td>\n",
       "      <td>He was given a short deadline.</td>\n",
       "      <td>They called their parents and they helped them...</td>\n",
       "      <td>Thomas is fairly introverted so Maria invited ...</td>\n",
       "      <td>0</td>\n",
       "    </tr>\n",
       "    <tr>\n",
       "      <th>3</th>\n",
       "      <td>[\"scared\"]</td>\n",
       "      <td>[\"fear:3\", \"sadness:2\"]</td>\n",
       "      <td>They still had a good time, however, just bein...</td>\n",
       "      <td>Brian got lost between rides.</td>\n",
       "      <td>When it was over, they ran home to check out t...</td>\n",
       "      <td>They swam to shore, and Kevin's girlfriend cal...</td>\n",
       "      <td>3</td>\n",
       "    </tr>\n",
       "    <tr>\n",
       "      <th>4</th>\n",
       "      <td>[\"enjoy\"]</td>\n",
       "      <td>[\"joy:3\", \"trust:3\", \"anticipation:3\"]</td>\n",
       "      <td>He'd spend hours kicking it around his yard.</td>\n",
       "      <td>So he kept adding more and more ingredients.</td>\n",
       "      <td>He always forgot his mom's birthday.</td>\n",
       "      <td>Sophie and her family were soon found by ICE a...</td>\n",
       "      <td>0</td>\n",
       "    </tr>\n",
       "    <tr>\n",
       "      <th>...</th>\n",
       "      <td>...</td>\n",
       "      <td>...</td>\n",
       "      <td>...</td>\n",
       "      <td>...</td>\n",
       "      <td>...</td>\n",
       "      <td>...</td>\n",
       "      <td>...</td>\n",
       "    </tr>\n",
       "    <tr>\n",
       "      <th>53229</th>\n",
       "      <td>[\"excited\"]</td>\n",
       "      <td>[\"joy:3\", \"trust:3\", \"anticipation:3\"]</td>\n",
       "      <td>Butch grabbed the cat and shook it, and killed...</td>\n",
       "      <td>So she swam across the whole pool and across t...</td>\n",
       "      <td>He bought tickets for opening night.</td>\n",
       "      <td>One day, she rode it to school.</td>\n",
       "      <td>3</td>\n",
       "    </tr>\n",
       "    <tr>\n",
       "      <th>53230</th>\n",
       "      <td>[\"bad\"]</td>\n",
       "      <td>[\"fear:2\", \"sadness:2\", \"disgust:2\", \"anticipa...</td>\n",
       "      <td>I decided to start a food fight.</td>\n",
       "      <td>He had to leave to puke.</td>\n",
       "      <td>Eventually, Joe became a strong man, a father ...</td>\n",
       "      <td>By the end of the day she'd bought four differ...</td>\n",
       "      <td>1</td>\n",
       "    </tr>\n",
       "    <tr>\n",
       "      <th>53231</th>\n",
       "      <td>[\"sad\"]</td>\n",
       "      <td>[\"fear:2\", \"surprise:3\", \"sadness:3\", \"anticip...</td>\n",
       "      <td>He saw training footage of the boxing champion...</td>\n",
       "      <td>He then saw his parents putting gifts under th...</td>\n",
       "      <td>Our parents took him to hospital and learned h...</td>\n",
       "      <td>Todd was disgusted with the mess.</td>\n",
       "      <td>2</td>\n",
       "    </tr>\n",
       "    <tr>\n",
       "      <th>53232</th>\n",
       "      <td>[\"worried\"]</td>\n",
       "      <td>[\"fear:3\", \"surprise:3\", \"sadness:2\", \"anticip...</td>\n",
       "      <td>Tom said Jimi Hendrix was the best guitar play...</td>\n",
       "      <td>It was called the juke.</td>\n",
       "      <td>Simon's  wife found Simon on the floor in pain.</td>\n",
       "      <td>The Giants had pulled off the biggest upset in...</td>\n",
       "      <td>2</td>\n",
       "    </tr>\n",
       "    <tr>\n",
       "      <th>53233</th>\n",
       "      <td>[\"happy\"]</td>\n",
       "      <td>[\"joy:3\"]</td>\n",
       "      <td>Six of his friends had the same idea.</td>\n",
       "      <td>Nana chased her down, caught her, and tickled ...</td>\n",
       "      <td>He looked at his old boarded up house.</td>\n",
       "      <td>He wound up eating pancakes for lunch.</td>\n",
       "      <td>1</td>\n",
       "    </tr>\n",
       "  </tbody>\n",
       "</table>\n",
       "<p>53234 rows × 7 columns</p>\n",
       "</div>"
      ],
      "text/plain": [
       "                                    emotion  \\\n",
       "0                                [\"afraid\"]   \n",
       "1      [\"excitement\", \"pride\", \"happiness\"]   \n",
       "2                          [\"anticipation\"]   \n",
       "3                                [\"scared\"]   \n",
       "4                                 [\"enjoy\"]   \n",
       "...                                     ...   \n",
       "53229                           [\"excited\"]   \n",
       "53230                               [\"bad\"]   \n",
       "53231                               [\"sad\"]   \n",
       "53232                           [\"worried\"]   \n",
       "53233                             [\"happy\"]   \n",
       "\n",
       "                                                plutchik  \\\n",
       "0                           [\"fear:3\", \"anticipation:2\"]   \n",
       "1                            [\"joy:3\", \"anticipation:3\"]   \n",
       "2              [\"joy:2\", \"surprise:2\", \"anticipation:3\"]   \n",
       "3                                [\"fear:3\", \"sadness:2\"]   \n",
       "4                 [\"joy:3\", \"trust:3\", \"anticipation:3\"]   \n",
       "...                                                  ...   \n",
       "53229             [\"joy:3\", \"trust:3\", \"anticipation:3\"]   \n",
       "53230  [\"fear:2\", \"sadness:2\", \"disgust:2\", \"anticipa...   \n",
       "53231  [\"fear:2\", \"surprise:3\", \"sadness:3\", \"anticip...   \n",
       "53232  [\"fear:3\", \"surprise:3\", \"sadness:2\", \"anticip...   \n",
       "53233                                          [\"joy:3\"]   \n",
       "\n",
       "                                              selection0  \\\n",
       "0              He works hard and has a varying schedule.   \n",
       "1         Esther sat watching TV when the doorbell rang.   \n",
       "2      We asked everyone else at the party if they wa...   \n",
       "3      They still had a good time, however, just bein...   \n",
       "4           He'd spend hours kicking it around his yard.   \n",
       "...                                                  ...   \n",
       "53229  Butch grabbed the cat and shook it, and killed...   \n",
       "53230                   I decided to start a food fight.   \n",
       "53231  He saw training footage of the boxing champion...   \n",
       "53232  Tom said Jimi Hendrix was the best guitar play...   \n",
       "53233              Six of his friends had the same idea.   \n",
       "\n",
       "                                              selection1  \\\n",
       "0        Tommy's dad hired a pricy lawyer to defend him.   \n",
       "1      Indeed, after a few months I mastered the iron...   \n",
       "2                         He was given a short deadline.   \n",
       "3                          Brian got lost between rides.   \n",
       "4           So he kept adding more and more ingredients.   \n",
       "...                                                  ...   \n",
       "53229  So she swam across the whole pool and across t...   \n",
       "53230                           He had to leave to puke.   \n",
       "53231  He then saw his parents putting gifts under th...   \n",
       "53232                            It was called the juke.   \n",
       "53233  Nana chased her down, caught her, and tickled ...   \n",
       "\n",
       "                                              selection2  \\\n",
       "0            They reached in and could barely reach her.   \n",
       "1      Bill went to the church and stood at the front...   \n",
       "2      They called their parents and they helped them...   \n",
       "3      When it was over, they ran home to check out t...   \n",
       "4                   He always forgot his mom's birthday.   \n",
       "...                                                  ...   \n",
       "53229               He bought tickets for opening night.   \n",
       "53230  Eventually, Joe became a strong man, a father ...   \n",
       "53231  Our parents took him to hospital and learned h...   \n",
       "53232    Simon's  wife found Simon on the floor in pain.   \n",
       "53233             He looked at his old boarded up house.   \n",
       "\n",
       "                                              selection3  label  \n",
       "0              Thompson was always afraid of crocodiles.      3  \n",
       "1                      Julie liked to see her dog happy.      1  \n",
       "2      Thomas is fairly introverted so Maria invited ...      0  \n",
       "3      They swam to shore, and Kevin's girlfriend cal...      3  \n",
       "4      Sophie and her family were soon found by ICE a...      0  \n",
       "...                                                  ...    ...  \n",
       "53229                    One day, she rode it to school.      3  \n",
       "53230  By the end of the day she'd bought four differ...      1  \n",
       "53231                  Todd was disgusted with the mess.      2  \n",
       "53232  The Giants had pulled off the biggest upset in...      2  \n",
       "53233             He wound up eating pancakes for lunch.      1  \n",
       "\n",
       "[53234 rows x 7 columns]"
      ]
     },
     "execution_count": 14,
     "metadata": {},
     "output_type": "execute_result"
    }
   ],
   "source": [
    "trainDatasetProcessed.to_csv(f'./dataset/4Select-{fileTag}-train.csv')\n",
    "trainDatasetProcessed"
   ]
  },
  {
   "cell_type": "code",
   "execution_count": 15,
   "id": "b770299d-567d-46e2-b928-8ee31a341c07",
   "metadata": {},
   "outputs": [
    {
     "data": {
      "text/html": [
       "<div>\n",
       "<style scoped>\n",
       "    .dataframe tbody tr th:only-of-type {\n",
       "        vertical-align: middle;\n",
       "    }\n",
       "\n",
       "    .dataframe tbody tr th {\n",
       "        vertical-align: top;\n",
       "    }\n",
       "\n",
       "    .dataframe thead th {\n",
       "        text-align: right;\n",
       "    }\n",
       "</style>\n",
       "<table border=\"1\" class=\"dataframe\">\n",
       "  <thead>\n",
       "    <tr style=\"text-align: right;\">\n",
       "      <th></th>\n",
       "      <th>emotion</th>\n",
       "      <th>plutchik</th>\n",
       "      <th>selection0</th>\n",
       "      <th>selection1</th>\n",
       "      <th>selection2</th>\n",
       "      <th>selection3</th>\n",
       "      <th>label</th>\n",
       "    </tr>\n",
       "  </thead>\n",
       "  <tbody>\n",
       "    <tr>\n",
       "      <th>0</th>\n",
       "      <td>[\"lazy\"]</td>\n",
       "      <td>[\"disgust:2\"]</td>\n",
       "      <td>He is having chicken, potatoes and broccoli.</td>\n",
       "      <td>We spent five relaxing days on pristine beache...</td>\n",
       "      <td>I stepped up to the plate in my first baseball...</td>\n",
       "      <td>Sarah hated to keep her house clean.</td>\n",
       "      <td>3</td>\n",
       "    </tr>\n",
       "    <tr>\n",
       "      <th>1</th>\n",
       "      <td>[\"embarrassed \"]</td>\n",
       "      <td>[\"fear:3\", \"surprise:2\", \"sadness:2\", \"disgust...</td>\n",
       "      <td>Harris and Angelo were the team leaders for ba...</td>\n",
       "      <td>He spent lots of money buying the latest games.</td>\n",
       "      <td>Bob's dad finally got a riding mower.</td>\n",
       "      <td>He spent the rest of the day on the bunny slopes.</td>\n",
       "      <td>3</td>\n",
       "    </tr>\n",
       "    <tr>\n",
       "      <th>2</th>\n",
       "      <td>[\"sillly\"]</td>\n",
       "      <td>[\"joy:2\"]</td>\n",
       "      <td>One day Alex received a ticket for excessive s...</td>\n",
       "      <td>She told me that she sacrificed her studying t...</td>\n",
       "      <td>Instead of failing them, he had to fail the en...</td>\n",
       "      <td>When he uploaded the video, he titled it The J...</td>\n",
       "      <td>3</td>\n",
       "    </tr>\n",
       "    <tr>\n",
       "      <th>3</th>\n",
       "      <td>[\"down and sad\"]</td>\n",
       "      <td>[\"sadness:3\"]</td>\n",
       "      <td>Jo's mom looked pleased, until she found the d...</td>\n",
       "      <td>My son watched Stranger Things on Netflix.</td>\n",
       "      <td>This trip was supposed to be fun but he felt s...</td>\n",
       "      <td>But she hated the taste, no matter what flavor...</td>\n",
       "      <td>3</td>\n",
       "    </tr>\n",
       "    <tr>\n",
       "      <th>4</th>\n",
       "      <td>[\"curious\"]</td>\n",
       "      <td>[\"joy:3\", \"trust:3\", \"anticipation:3\"]</td>\n",
       "      <td>She yelled at me so loud it hurt my ears.</td>\n",
       "      <td>The kids asked Joey how much money his dad made.</td>\n",
       "      <td>She followed the recipe.</td>\n",
       "      <td>She was about to give up and not get the pizza.</td>\n",
       "      <td>1</td>\n",
       "    </tr>\n",
       "    <tr>\n",
       "      <th>...</th>\n",
       "      <td>...</td>\n",
       "      <td>...</td>\n",
       "      <td>...</td>\n",
       "      <td>...</td>\n",
       "      <td>...</td>\n",
       "      <td>...</td>\n",
       "      <td>...</td>\n",
       "    </tr>\n",
       "    <tr>\n",
       "      <th>51886</th>\n",
       "      <td>[\"alarmed\"]</td>\n",
       "      <td>[\"surprise:3\", \"anticipation:2\"]</td>\n",
       "      <td>She helped John by re-positioning his arm.</td>\n",
       "      <td>The cat was super friendly and nice.</td>\n",
       "      <td>John became so good that he learned other web ...</td>\n",
       "      <td>I went to a Korean barbecue restaurant with so...</td>\n",
       "      <td>0</td>\n",
       "    </tr>\n",
       "    <tr>\n",
       "      <th>51887</th>\n",
       "      <td>[\"desire\"]</td>\n",
       "      <td>[\"joy:2\", \"trust:2\", \"fear:2\", \"surprise:2\", \"...</td>\n",
       "      <td>Every day my mother stayed by his bedside.</td>\n",
       "      <td>Danny wanted to be the greatest magician who e...</td>\n",
       "      <td>She prepared her property and bought the food.</td>\n",
       "      <td>When the bus made a wide turn, a water bottle ...</td>\n",
       "      <td>1</td>\n",
       "    </tr>\n",
       "    <tr>\n",
       "      <th>51888</th>\n",
       "      <td>[\"motivated\"]</td>\n",
       "      <td>[\"joy:2\", \"trust:3\", \"disgust:2\", \"anger:2\", \"...</td>\n",
       "      <td>Maria continued to practice.</td>\n",
       "      <td>She then got in trouble at work.</td>\n",
       "      <td>She knew the store's bright lights would make ...</td>\n",
       "      <td>When Tameka's kid turned 18, she filed a libel...</td>\n",
       "      <td>0</td>\n",
       "    </tr>\n",
       "    <tr>\n",
       "      <th>51889</th>\n",
       "      <td>[\"excited\"]</td>\n",
       "      <td>[\"joy:2\", \"anticipation:3\"]</td>\n",
       "      <td>One day she went to the mailbox and she found ...</td>\n",
       "      <td>My wife is very excited.</td>\n",
       "      <td>His nephew said that was not possible.</td>\n",
       "      <td>They bought pizza for the kids instead.</td>\n",
       "      <td>3</td>\n",
       "    </tr>\n",
       "    <tr>\n",
       "      <th>51890</th>\n",
       "      <td>[\"excited\"]</td>\n",
       "      <td>[\"joy:3\"]</td>\n",
       "      <td>He got out of his car and handcuffed Mike.</td>\n",
       "      <td>His family has tried several therapies without...</td>\n",
       "      <td>Angie drove to the hotel where she was staying.</td>\n",
       "      <td>We still do not know how the frog ended up in ...</td>\n",
       "      <td>2</td>\n",
       "    </tr>\n",
       "  </tbody>\n",
       "</table>\n",
       "<p>51891 rows × 7 columns</p>\n",
       "</div>"
      ],
      "text/plain": [
       "                emotion                                           plutchik  \\\n",
       "0              [\"lazy\"]                                      [\"disgust:2\"]   \n",
       "1      [\"embarrassed \"]  [\"fear:3\", \"surprise:2\", \"sadness:2\", \"disgust...   \n",
       "2            [\"sillly\"]                                          [\"joy:2\"]   \n",
       "3      [\"down and sad\"]                                      [\"sadness:3\"]   \n",
       "4           [\"curious\"]             [\"joy:3\", \"trust:3\", \"anticipation:3\"]   \n",
       "...                 ...                                                ...   \n",
       "51886       [\"alarmed\"]                   [\"surprise:3\", \"anticipation:2\"]   \n",
       "51887        [\"desire\"]  [\"joy:2\", \"trust:2\", \"fear:2\", \"surprise:2\", \"...   \n",
       "51888     [\"motivated\"]  [\"joy:2\", \"trust:3\", \"disgust:2\", \"anger:2\", \"...   \n",
       "51889       [\"excited\"]                        [\"joy:2\", \"anticipation:3\"]   \n",
       "51890       [\"excited\"]                                          [\"joy:3\"]   \n",
       "\n",
       "                                              selection0  \\\n",
       "0           He is having chicken, potatoes and broccoli.   \n",
       "1      Harris and Angelo were the team leaders for ba...   \n",
       "2      One day Alex received a ticket for excessive s...   \n",
       "3      Jo's mom looked pleased, until she found the d...   \n",
       "4              She yelled at me so loud it hurt my ears.   \n",
       "...                                                  ...   \n",
       "51886         She helped John by re-positioning his arm.   \n",
       "51887         Every day my mother stayed by his bedside.   \n",
       "51888                       Maria continued to practice.   \n",
       "51889  One day she went to the mailbox and she found ...   \n",
       "51890         He got out of his car and handcuffed Mike.   \n",
       "\n",
       "                                              selection1  \\\n",
       "0      We spent five relaxing days on pristine beache...   \n",
       "1        He spent lots of money buying the latest games.   \n",
       "2      She told me that she sacrificed her studying t...   \n",
       "3             My son watched Stranger Things on Netflix.   \n",
       "4       The kids asked Joey how much money his dad made.   \n",
       "...                                                  ...   \n",
       "51886               The cat was super friendly and nice.   \n",
       "51887  Danny wanted to be the greatest magician who e...   \n",
       "51888                   She then got in trouble at work.   \n",
       "51889                           My wife is very excited.   \n",
       "51890  His family has tried several therapies without...   \n",
       "\n",
       "                                              selection2  \\\n",
       "0      I stepped up to the plate in my first baseball...   \n",
       "1                  Bob's dad finally got a riding mower.   \n",
       "2      Instead of failing them, he had to fail the en...   \n",
       "3      This trip was supposed to be fun but he felt s...   \n",
       "4                               She followed the recipe.   \n",
       "...                                                  ...   \n",
       "51886  John became so good that he learned other web ...   \n",
       "51887     She prepared her property and bought the food.   \n",
       "51888  She knew the store's bright lights would make ...   \n",
       "51889             His nephew said that was not possible.   \n",
       "51890    Angie drove to the hotel where she was staying.   \n",
       "\n",
       "                                              selection3  label  \n",
       "0                   Sarah hated to keep her house clean.      3  \n",
       "1      He spent the rest of the day on the bunny slopes.      3  \n",
       "2      When he uploaded the video, he titled it The J...      3  \n",
       "3      But she hated the taste, no matter what flavor...      3  \n",
       "4        She was about to give up and not get the pizza.      1  \n",
       "...                                                  ...    ...  \n",
       "51886  I went to a Korean barbecue restaurant with so...      0  \n",
       "51887  When the bus made a wide turn, a water bottle ...      1  \n",
       "51888  When Tameka's kid turned 18, she filed a libel...      0  \n",
       "51889            They bought pizza for the kids instead.      3  \n",
       "51890  We still do not know how the frog ended up in ...      2  \n",
       "\n",
       "[51891 rows x 7 columns]"
      ]
     },
     "execution_count": 15,
     "metadata": {},
     "output_type": "execute_result"
    }
   ],
   "source": [
    "testDatasetProcessed.to_csv(f'./dataset/4Select-{fileTag}-test.csv')\n",
    "testDatasetProcessed"
   ]
  },
  {
   "cell_type": "markdown",
   "id": "0a7283c1-d83e-4369-b5e4-6c2e09d654ac",
   "metadata": {},
   "source": [
    "# load dataset"
   ]
  },
  {
   "cell_type": "code",
   "execution_count": 41,
   "id": "828a5092-83e6-4580-99c9-bd9ec434708f",
   "metadata": {},
   "outputs": [],
   "source": [
    "from datasets import load_dataset, load_metric"
   ]
  },
  {
   "cell_type": "code",
   "execution_count": 42,
   "id": "05151e3b-0bec-44f4-bf0a-ac58cddbf838",
   "metadata": {
    "scrolled": true
   },
   "outputs": [
    {
     "name": "stderr",
     "output_type": "stream",
     "text": [
      "Using custom data configuration default-58503371b4ef80cf\n"
     ]
    },
    {
     "name": "stdout",
     "output_type": "stream",
     "text": [
      "Downloading and preparing dataset csv/default to C:\\Users\\JAM_0\\.cache\\huggingface\\datasets\\csv\\default-58503371b4ef80cf\\0.0.0\\433e0ccc46f9880962cc2b12065189766fbb2bee57a221866138fb9203c83519...\n"
     ]
    },
    {
     "data": {
      "application/vnd.jupyter.widget-view+json": {
       "model_id": "f50b00ff51ba4788a8146f44fb4a3c62",
       "version_major": 2,
       "version_minor": 0
      },
      "text/plain": [
       "Downloading data files:   0%|          | 0/2 [00:00<?, ?it/s]"
      ]
     },
     "metadata": {},
     "output_type": "display_data"
    },
    {
     "data": {
      "application/vnd.jupyter.widget-view+json": {
       "model_id": "eb1dce3bd74b4996964f46e79fa3807b",
       "version_major": 2,
       "version_minor": 0
      },
      "text/plain": [
       "Extracting data files:   0%|          | 0/2 [00:00<?, ?it/s]"
      ]
     },
     "metadata": {},
     "output_type": "display_data"
    },
    {
     "name": "stdout",
     "output_type": "stream",
     "text": [
      "Dataset csv downloaded and prepared to C:\\Users\\JAM_0\\.cache\\huggingface\\datasets\\csv\\default-58503371b4ef80cf\\0.0.0\\433e0ccc46f9880962cc2b12065189766fbb2bee57a221866138fb9203c83519. Subsequent calls will reuse this data.\n"
     ]
    },
    {
     "data": {
      "application/vnd.jupyter.widget-view+json": {
       "model_id": "4aadbe95b5834d2b8cbd7783fc3766ce",
       "version_major": 2,
       "version_minor": 0
      },
      "text/plain": [
       "  0%|          | 0/2 [00:00<?, ?it/s]"
      ]
     },
     "metadata": {},
     "output_type": "display_data"
    }
   ],
   "source": [
    "dataset = load_dataset('csv', data_files={'train': f'./dataset/4Select-{fileTag}-train.csv', \n",
    "                                           'test': f'./dataset/4Select-{fileTag}-test.csv'})"
   ]
  },
  {
   "cell_type": "code",
   "execution_count": 43,
   "id": "d776c270-7752-4445-ba6c-eb078f71eccc",
   "metadata": {},
   "outputs": [
    {
     "data": {
      "text/plain": [
       "DatasetDict({\n",
       "    train: Dataset({\n",
       "        features: ['Unnamed: 0', 'emotion', 'plutchik', 'selection0', 'selection1', 'selection2', 'selection3', 'label'],\n",
       "        num_rows: 42954\n",
       "    })\n",
       "    test: Dataset({\n",
       "        features: ['Unnamed: 0', 'emotion', 'plutchik', 'selection0', 'selection1', 'selection2', 'selection3', 'label'],\n",
       "        num_rows: 43195\n",
       "    })\n",
       "})"
      ]
     },
     "execution_count": 43,
     "metadata": {},
     "output_type": "execute_result"
    }
   ],
   "source": [
    "dataset"
   ]
  },
  {
   "cell_type": "code",
   "execution_count": 44,
   "id": "a1c79159-f795-4d02-b052-94f04286d53c",
   "metadata": {},
   "outputs": [
    {
     "data": {
      "text/plain": [
       "{'Unnamed: 0': 0,\n",
       " 'emotion': \"['afraid']\",\n",
       " 'plutchik': \"{'joy': 0, 'trust': 0, 'fear': 3, 'surprise': 3, 'sadness': 0, 'disgust': 3, 'anger': 3, 'anticipation': 3}\",\n",
       " 'selection0': 'Kate turned around in a huff and finished her assignment.',\n",
       " 'selection1': 'Mike walked across a police officer parked on the side of the road.',\n",
       " 'selection2': 'Jeffrey has become one of my best friends!',\n",
       " 'selection3': 'The baby chickens seemed to be disappearing overnight.',\n",
       " 'label': 3}"
      ]
     },
     "execution_count": 44,
     "metadata": {},
     "output_type": "execute_result"
    }
   ],
   "source": [
    "dataset['test'][0]"
   ]
  },
  {
   "cell_type": "code",
   "execution_count": 62,
   "id": "1f6ad67d-b4cb-4f65-a9cb-d2d665deec1f",
   "metadata": {},
   "outputs": [],
   "source": [
    "def show_one(example):\n",
    "    print(f\"Context: {example['emotion']}\")\n",
    "    print(f\"  A - {example['selection0']}\")\n",
    "    print(f\"  B - {example['selection1']}\")\n",
    "    print(f\"  C - {example['selection2']}\")\n",
    "    print(f\"  D - {example['selection3']}\")\n",
    "    print(f\"\\nGround truth: option {['A', 'B', 'C', 'D'][example['label']]}\")"
   ]
  },
  {
   "cell_type": "code",
   "execution_count": 69,
   "id": "15cd7cfb-748a-4fe7-8152-7debf6a65ead",
   "metadata": {},
   "outputs": [
    {
     "name": "stdout",
     "output_type": "stream",
     "text": [
      "Context: []\n",
      "  A - She put all the ingredients together and got to work.\n",
      "  B - My friend told me my face was dirty.\n",
      "  C - She preferred to talk to boys and skip class.\n",
      "  D - She loved his witty plays.\n",
      "\n",
      "Ground truth: option D\n"
     ]
    }
   ],
   "source": [
    "show_one(dataset[\"train\"][2])"
   ]
  },
  {
   "cell_type": "markdown",
   "id": "5da93346-1037-41ed-b67d-91877fa8c0ec",
   "metadata": {},
   "source": [
    "# Preprocessing Data"
   ]
  },
  {
   "cell_type": "code",
   "execution_count": 49,
   "id": "3da78c12-9aff-4beb-a006-e287bbf61023",
   "metadata": {},
   "outputs": [],
   "source": [
    "from transformers import AutoTokenizer\n",
    "    \n",
    "tokenizer = AutoTokenizer.from_pretrained(model_checkpoint, use_fast=True)"
   ]
  },
  {
   "cell_type": "code",
   "execution_count": 50,
   "id": "caffe397-a65d-478f-b966-7b910fb2edd7",
   "metadata": {},
   "outputs": [],
   "source": [
    "selectionList = [\"selection0\", \"selection1\", \"selection2\", \"selection3\"]\n",
    "\n",
    "def preprocess_function(examples):\n",
    "    # Repeat each first sentence four times to go with the four possibilities of second sentences.\n",
    "    first_sentences = [[\"The following sentences contain emotions: {}\".format(context.strip(\"[\").strip(\"]\").replace('\\'', '')) ]*4 for context in examples[\"emotion\"]]\n",
    "    # Grab all second sentences possible for each context.\n",
    "    second_sentences = [[examples[selection][index] for selection in selectionList] for index in range(len(examples['selection0']))]\n",
    "\n",
    "    # Flatten everything\n",
    "    first_sentences = sum(first_sentences, [])\n",
    "    second_sentences = sum(second_sentences, [])\n",
    "    \n",
    "    # Tokenize\n",
    "    tokenized_examples = tokenizer(first_sentences, second_sentences, truncation=True)\n",
    "    # Un-flatten\n",
    "    # print(tokenized_examples.items())\n",
    "    return {k: [v[i:i+4] for i in range(0, len(v), 4)] for k, v in tokenized_examples.items()}"
   ]
  },
  {
   "cell_type": "code",
   "execution_count": 51,
   "id": "0afb4841-ab69-4b91-8859-fd249badb923",
   "metadata": {},
   "outputs": [
    {
     "name": "stdout",
     "output_type": "stream",
     "text": [
      "5 4 [18, 28, 23, 19]\n"
     ]
    }
   ],
   "source": [
    "examples = dataset[\"train\"][:5]\n",
    "features = preprocess_function(examples)\n",
    "print(len(features[\"input_ids\"]), len(features[\"input_ids\"][0]), [len(x) for x in features[\"input_ids\"][0]])"
   ]
  },
  {
   "cell_type": "code",
   "execution_count": 52,
   "id": "903e2891-0e3d-4e87-b98a-727eaf36417a",
   "metadata": {},
   "outputs": [
    {
     "data": {
      "text/plain": [
       "['<s>The following sentences contain emotions: embarrassed</s></s>Cindy is very tired.</s>',\n",
       " \"<s>The following sentences contain emotions: embarrassed</s></s>He uses earplugs and white noise to cope, but it isn't enough.</s>\",\n",
       " '<s>The following sentences contain emotions: embarrassed</s></s>She knew that she did it wrong because her sister laughed.</s>',\n",
       " '<s>The following sentences contain emotions: enthusiastic</s></s>I picked some flowers from the garden by the store.</s>',\n",
       " '<s>The following sentences contain emotions: enthusiastic</s></s>Brock loves cars.</s>',\n",
       " '<s>The following sentences contain emotions: enthusiastic</s></s>Jim brought his empty bucket back into his house for next week.</s>',\n",
       " '<s>The following sentences contain emotions: </s></s>She put all the ingredients together and got to work.</s>',\n",
       " '<s>The following sentences contain emotions: </s></s>My friend told me my face was dirty.</s>',\n",
       " '<s>The following sentences contain emotions: </s></s>She preferred to talk to boys and skip class.</s>',\n",
       " '<s>The following sentences contain emotions: guilty</s></s>He held me on his lap, but I kept getting down.</s>',\n",
       " '<s>The following sentences contain emotions: guilty</s></s>She told me that no matter what she enjoyed herself.</s>',\n",
       " \"<s>The following sentences contain emotions: guilty</s></s>He called Anne and apologized, adding he'd met someone else.</s>\",\n",
       " '<s>The following sentences contain emotions: calm</s></s>Jasper noticed that after a day of hard work his feet always hurt.</s>',\n",
       " '<s>The following sentences contain emotions: calm</s></s>She was offered a babysitting job for $40 a week.</s>',\n",
       " '<s>The following sentences contain emotions: calm</s></s>David decided to walk to a park.</s>']"
      ]
     },
     "execution_count": 52,
     "metadata": {},
     "output_type": "execute_result"
    }
   ],
   "source": [
    "[tokenizer.decode(features[\"input_ids\"][a][i]) for a in range(5) for i in range(4) ]"
   ]
  },
  {
   "cell_type": "code",
   "execution_count": 54,
   "id": "4a286ba6-cb84-4619-b842-780124d26a4a",
   "metadata": {},
   "outputs": [
    {
     "data": {
      "application/vnd.jupyter.widget-view+json": {
       "model_id": "392d520e4e03425aa54fd2f0a03f459c",
       "version_major": 2,
       "version_minor": 0
      },
      "text/plain": [
       "  0%|          | 0/43 [00:00<?, ?ba/s]"
      ]
     },
     "metadata": {},
     "output_type": "display_data"
    },
    {
     "data": {
      "application/vnd.jupyter.widget-view+json": {
       "model_id": "e65687e9817342a5b1f1420bc2c13b18",
       "version_major": 2,
       "version_minor": 0
      },
      "text/plain": [
       "  0%|          | 0/44 [00:00<?, ?ba/s]"
      ]
     },
     "metadata": {},
     "output_type": "display_data"
    }
   ],
   "source": [
    "encoded_datasets = dataset.map(preprocess_function, batched=True)"
   ]
  },
  {
   "cell_type": "markdown",
   "id": "7f496be7-4673-4520-b30e-656cd5640b34",
   "metadata": {},
   "source": [
    "# Fine-tuning the model"
   ]
  },
  {
   "cell_type": "code",
   "execution_count": 55,
   "id": "7706d875-3a89-4e52-9f08-c77256b621ca",
   "metadata": {},
   "outputs": [
    {
     "name": "stderr",
     "output_type": "stream",
     "text": [
      "Some weights of the model checkpoint at roberta-base were not used when initializing RobertaForMultipleChoice: ['lm_head.layer_norm.bias', 'lm_head.bias', 'lm_head.decoder.weight', 'lm_head.dense.bias', 'lm_head.layer_norm.weight', 'lm_head.dense.weight']\n",
      "- This IS expected if you are initializing RobertaForMultipleChoice from the checkpoint of a model trained on another task or with another architecture (e.g. initializing a BertForSequenceClassification model from a BertForPreTraining model).\n",
      "- This IS NOT expected if you are initializing RobertaForMultipleChoice from the checkpoint of a model that you expect to be exactly identical (initializing a BertForSequenceClassification model from a BertForSequenceClassification model).\n",
      "Some weights of RobertaForMultipleChoice were not initialized from the model checkpoint at roberta-base and are newly initialized: ['classifier.weight', 'classifier.bias']\n",
      "You should probably TRAIN this model on a down-stream task to be able to use it for predictions and inference.\n"
     ]
    }
   ],
   "source": [
    "from transformers import AutoModelForMultipleChoice, TrainingArguments, Trainer\n",
    "\n",
    "model = AutoModelForMultipleChoice.from_pretrained(model_checkpoint)"
   ]
  },
  {
   "cell_type": "code",
   "execution_count": 56,
   "id": "2cd7be65-ebd8-43db-bcbf-a87d7e2342e4",
   "metadata": {},
   "outputs": [],
   "source": [
    "model_name = model_checkpoint.split(\"/\")[-1]\n",
    "args = TrainingArguments(\n",
    "    f\"{model_name}-finetuned-emotionCommonsense\",\n",
    "    evaluation_strategy = \"epoch\",\n",
    "    #learning_rate=5e-5, # for bert-base\n",
    "    learning_rate=5e-7, # for roberta-base\n",
    "    # learning_rate=1e-3,\n",
    "    per_device_train_batch_size=batch_size,\n",
    "    per_device_eval_batch_size=batch_size,\n",
    "    num_train_epochs=num_epochs,\n",
    "    weight_decay=0.01,\n",
    "    push_to_hub=False,\n",
    ")"
   ]
  },
  {
   "cell_type": "code",
   "execution_count": 57,
   "id": "2737e04e-19c2-407d-8ce1-06b675f208c6",
   "metadata": {},
   "outputs": [],
   "source": [
    "from dataclasses import dataclass\n",
    "from transformers.tokenization_utils_base import PreTrainedTokenizerBase, PaddingStrategy\n",
    "from typing import Optional, Union\n",
    "import torch\n",
    "\n",
    "@dataclass\n",
    "class DataCollatorForMultipleChoice:\n",
    "    \"\"\"\n",
    "    Data collator that will dynamically pad the inputs for multiple choice received.\n",
    "    \"\"\"\n",
    "\n",
    "    tokenizer: PreTrainedTokenizerBase\n",
    "    padding: Union[bool, str, PaddingStrategy] = True\n",
    "    max_length: Optional[int] = None\n",
    "    pad_to_multiple_of: Optional[int] = None\n",
    "\n",
    "    def __call__(self, features):\n",
    "        label_name = \"label\" if \"label\" in features[0].keys() else \"labels\"\n",
    "        labels = [feature.pop(label_name) for feature in features]\n",
    "        batch_size = len(features)\n",
    "        num_choices = len(features[0][\"input_ids\"])\n",
    "        flattened_features = [[{k: v[i] for k, v in feature.items()} for i in range(num_choices)] for feature in features]\n",
    "        flattened_features = sum(flattened_features, [])\n",
    "        \n",
    "        batch = self.tokenizer.pad(\n",
    "            flattened_features,\n",
    "            padding=self.padding,\n",
    "            max_length=self.max_length,\n",
    "            pad_to_multiple_of=self.pad_to_multiple_of,\n",
    "            return_tensors=\"pt\",\n",
    "        )\n",
    "        \n",
    "        # Un-flatten\n",
    "        batch = {k: v.view(batch_size, num_choices, -1) for k, v in batch.items()}\n",
    "        # Add back labels\n",
    "        batch[\"labels\"] = torch.tensor(labels, dtype=torch.int64)\n",
    "        return batch"
   ]
  },
  {
   "cell_type": "code",
   "execution_count": 58,
   "id": "03a0ec05-de5e-434f-b07c-63212e7c7f2c",
   "metadata": {},
   "outputs": [],
   "source": [
    "accepted_keys = [\"input_ids\", \"attention_mask\", \"label\"]\n",
    "features = [{k: v for k, v in encoded_datasets[\"train\"][i].items() if k in accepted_keys} for i in range(10)]\n",
    "batch = DataCollatorForMultipleChoice(tokenizer)(features)"
   ]
  },
  {
   "cell_type": "code",
   "execution_count": 60,
   "id": "45f7f26c-04bb-42ae-8627-897ced69888e",
   "metadata": {},
   "outputs": [
    {
     "data": {
      "text/plain": [
       "['<s>The following sentences contain emotions: annoyed</s></s>They walked into every nearby building, but there were no bathrooms.</s><pad><pad><pad><pad>',\n",
       " '<s>The following sentences contain emotions: annoyed</s></s>He spent every minute of his free time working on the car.</s><pad><pad><pad><pad>',\n",
       " '<s>The following sentences contain emotions: annoyed</s></s>Everyone else was full from their meal, but Chris remained hungry.</s><pad><pad><pad><pad>',\n",
       " '<s>The following sentences contain emotions: annoyed</s></s>Last week he finally asked her out to dinner.</s><pad><pad><pad><pad><pad><pad><pad>']"
      ]
     },
     "execution_count": 60,
     "metadata": {},
     "output_type": "execute_result"
    }
   ],
   "source": [
    "[tokenizer.decode(batch[\"input_ids\"][8][i].tolist()) for i in range(4)]"
   ]
  },
  {
   "cell_type": "code",
   "execution_count": 61,
   "id": "c4b55256-30fa-4e30-a3a4-66fe1114b941",
   "metadata": {},
   "outputs": [
    {
     "name": "stdout",
     "output_type": "stream",
     "text": [
      "Context: ['annoyed']\n",
      "  A - They walked into every nearby building, but there were no bathrooms.\n",
      "  B - He spent every minute of his free time working on the car.\n",
      "  C - Everyone else was full from their meal, but Chris remained hungry.\n",
      "\n",
      "Ground truth: option C\n"
     ]
    }
   ],
   "source": [
    "show_one(dataset[\"train\"][8])"
   ]
  },
  {
   "cell_type": "markdown",
   "id": "eb8305d3-8dc9-4d0f-8628-f51dc356c2d2",
   "metadata": {},
   "source": [
    "# Trainer Defined"
   ]
  },
  {
   "cell_type": "code",
   "execution_count": 78,
   "id": "b707863a-bc16-43b0-b633-c7ffb4fa72e5",
   "metadata": {},
   "outputs": [],
   "source": [
    "import numpy as np\n",
    "\n",
    "valStored = []\n",
    "def compute_metrics(eval_predictions):\n",
    "    predictions, label_ids = eval_predictions\n",
    "    preds = np.argmax(predictions, axis=1)\n",
    "    valStored.append((preds != label_ids).astype(np.float32));\n",
    "    return {\"accuracy\": (preds == label_ids).astype(np.float32).mean().item()}"
   ]
  },
  {
   "cell_type": "code",
   "execution_count": 79,
   "id": "b115c1ba-323a-47d5-bb9d-55de985f13b9",
   "metadata": {},
   "outputs": [],
   "source": [
    "trainer = Trainer(\n",
    "    model,\n",
    "    args,\n",
    "    train_dataset=encoded_datasets[\"train\"],\n",
    "    eval_dataset=encoded_datasets[\"test\"],\n",
    "    tokenizer=tokenizer,\n",
    "    data_collator=DataCollatorForMultipleChoice(tokenizer),\n",
    "    compute_metrics=compute_metrics,\n",
    ")"
   ]
  },
  {
   "cell_type": "code",
   "execution_count": 80,
   "id": "df5a83ea",
   "metadata": {},
   "outputs": [
    {
     "name": "stdout",
     "output_type": "stream",
     "text": [
      "Fri Jun 17 05:08:35 2022       \n",
      "+-----------------------------------------------------------------------------+\n",
      "| NVIDIA-SMI 511.23       Driver Version: 511.23       CUDA Version: 11.6     |\n",
      "|-------------------------------+----------------------+----------------------+\n",
      "| GPU  Name            TCC/WDDM | Bus-Id        Disp.A | Volatile Uncorr. ECC |\n",
      "| Fan  Temp  Perf  Pwr:Usage/Cap|         Memory-Usage | GPU-Util  Compute M. |\n",
      "|                               |                      |               MIG M. |\n",
      "|===============================+======================+======================|\n",
      "|   0  NVIDIA GeForce ... WDDM  | 00000000:09:00.0  On |                  N/A |\n",
      "| 30%   40C    P2    68W / 350W |  13376MiB / 24576MiB |      8%      Default |\n",
      "|                               |                      |                  N/A |\n",
      "+-------------------------------+----------------------+----------------------+\n",
      "                                                                               \n",
      "+-----------------------------------------------------------------------------+\n",
      "| Processes:                                                                  |\n",
      "|  GPU   GI   CI        PID   Type   Process name                  GPU Memory |\n",
      "|        ID   ID                                                   Usage      |\n",
      "|=============================================================================|\n",
      "|    0   N/A  N/A      1256    C+G   ...ty\\Common7\\IDE\\devenv.exe    N/A      |\n",
      "|    0   N/A  N/A      1372    C+G   ...lack\\app-4.26.2\\slack.exe    N/A      |\n",
      "|    0   N/A  N/A      4012    C+G   D:\\osu!\\osu!.exe                N/A      |\n",
      "|    0   N/A  N/A      4972    C+G   ...5n1h2txyewy\\SearchApp.exe    N/A      |\n",
      "|    0   N/A  N/A      6048    C+G   ...artMenuExperienceHost.exe    N/A      |\n",
      "|    0   N/A  N/A      6088    C+G   ...\\LeagueClientUxRender.exe    N/A      |\n",
      "|    0   N/A  N/A      7976    C+G   ...n\\AcPowerNotification.exe    N/A      |\n",
      "|    0   N/A  N/A      8968    C+G   ...perience\\NVIDIA Share.exe    N/A      |\n",
      "|    0   N/A  N/A      9292    C+G   ...8bbwe\\Microsoft.Notes.exe    N/A      |\n",
      "|    0   N/A  N/A     13656    C+G   ...wAgent\\ArmourySwAgent.exe    N/A      |\n",
      "|    0   N/A  N/A     16308    C+G   ...2txyewy\\TextInputHost.exe    N/A      |\n",
      "|    0   N/A  N/A     17172    C+G   ...\\app-1.0.9004\\Discord.exe    N/A      |\n",
      "|    0   N/A  N/A     17216    C+G   ...8wekyb3d8bbwe\\GameBar.exe    N/A      |\n",
      "|    0   N/A  N/A     20024      C   ...vs\\story_cloze\\python.exe    N/A      |\n",
      "|    0   N/A  N/A     20900    C+G   ...in7x64\\steamwebhelper.exe    N/A      |\n",
      "|    0   N/A  N/A     22836    C+G   ...er_engine\\wallpaper32.exe    N/A      |\n",
      "|    0   N/A  N/A     25156    C+G   ...p-3.0.1\\GitHubDesktop.exe    N/A      |\n",
      "|    0   N/A  N/A     25772    C+G                                   N/A      |\n",
      "|    0   N/A  N/A     26752    C+G   C:\\Windows\\explorer.exe         N/A      |\n",
      "|    0   N/A  N/A     27196    C+G   ...me\\Application\\chrome.exe    N/A      |\n",
      "|    0   N/A  N/A     28552    C+G   ...tracted\\WechatBrowser.exe    N/A      |\n",
      "|    0   N/A  N/A     30244    C+G   ...bbwe\\Microsoft.Photos.exe    N/A      |\n",
      "|    0   N/A  N/A     30428    C+G   ...5n1h2txyewy\\SearchApp.exe    N/A      |\n",
      "|    0   N/A  N/A     31312    C+G   ...y\\ShellExperienceHost.exe    N/A      |\n",
      "|    0   N/A  N/A     32220    C+G   ...n64\\EpicGamesLauncher.exe    N/A      |\n",
      "|    0   N/A  N/A     35748    C+G   ...perience\\NVIDIA Share.exe    N/A      |\n",
      "+-----------------------------------------------------------------------------+\n"
     ]
    }
   ],
   "source": [
    "!nvidia-smi"
   ]
  },
  {
   "cell_type": "code",
   "execution_count": 81,
   "id": "2fe74f7d",
   "metadata": {},
   "outputs": [
    {
     "name": "stdout",
     "output_type": "stream",
     "text": [
      "Using device: cuda\n",
      "\n",
      "NVIDIA GeForce RTX 3090\n",
      "Memory Usage:\n",
      "Allocated: 0.5 GB\n",
      "Cached:    7.6 GB\n"
     ]
    }
   ],
   "source": [
    "device = torch.device('cuda' if torch.cuda.is_available() else 'cpu')\n",
    "print('Using device:', device)\n",
    "print()\n",
    "\n",
    "#Additional Info when using cuda\n",
    "if device.type == 'cuda':\n",
    "    print(torch.cuda.get_device_name(0))\n",
    "    print('Memory Usage:')\n",
    "    print('Allocated:', round(torch.cuda.memory_allocated(0)/1024**3,1), 'GB')\n",
    "    print('Cached:   ', round(torch.cuda.memory_reserved(0)/1024**3,1), 'GB')"
   ]
  },
  {
   "cell_type": "code",
   "execution_count": 82,
   "id": "2a5e3430-bbd6-484d-8a8d-9cbcdba37d6e",
   "metadata": {},
   "outputs": [
    {
     "data": {
      "text/html": [
       "\n",
       "    <div>\n",
       "      \n",
       "      <progress value='42960' max='42960' style='width:300px; height:20px; vertical-align: middle;'></progress>\n",
       "      [42960/42960 53:59, Epoch 16/16]\n",
       "    </div>\n",
       "    <table border=\"1\" class=\"dataframe\">\n",
       "  <thead>\n",
       "    <tr style=\"text-align: left;\">\n",
       "      <th>Epoch</th>\n",
       "      <th>Training Loss</th>\n",
       "      <th>Validation Loss</th>\n",
       "      <th>Accuracy</th>\n",
       "    </tr>\n",
       "  </thead>\n",
       "  <tbody>\n",
       "    <tr>\n",
       "      <td>1</td>\n",
       "      <td>0.678000</td>\n",
       "      <td>0.591944</td>\n",
       "      <td>0.716912</td>\n",
       "    </tr>\n",
       "    <tr>\n",
       "      <td>2</td>\n",
       "      <td>0.549700</td>\n",
       "      <td>0.479495</td>\n",
       "      <td>0.779905</td>\n",
       "    </tr>\n",
       "    <tr>\n",
       "      <td>3</td>\n",
       "      <td>0.482700</td>\n",
       "      <td>0.457887</td>\n",
       "      <td>0.789698</td>\n",
       "    </tr>\n",
       "    <tr>\n",
       "      <td>4</td>\n",
       "      <td>0.471500</td>\n",
       "      <td>0.438942</td>\n",
       "      <td>0.795995</td>\n",
       "    </tr>\n",
       "    <tr>\n",
       "      <td>5</td>\n",
       "      <td>0.460800</td>\n",
       "      <td>0.432413</td>\n",
       "      <td>0.799722</td>\n",
       "    </tr>\n",
       "    <tr>\n",
       "      <td>6</td>\n",
       "      <td>0.434800</td>\n",
       "      <td>0.434317</td>\n",
       "      <td>0.801181</td>\n",
       "    </tr>\n",
       "    <tr>\n",
       "      <td>7</td>\n",
       "      <td>0.444400</td>\n",
       "      <td>0.429941</td>\n",
       "      <td>0.804213</td>\n",
       "    </tr>\n",
       "    <tr>\n",
       "      <td>8</td>\n",
       "      <td>0.433400</td>\n",
       "      <td>0.425862</td>\n",
       "      <td>0.805510</td>\n",
       "    </tr>\n",
       "    <tr>\n",
       "      <td>9</td>\n",
       "      <td>0.417800</td>\n",
       "      <td>0.425906</td>\n",
       "      <td>0.806945</td>\n",
       "    </tr>\n",
       "    <tr>\n",
       "      <td>10</td>\n",
       "      <td>0.420700</td>\n",
       "      <td>0.425732</td>\n",
       "      <td>0.808265</td>\n",
       "    </tr>\n",
       "    <tr>\n",
       "      <td>11</td>\n",
       "      <td>0.412100</td>\n",
       "      <td>0.424108</td>\n",
       "      <td>0.808219</td>\n",
       "    </tr>\n",
       "    <tr>\n",
       "      <td>12</td>\n",
       "      <td>0.410800</td>\n",
       "      <td>0.425482</td>\n",
       "      <td>0.809168</td>\n",
       "    </tr>\n",
       "    <tr>\n",
       "      <td>13</td>\n",
       "      <td>0.410100</td>\n",
       "      <td>0.422600</td>\n",
       "      <td>0.809307</td>\n",
       "    </tr>\n",
       "    <tr>\n",
       "      <td>14</td>\n",
       "      <td>0.408000</td>\n",
       "      <td>0.421005</td>\n",
       "      <td>0.809561</td>\n",
       "    </tr>\n",
       "    <tr>\n",
       "      <td>15</td>\n",
       "      <td>0.402000</td>\n",
       "      <td>0.422161</td>\n",
       "      <td>0.809747</td>\n",
       "    </tr>\n",
       "    <tr>\n",
       "      <td>16</td>\n",
       "      <td>0.410000</td>\n",
       "      <td>0.422460</td>\n",
       "      <td>0.810117</td>\n",
       "    </tr>\n",
       "  </tbody>\n",
       "</table><p>"
      ],
      "text/plain": [
       "<IPython.core.display.HTML object>"
      ]
     },
     "metadata": {},
     "output_type": "display_data"
    },
    {
     "data": {
      "text/plain": [
       "TrainOutput(global_step=42960, training_loss=0.45674537289298, metrics={'train_runtime': 3240.1255, 'train_samples_per_second': 13.259, 'total_flos': 312197353314264.0, 'epoch': 16.0})"
      ]
     },
     "execution_count": 82,
     "metadata": {},
     "output_type": "execute_result"
    }
   ],
   "source": [
    "trainer.train()"
   ]
  },
  {
   "cell_type": "markdown",
   "id": "32a17948-a8f7-4450-b2b0-8a7016e91391",
   "metadata": {},
   "source": [
    "出现validation loss 上升情况大多是训练集验证集数据分布不一致，或者训练集过小，未包含验证集中所有情况，\n",
    "也就是过拟合导致的。而解决这种现象可以尝试以下几种策略：\n",
    "1. 增加训练样本增加正则项系数权重，\n",
    "2. 减小过拟合加入早停机制，ValLoss上升几个epoch直接停止\n",
    "3. 采用Focal Loss\n",
    "4. 加入Label Smoothing"
   ]
  },
  {
   "cell_type": "markdown",
   "id": "b73d6ab3-33ac-4e8e-99ee-3c3f17d71642",
   "metadata": {},
   "source": [
    "# Store Value"
   ]
  },
  {
   "cell_type": "code",
   "execution_count": 56,
   "id": "c30271fe-7ce9-43e8-9e87-de8d6ae2c2c0",
   "metadata": {},
   "outputs": [
    {
     "data": {
      "text/plain": [
       "<matplotlib.collections.QuadMesh at 0x146c6775f40>"
      ]
     },
     "execution_count": 56,
     "metadata": {},
     "output_type": "execute_result"
    },
    {
     "data": {
      "image/png": "[encoded data removed]",
      "text/plain": [
       "<Figure size 432x288 with 1 Axes>"
      ]
     },
     "metadata": {
      "needs_background": "light"
     },
     "output_type": "display_data"
    }
   ],
   "source": [
    "import matplotlib.pyplot as plt\n",
    "import numpy as np\n",
    "import matplotlib\n",
    "\n",
    "Z = np.transpose(valStored)\n",
    "\n",
    "fig, ax = plt.subplots()\n",
    "ax.pcolormesh(Z)"
   ]
  },
  {
   "cell_type": "code",
   "execution_count": 57,
   "id": "5e77d30e-e51a-45a6-9130-83a17c4d2219",
   "metadata": {},
   "outputs": [],
   "source": [
    "import pandas as pd\n",
    "\n",
    "dataLog = pd.DataFrame(trainer.state.log_history)\n",
    "dataLog.to_csv(f'./trainingMetric/[Emotion] 4Select/TI-{model_checkpoint}-{fileTag}.csv')"
   ]
  },
  {
   "cell_type": "code",
   "execution_count": 58,
   "id": "c90cfec4-96ec-46c8-a99f-3c78b989b862",
   "metadata": {},
   "outputs": [],
   "source": [
    "evaluationIterationResult = pd.DataFrame(np.transpose(valStored))\n",
    "evaluationIterationResult.to_csv(f'./trainingMetric/[Emotion] 4Select/ESI-{model_checkpoint}-{fileTag}.csv')"
   ]
  },
  {
   "cell_type": "code",
   "execution_count": null,
   "id": "6fd7f330-1477-4119-a9dc-1ebb7acb7665",
   "metadata": {},
   "outputs": [],
   "source": []
  }
 ],
 "metadata": {
  "kernelspec": {
   "display_name": "pytorchEnvWithDataSci",
   "language": "python",
   "name": "pytorchenvwithdatasci"
  },
  "language_info": {
   "codemirror_mode": {
    "name": "ipython",
    "version": 3
   },
   "file_extension": ".py",
   "mimetype": "text/x-python",
   "name": "python",
   "nbconvert_exporter": "python",
   "pygments_lexer": "ipython3",
   "version": "3.8.13"
  }
 },
 "nbformat": 4,
 "nbformat_minor": 5
}
