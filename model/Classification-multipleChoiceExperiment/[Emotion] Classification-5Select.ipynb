{
 "cells": [
  {
   "cell_type": "code",
   "execution_count": 1,
   "id": "d1615a8a-9813-4956-b4ed-33ef2ea30723",
   "metadata": {},
   "outputs": [
    {
     "data": {
      "text/plain": [
       "'roberta-base'"
      ]
     },
     "execution_count": 1,
     "metadata": {},
     "output_type": "execute_result"
    }
   ],
   "source": [
    "# global var set\n",
    "import transformers\n",
    "\n",
    "# model info, change as needed\n",
    "model_checkpoint = \"roberta-base\"\n",
    "batch_size = 16\n",
    "num_epochs = 16\n",
    "\n",
    "fileTag = \"clean-noCombin-v1\"\n",
    "\n",
    "model_checkpoint"
   ]
  },
  {
   "cell_type": "markdown",
   "id": "79b9d76f-5ed6-4ab9-8c62-f6d6a8b47be4",
   "metadata": {},
   "source": [
    "# Convert dataset to suitable format\n",
    "IMPORTANT: please never run this section again if you have your dataset ready!"
   ]
  },
  {
   "cell_type": "code",
   "execution_count": 2,
   "id": "a93a9f46-6703-4535-af96-8be1b5b3407f",
   "metadata": {},
   "outputs": [],
   "source": [
    "import pandas as pd\n",
    "from pandas import DataFrame\n",
    "\n",
    "trainDatasetOriginal = pd.read_csv(f'../../data/csv_version/dev/emotion/allcharlinepairs-{fileTag}.csv')\n",
    "testDatasetOriginal = pd.read_csv(f'../../data/csv_version/test/emotion/allcharlinepairs-{fileTag}.csv')"
   ]
  },
  {
   "cell_type": "code",
   "execution_count": 5,
   "id": "7265a797-adc2-49ed-b237-19abf9e0569f",
   "metadata": {},
   "outputs": [],
   "source": [
    "trainDatasetProcessed = DataFrame({'emotion' : trainDatasetOriginal['emotion'],\n",
    "                                   'plutchik' : trainDatasetOriginal['plutchik'],\n",
    "                                  'selection0': pd.concat([trainDatasetOriginal['sentence'][:trainDatasetOriginal.shape[0]//5], trainDatasetOriginal.sample(frac = 1).reset_index()['sentence'][trainDatasetOriginal.shape[0]//5:]]), \n",
    "                                  'selection1': pd.concat([trainDatasetOriginal.sample(frac = 1).reset_index()['sentence'][:trainDatasetOriginal.shape[0]//5], \n",
    "                                                pd.concat([trainDatasetOriginal['sentence'][trainDatasetOriginal.shape[0]//5:trainDatasetOriginal.shape[0]//5*2], \n",
    "                                                trainDatasetOriginal.sample(frac = 1).reset_index()['sentence'][trainDatasetOriginal.shape[0]//5*2:]])]), \n",
    "                                  'selection2': pd.concat([trainDatasetOriginal.sample(frac = 1).reset_index()['sentence'][:trainDatasetOriginal.shape[0]//5*2], \n",
    "                                                pd.concat([trainDatasetOriginal['sentence'][trainDatasetOriginal.shape[0]//5*2:trainDatasetOriginal.shape[0]//5*3], \n",
    "                                                trainDatasetOriginal.sample(frac = 1).reset_index()['sentence'][trainDatasetOriginal.shape[0]//5*3:]])]), \n",
    "                                  'selection3': pd.concat([trainDatasetOriginal.sample(frac = 1).reset_index()['sentence'][:trainDatasetOriginal.shape[0]//5*3], \n",
    "                                                pd.concat([trainDatasetOriginal['sentence'][trainDatasetOriginal.shape[0]//5*3:trainDatasetOriginal.shape[0]//5*4], \n",
    "                                                trainDatasetOriginal.sample(frac = 1).reset_index()['sentence'][trainDatasetOriginal.shape[0]//5*4:]])]),\n",
    "                                  'selection4': pd.concat([trainDatasetOriginal.sample(frac = 1).reset_index()['sentence'][:trainDatasetOriginal.shape[0]//5*4], \n",
    "                                                           trainDatasetOriginal['sentence'][trainDatasetOriginal.shape[0]//5*4:]]),\n",
    "                                  'label': pd.Series(0 if x < trainDatasetOriginal.shape[0]//5 else (1 if x < trainDatasetOriginal.shape[0]//5*2 \n",
    "                                                                                               else (2 if x < trainDatasetOriginal.shape[0]//5*3 \n",
    "                                                                                               else (3 if x < trainDatasetOriginal.shape[0]//5*4\n",
    "                                                                                               else  4))) for x in trainDatasetOriginal.index)}).sample(frac=1).reset_index(drop=True)\n",
    "\n",
    "testDatasetProcessed = DataFrame({'emotion' : testDatasetOriginal['emotion'],\n",
    "                                   'plutchik' : testDatasetOriginal['plutchik'],\n",
    "                                  'selection0': pd.concat([testDatasetOriginal['sentence'][:testDatasetOriginal.shape[0]//5], testDatasetOriginal.sample(frac = 1).reset_index()['sentence'][testDatasetOriginal.shape[0]//5:]]), \n",
    "                                  'selection1': pd.concat([testDatasetOriginal.sample(frac = 1).reset_index()['sentence'][:testDatasetOriginal.shape[0]//5], \n",
    "                                                pd.concat([testDatasetOriginal['sentence'][testDatasetOriginal.shape[0]//5:testDatasetOriginal.shape[0]//5*2], \n",
    "                                                testDatasetOriginal.sample(frac = 1).reset_index()['sentence'][testDatasetOriginal.shape[0]//5*2:]])]), \n",
    "                                  'selection2': pd.concat([testDatasetOriginal.sample(frac = 1).reset_index()['sentence'][:testDatasetOriginal.shape[0]//5*2], \n",
    "                                                pd.concat([testDatasetOriginal['sentence'][testDatasetOriginal.shape[0]//5*2:testDatasetOriginal.shape[0]//5*3], \n",
    "                                                testDatasetOriginal.sample(frac = 1).reset_index()['sentence'][testDatasetOriginal.shape[0]//5*3:]])]), \n",
    "                                  'selection3': pd.concat([testDatasetOriginal.sample(frac = 1).reset_index()['sentence'][:testDatasetOriginal.shape[0]//5*3], \n",
    "                                                pd.concat([testDatasetOriginal['sentence'][testDatasetOriginal.shape[0]//5*3:testDatasetOriginal.shape[0]//5*4], \n",
    "                                                testDatasetOriginal.sample(frac = 1).reset_index()['sentence'][testDatasetOriginal.shape[0]//5*4:]])]),\n",
    "                                  'selection4': pd.concat([testDatasetOriginal.sample(frac = 1).reset_index()['sentence'][:testDatasetOriginal.shape[0]//5*4], \n",
    "                                                           testDatasetOriginal['sentence'][testDatasetOriginal.shape[0]//5*4:]]),\n",
    "                                  'label': pd.Series(0 if x < testDatasetOriginal.shape[0]//5 else (1 if x < testDatasetOriginal.shape[0]//5*2 \n",
    "                                                                                               else (2 if x < testDatasetOriginal.shape[0]//5*3 \n",
    "                                                                                               else (3 if x < testDatasetOriginal.shape[0]//5*4\n",
    "                                                                                               else  4))) for x in testDatasetOriginal.index)}).sample(frac=1).reset_index(drop=True)\n"
   ]
  },
  {
   "cell_type": "code",
   "execution_count": 7,
   "id": "19e3c334-b371-44ad-b6e1-7161f405b741",
   "metadata": {},
   "outputs": [
    {
     "data": {
      "text/html": [
       "<div>\n",
       "<style scoped>\n",
       "    .dataframe tbody tr th:only-of-type {\n",
       "        vertical-align: middle;\n",
       "    }\n",
       "\n",
       "    .dataframe tbody tr th {\n",
       "        vertical-align: top;\n",
       "    }\n",
       "\n",
       "    .dataframe thead th {\n",
       "        text-align: right;\n",
       "    }\n",
       "</style>\n",
       "<table border=\"1\" class=\"dataframe\">\n",
       "  <thead>\n",
       "    <tr style=\"text-align: right;\">\n",
       "      <th></th>\n",
       "      <th>emotion</th>\n",
       "      <th>plutchik</th>\n",
       "      <th>selection0</th>\n",
       "      <th>selection1</th>\n",
       "      <th>selection2</th>\n",
       "      <th>selection3</th>\n",
       "      <th>selection4</th>\n",
       "      <th>label</th>\n",
       "    </tr>\n",
       "  </thead>\n",
       "  <tbody>\n",
       "    <tr>\n",
       "      <th>0</th>\n",
       "      <td>['sad']</td>\n",
       "      <td>{'joy': 0, 'trust': 0, 'fear': 0, 'surprise': ...</td>\n",
       "      <td>He decided to sail it in the canal near his ho...</td>\n",
       "      <td>She made it home and disappointed her mother b...</td>\n",
       "      <td>She stood up quickly and knocked the bottle ov...</td>\n",
       "      <td>Cliff was recently divorced.</td>\n",
       "      <td>The wooden seat broke in half!</td>\n",
       "      <td>3</td>\n",
       "    </tr>\n",
       "    <tr>\n",
       "      <th>1</th>\n",
       "      <td>['happy']</td>\n",
       "      <td>{'joy': 3, 'trust': 3, 'fear': 0, 'surprise': ...</td>\n",
       "      <td>He spots a woman in trouble.</td>\n",
       "      <td>By the end of the evening, he turned out to be...</td>\n",
       "      <td>Her husband fell in love with it and they are ...</td>\n",
       "      <td>And my daughter rode on all the rides.</td>\n",
       "      <td>We got in the car and drove to the office.</td>\n",
       "      <td>3</td>\n",
       "    </tr>\n",
       "    <tr>\n",
       "      <th>2</th>\n",
       "      <td>['accomplished']</td>\n",
       "      <td>{'joy': 3, 'trust': 2, 'fear': 0, 'surprise': ...</td>\n",
       "      <td>I had to carry around a lot of cash, but I enj...</td>\n",
       "      <td>Marie decided to make chicken for dinner.</td>\n",
       "      <td>It was trying to steal my food.</td>\n",
       "      <td>He pulled in the driveway as I was finishing.</td>\n",
       "      <td>Chris got a job out of state and moved away tw...</td>\n",
       "      <td>1</td>\n",
       "    </tr>\n",
       "    <tr>\n",
       "      <th>3</th>\n",
       "      <td>['hopeful', 'determined']</td>\n",
       "      <td>{'joy': 0, 'trust': 0, 'fear': 0, 'surprise': ...</td>\n",
       "      <td>Recently, while depressed, he researched wealt...</td>\n",
       "      <td>Finally, I found the perfect ones, and promise...</td>\n",
       "      <td>He got tired after an hour and ran home to tak...</td>\n",
       "      <td>Zeke wanted to become the senator of Texas.</td>\n",
       "      <td>He caught sight of an assistant who looked jus...</td>\n",
       "      <td>3</td>\n",
       "    </tr>\n",
       "    <tr>\n",
       "      <th>4</th>\n",
       "      <td>['anticipation']</td>\n",
       "      <td>{'joy': 2, 'trust': 2, 'fear': 2, 'surprise': ...</td>\n",
       "      <td>They saw monkeys and snakes and birds.</td>\n",
       "      <td>The game was getting close and nerve racking.</td>\n",
       "      <td>Marsha was thrilled to have a new best friend ...</td>\n",
       "      <td>Tonight she came from NY and asked where Peter...</td>\n",
       "      <td>His wife convinced him to buy a cheap charcoal...</td>\n",
       "      <td>1</td>\n",
       "    </tr>\n",
       "    <tr>\n",
       "      <th>...</th>\n",
       "      <td>...</td>\n",
       "      <td>...</td>\n",
       "      <td>...</td>\n",
       "      <td>...</td>\n",
       "      <td>...</td>\n",
       "      <td>...</td>\n",
       "      <td>...</td>\n",
       "      <td>...</td>\n",
       "    </tr>\n",
       "    <tr>\n",
       "      <th>42949</th>\n",
       "      <td>['happy']</td>\n",
       "      <td>{'joy': 2, 'trust': 2, 'fear': 0, 'surprise': ...</td>\n",
       "      <td>She had lived at home, then in a dorm, then wi...</td>\n",
       "      <td>Then Paul argued with the owner.</td>\n",
       "      <td>At the end of the night he took out the ring a...</td>\n",
       "      <td>We do miss our two dogs back home though.</td>\n",
       "      <td>Unfortunately his car was never recovered.</td>\n",
       "      <td>0</td>\n",
       "    </tr>\n",
       "    <tr>\n",
       "      <th>42950</th>\n",
       "      <td>['happy']</td>\n",
       "      <td>{'joy': 3, 'trust': 3, 'fear': 0, 'surprise': ...</td>\n",
       "      <td>Jaiden played into the afternoon, and felt his...</td>\n",
       "      <td>He didn't want to replace it.</td>\n",
       "      <td>Caroline didn't believe in fairy tales.</td>\n",
       "      <td>She recorded all the cheers at the games.</td>\n",
       "      <td>There was very little to clean up afterwards.</td>\n",
       "      <td>0</td>\n",
       "    </tr>\n",
       "    <tr>\n",
       "      <th>42951</th>\n",
       "      <td>['lucky']</td>\n",
       "      <td>{'joy': 3, 'trust': 0, 'fear': 0, 'surprise': ...</td>\n",
       "      <td>The cole-slaw smelled a bit off, but Mary set ...</td>\n",
       "      <td>They spent too much time drawing that I never ...</td>\n",
       "      <td>Joey and his daughter lived in a mobile home i...</td>\n",
       "      <td>As the neighborhood was poor it didn't belong ...</td>\n",
       "      <td>Sadly, Mr Jefferson had a heart attack and pas...</td>\n",
       "      <td>3</td>\n",
       "    </tr>\n",
       "    <tr>\n",
       "      <th>42952</th>\n",
       "      <td>['hopeful']</td>\n",
       "      <td>{'joy': 2, 'trust': 2, 'fear': 0, 'surprise': ...</td>\n",
       "      <td>Henry was walking while holding Stacy.</td>\n",
       "      <td>He felt really good about the interview.</td>\n",
       "      <td>Gary saw an ad for jumping out of a plane in a...</td>\n",
       "      <td>One evening, in Florida, he purchased candy fr...</td>\n",
       "      <td>Later that day, several people at the picnic f...</td>\n",
       "      <td>1</td>\n",
       "    </tr>\n",
       "    <tr>\n",
       "      <th>42953</th>\n",
       "      <td>['sad']</td>\n",
       "      <td>{'joy': 0, 'trust': 0, 'fear': 2, 'surprise': ...</td>\n",
       "      <td>Lori deleted Ashlynn from Facebook.</td>\n",
       "      <td>When she gets pushed down hard by another player.</td>\n",
       "      <td>Luckily the ticket taker helped me or I would ...</td>\n",
       "      <td>He went to Miami.</td>\n",
       "      <td>Tracy said Charles is already having trouble c...</td>\n",
       "      <td>4</td>\n",
       "    </tr>\n",
       "  </tbody>\n",
       "</table>\n",
       "<p>42954 rows × 8 columns</p>\n",
       "</div>"
      ],
      "text/plain": [
       "                         emotion  \\\n",
       "0                        ['sad']   \n",
       "1                      ['happy']   \n",
       "2               ['accomplished']   \n",
       "3      ['hopeful', 'determined']   \n",
       "4               ['anticipation']   \n",
       "...                          ...   \n",
       "42949                  ['happy']   \n",
       "42950                  ['happy']   \n",
       "42951                  ['lucky']   \n",
       "42952                ['hopeful']   \n",
       "42953                    ['sad']   \n",
       "\n",
       "                                                plutchik  \\\n",
       "0      {'joy': 0, 'trust': 0, 'fear': 0, 'surprise': ...   \n",
       "1      {'joy': 3, 'trust': 3, 'fear': 0, 'surprise': ...   \n",
       "2      {'joy': 3, 'trust': 2, 'fear': 0, 'surprise': ...   \n",
       "3      {'joy': 0, 'trust': 0, 'fear': 0, 'surprise': ...   \n",
       "4      {'joy': 2, 'trust': 2, 'fear': 2, 'surprise': ...   \n",
       "...                                                  ...   \n",
       "42949  {'joy': 2, 'trust': 2, 'fear': 0, 'surprise': ...   \n",
       "42950  {'joy': 3, 'trust': 3, 'fear': 0, 'surprise': ...   \n",
       "42951  {'joy': 3, 'trust': 0, 'fear': 0, 'surprise': ...   \n",
       "42952  {'joy': 2, 'trust': 2, 'fear': 0, 'surprise': ...   \n",
       "42953  {'joy': 0, 'trust': 0, 'fear': 2, 'surprise': ...   \n",
       "\n",
       "                                              selection0  \\\n",
       "0      He decided to sail it in the canal near his ho...   \n",
       "1                           He spots a woman in trouble.   \n",
       "2      I had to carry around a lot of cash, but I enj...   \n",
       "3      Recently, while depressed, he researched wealt...   \n",
       "4                 They saw monkeys and snakes and birds.   \n",
       "...                                                  ...   \n",
       "42949  She had lived at home, then in a dorm, then wi...   \n",
       "42950  Jaiden played into the afternoon, and felt his...   \n",
       "42951  The cole-slaw smelled a bit off, but Mary set ...   \n",
       "42952             Henry was walking while holding Stacy.   \n",
       "42953                Lori deleted Ashlynn from Facebook.   \n",
       "\n",
       "                                              selection1  \\\n",
       "0      She made it home and disappointed her mother b...   \n",
       "1      By the end of the evening, he turned out to be...   \n",
       "2              Marie decided to make chicken for dinner.   \n",
       "3      Finally, I found the perfect ones, and promise...   \n",
       "4          The game was getting close and nerve racking.   \n",
       "...                                                  ...   \n",
       "42949                   Then Paul argued with the owner.   \n",
       "42950                      He didn't want to replace it.   \n",
       "42951  They spent too much time drawing that I never ...   \n",
       "42952           He felt really good about the interview.   \n",
       "42953  When she gets pushed down hard by another player.   \n",
       "\n",
       "                                              selection2  \\\n",
       "0      She stood up quickly and knocked the bottle ov...   \n",
       "1      Her husband fell in love with it and they are ...   \n",
       "2                        It was trying to steal my food.   \n",
       "3      He got tired after an hour and ran home to tak...   \n",
       "4      Marsha was thrilled to have a new best friend ...   \n",
       "...                                                  ...   \n",
       "42949  At the end of the night he took out the ring a...   \n",
       "42950            Caroline didn't believe in fairy tales.   \n",
       "42951  Joey and his daughter lived in a mobile home i...   \n",
       "42952  Gary saw an ad for jumping out of a plane in a...   \n",
       "42953  Luckily the ticket taker helped me or I would ...   \n",
       "\n",
       "                                              selection3  \\\n",
       "0                           Cliff was recently divorced.   \n",
       "1                 And my daughter rode on all the rides.   \n",
       "2          He pulled in the driveway as I was finishing.   \n",
       "3            Zeke wanted to become the senator of Texas.   \n",
       "4      Tonight she came from NY and asked where Peter...   \n",
       "...                                                  ...   \n",
       "42949          We do miss our two dogs back home though.   \n",
       "42950          She recorded all the cheers at the games.   \n",
       "42951  As the neighborhood was poor it didn't belong ...   \n",
       "42952  One evening, in Florida, he purchased candy fr...   \n",
       "42953                                  He went to Miami.   \n",
       "\n",
       "                                              selection4  label  \n",
       "0                         The wooden seat broke in half!      3  \n",
       "1             We got in the car and drove to the office.      3  \n",
       "2      Chris got a job out of state and moved away tw...      1  \n",
       "3      He caught sight of an assistant who looked jus...      3  \n",
       "4      His wife convinced him to buy a cheap charcoal...      1  \n",
       "...                                                  ...    ...  \n",
       "42949         Unfortunately his car was never recovered.      0  \n",
       "42950      There was very little to clean up afterwards.      0  \n",
       "42951  Sadly, Mr Jefferson had a heart attack and pas...      3  \n",
       "42952  Later that day, several people at the picnic f...      1  \n",
       "42953  Tracy said Charles is already having trouble c...      4  \n",
       "\n",
       "[42954 rows x 8 columns]"
      ]
     },
     "execution_count": 7,
     "metadata": {},
     "output_type": "execute_result"
    }
   ],
   "source": [
    "trainDatasetProcessed.to_csv(f'./dataset/5Select-{fileTag}-train.csv')\n",
    "trainDatasetProcessed"
   ]
  },
  {
   "cell_type": "code",
   "execution_count": 8,
   "id": "b770299d-567d-46e2-b928-8ee31a341c07",
   "metadata": {},
   "outputs": [
    {
     "data": {
      "text/html": [
       "<div>\n",
       "<style scoped>\n",
       "    .dataframe tbody tr th:only-of-type {\n",
       "        vertical-align: middle;\n",
       "    }\n",
       "\n",
       "    .dataframe tbody tr th {\n",
       "        vertical-align: top;\n",
       "    }\n",
       "\n",
       "    .dataframe thead th {\n",
       "        text-align: right;\n",
       "    }\n",
       "</style>\n",
       "<table border=\"1\" class=\"dataframe\">\n",
       "  <thead>\n",
       "    <tr style=\"text-align: right;\">\n",
       "      <th></th>\n",
       "      <th>emotion</th>\n",
       "      <th>plutchik</th>\n",
       "      <th>selection0</th>\n",
       "      <th>selection1</th>\n",
       "      <th>selection2</th>\n",
       "      <th>selection3</th>\n",
       "      <th>selection4</th>\n",
       "      <th>label</th>\n",
       "    </tr>\n",
       "  </thead>\n",
       "  <tbody>\n",
       "    <tr>\n",
       "      <th>0</th>\n",
       "      <td>['hopeful']</td>\n",
       "      <td>{'joy': 0, 'trust': 0, 'fear': 0, 'surprise': ...</td>\n",
       "      <td>Jim tried out for the basketball team at school.</td>\n",
       "      <td>There, the teller split open each roll like a ...</td>\n",
       "      <td>Lisa will never forget this birthday party.</td>\n",
       "      <td>He was hoping this year to be tall enough for ...</td>\n",
       "      <td>Ivy's party turned out to be wonderful and wel...</td>\n",
       "      <td>3</td>\n",
       "    </tr>\n",
       "    <tr>\n",
       "      <th>1</th>\n",
       "      <td>['dejected', 'sad']</td>\n",
       "      <td>{'joy': 0, 'trust': 0, 'fear': 2, 'surprise': ...</td>\n",
       "      <td>One day she was playing a game with friends an...</td>\n",
       "      <td>Craig's tv broke.</td>\n",
       "      <td>Jimmy was getting bullied at school.</td>\n",
       "      <td>When he didn't find what he wanted he'd drive ...</td>\n",
       "      <td>He took his time and shot the ball and made bo...</td>\n",
       "      <td>1</td>\n",
       "    </tr>\n",
       "    <tr>\n",
       "      <th>2</th>\n",
       "      <td>['excited']</td>\n",
       "      <td>{'joy': 2, 'trust': 0, 'fear': 0, 'surprise': ...</td>\n",
       "      <td>They told her that she had been late paying a ...</td>\n",
       "      <td>Stacy wanted to get her belly button pierced.</td>\n",
       "      <td>Every day, she told him she was busy.</td>\n",
       "      <td>It eventually became healthy again after a week.</td>\n",
       "      <td>Neil was thrilled by his camel ride through th...</td>\n",
       "      <td>1</td>\n",
       "    </tr>\n",
       "    <tr>\n",
       "      <th>3</th>\n",
       "      <td>['satisfied']</td>\n",
       "      <td>{'joy': 2, 'trust': 2, 'fear': 0, 'surprise': ...</td>\n",
       "      <td>Fred was happy that he had gone to church.</td>\n",
       "      <td>Afterward, Katie noticed a pet shop and went t...</td>\n",
       "      <td>The cop told them both not to waste his time a...</td>\n",
       "      <td>He was informed that they had discontinued the...</td>\n",
       "      <td>She had been preparing for hours.</td>\n",
       "      <td>0</td>\n",
       "    </tr>\n",
       "    <tr>\n",
       "      <th>4</th>\n",
       "      <td>['powerful', 'dominant']</td>\n",
       "      <td>{'joy': 0, 'trust': 0, 'fear': 0, 'surprise': ...</td>\n",
       "      <td>He was scary looking and she screamed when she...</td>\n",
       "      <td>Karen wanted to preserve her high position wit...</td>\n",
       "      <td>Cal was late and in a rush.</td>\n",
       "      <td>He wanted to have a taste.</td>\n",
       "      <td>She was winning the game until she made a mist...</td>\n",
       "      <td>1</td>\n",
       "    </tr>\n",
       "    <tr>\n",
       "      <th>...</th>\n",
       "      <td>...</td>\n",
       "      <td>...</td>\n",
       "      <td>...</td>\n",
       "      <td>...</td>\n",
       "      <td>...</td>\n",
       "      <td>...</td>\n",
       "      <td>...</td>\n",
       "      <td>...</td>\n",
       "    </tr>\n",
       "    <tr>\n",
       "      <th>43190</th>\n",
       "      <td>['smart']</td>\n",
       "      <td>{'joy': 0, 'trust': 2, 'fear': 0, 'surprise': ...</td>\n",
       "      <td>Bay took a pop quiz in math.</td>\n",
       "      <td>After doing a lot of research on laptops, he d...</td>\n",
       "      <td>Heather rushed to the hospital to see them all.</td>\n",
       "      <td>He wasn't fooled for even a minute.</td>\n",
       "      <td>I bought it and it was very tasty.</td>\n",
       "      <td>0</td>\n",
       "    </tr>\n",
       "    <tr>\n",
       "      <th>43191</th>\n",
       "      <td>['worried']</td>\n",
       "      <td>{'joy': 0, 'trust': 0, 'fear': 3, 'surprise': ...</td>\n",
       "      <td>We were so happy to have found this dog.</td>\n",
       "      <td>Sparky's dad took him to the animal shelter an...</td>\n",
       "      <td>She ran off and felt embarrassed for the rest ...</td>\n",
       "      <td>When lunch time came Cassie couldn't find her ...</td>\n",
       "      <td>They came and hooked up her new service.</td>\n",
       "      <td>3</td>\n",
       "    </tr>\n",
       "    <tr>\n",
       "      <th>43192</th>\n",
       "      <td>['mad']</td>\n",
       "      <td>{'joy': 0, 'trust': 0, 'fear': 0, 'surprise': ...</td>\n",
       "      <td>Suddenly she heard a loud hiss and a pop.</td>\n",
       "      <td>Frustrated, Bob gave up and called a laundry s...</td>\n",
       "      <td>I found out and decided to let the whole commu...</td>\n",
       "      <td>The next day we went thru to collect anything ...</td>\n",
       "      <td>Brian's friend was dressed up as a Mexican.</td>\n",
       "      <td>1</td>\n",
       "    </tr>\n",
       "    <tr>\n",
       "      <th>43193</th>\n",
       "      <td>['anxious']</td>\n",
       "      <td>{'joy': 0, 'trust': 0, 'fear': 3, 'surprise': ...</td>\n",
       "      <td>Jim and Theresa went for walk around their nei...</td>\n",
       "      <td>I spoke very good Spanish, but I wasn't sure i...</td>\n",
       "      <td>Bryan slowly took the stage.</td>\n",
       "      <td>She applied them and showed her grandmother.</td>\n",
       "      <td>He got it within a couple of days and was real...</td>\n",
       "      <td>1</td>\n",
       "    </tr>\n",
       "    <tr>\n",
       "      <th>43194</th>\n",
       "      <td>['happy']</td>\n",
       "      <td>{'joy': 3, 'trust': 0, 'fear': 0, 'surprise': ...</td>\n",
       "      <td>Rick and his girls walked around the neighborh...</td>\n",
       "      <td>He learned a lot about making things with wood.</td>\n",
       "      <td>I think he will like going to preschool everyday.</td>\n",
       "      <td>He tried to talk to her, but it just led to mo...</td>\n",
       "      <td>Then he signed a paper saying she had to stop ...</td>\n",
       "      <td>2</td>\n",
       "    </tr>\n",
       "  </tbody>\n",
       "</table>\n",
       "<p>43195 rows × 8 columns</p>\n",
       "</div>"
      ],
      "text/plain": [
       "                        emotion  \\\n",
       "0                   ['hopeful']   \n",
       "1           ['dejected', 'sad']   \n",
       "2                   ['excited']   \n",
       "3                 ['satisfied']   \n",
       "4      ['powerful', 'dominant']   \n",
       "...                         ...   \n",
       "43190                 ['smart']   \n",
       "43191               ['worried']   \n",
       "43192                   ['mad']   \n",
       "43193               ['anxious']   \n",
       "43194                 ['happy']   \n",
       "\n",
       "                                                plutchik  \\\n",
       "0      {'joy': 0, 'trust': 0, 'fear': 0, 'surprise': ...   \n",
       "1      {'joy': 0, 'trust': 0, 'fear': 2, 'surprise': ...   \n",
       "2      {'joy': 2, 'trust': 0, 'fear': 0, 'surprise': ...   \n",
       "3      {'joy': 2, 'trust': 2, 'fear': 0, 'surprise': ...   \n",
       "4      {'joy': 0, 'trust': 0, 'fear': 0, 'surprise': ...   \n",
       "...                                                  ...   \n",
       "43190  {'joy': 0, 'trust': 2, 'fear': 0, 'surprise': ...   \n",
       "43191  {'joy': 0, 'trust': 0, 'fear': 3, 'surprise': ...   \n",
       "43192  {'joy': 0, 'trust': 0, 'fear': 0, 'surprise': ...   \n",
       "43193  {'joy': 0, 'trust': 0, 'fear': 3, 'surprise': ...   \n",
       "43194  {'joy': 3, 'trust': 0, 'fear': 0, 'surprise': ...   \n",
       "\n",
       "                                              selection0  \\\n",
       "0       Jim tried out for the basketball team at school.   \n",
       "1      One day she was playing a game with friends an...   \n",
       "2      They told her that she had been late paying a ...   \n",
       "3             Fred was happy that he had gone to church.   \n",
       "4      He was scary looking and she screamed when she...   \n",
       "...                                                  ...   \n",
       "43190                       Bay took a pop quiz in math.   \n",
       "43191           We were so happy to have found this dog.   \n",
       "43192          Suddenly she heard a loud hiss and a pop.   \n",
       "43193  Jim and Theresa went for walk around their nei...   \n",
       "43194  Rick and his girls walked around the neighborh...   \n",
       "\n",
       "                                              selection1  \\\n",
       "0      There, the teller split open each roll like a ...   \n",
       "1                                      Craig's tv broke.   \n",
       "2          Stacy wanted to get her belly button pierced.   \n",
       "3      Afterward, Katie noticed a pet shop and went t...   \n",
       "4      Karen wanted to preserve her high position wit...   \n",
       "...                                                  ...   \n",
       "43190  After doing a lot of research on laptops, he d...   \n",
       "43191  Sparky's dad took him to the animal shelter an...   \n",
       "43192  Frustrated, Bob gave up and called a laundry s...   \n",
       "43193  I spoke very good Spanish, but I wasn't sure i...   \n",
       "43194    He learned a lot about making things with wood.   \n",
       "\n",
       "                                              selection2  \\\n",
       "0            Lisa will never forget this birthday party.   \n",
       "1                   Jimmy was getting bullied at school.   \n",
       "2                  Every day, she told him she was busy.   \n",
       "3      The cop told them both not to waste his time a...   \n",
       "4                            Cal was late and in a rush.   \n",
       "...                                                  ...   \n",
       "43190    Heather rushed to the hospital to see them all.   \n",
       "43191  She ran off and felt embarrassed for the rest ...   \n",
       "43192  I found out and decided to let the whole commu...   \n",
       "43193                       Bryan slowly took the stage.   \n",
       "43194  I think he will like going to preschool everyday.   \n",
       "\n",
       "                                              selection3  \\\n",
       "0      He was hoping this year to be tall enough for ...   \n",
       "1      When he didn't find what he wanted he'd drive ...   \n",
       "2       It eventually became healthy again after a week.   \n",
       "3      He was informed that they had discontinued the...   \n",
       "4                             He wanted to have a taste.   \n",
       "...                                                  ...   \n",
       "43190                He wasn't fooled for even a minute.   \n",
       "43191  When lunch time came Cassie couldn't find her ...   \n",
       "43192  The next day we went thru to collect anything ...   \n",
       "43193       She applied them and showed her grandmother.   \n",
       "43194  He tried to talk to her, but it just led to mo...   \n",
       "\n",
       "                                              selection4  label  \n",
       "0      Ivy's party turned out to be wonderful and wel...      3  \n",
       "1      He took his time and shot the ball and made bo...      1  \n",
       "2      Neil was thrilled by his camel ride through th...      1  \n",
       "3                      She had been preparing for hours.      0  \n",
       "4      She was winning the game until she made a mist...      1  \n",
       "...                                                  ...    ...  \n",
       "43190                 I bought it and it was very tasty.      0  \n",
       "43191           They came and hooked up her new service.      3  \n",
       "43192        Brian's friend was dressed up as a Mexican.      1  \n",
       "43193  He got it within a couple of days and was real...      1  \n",
       "43194  Then he signed a paper saying she had to stop ...      2  \n",
       "\n",
       "[43195 rows x 8 columns]"
      ]
     },
     "execution_count": 8,
     "metadata": {},
     "output_type": "execute_result"
    }
   ],
   "source": [
    "testDatasetProcessed.to_csv(f'./dataset/5Select-{fileTag}-test.csv')\n",
    "testDatasetProcessed"
   ]
  },
  {
   "cell_type": "markdown",
   "id": "0a7283c1-d83e-4369-b5e4-6c2e09d654ac",
   "metadata": {},
   "source": [
    "# load dataset"
   ]
  },
  {
   "cell_type": "code",
   "execution_count": 9,
   "id": "828a5092-83e6-4580-99c9-bd9ec434708f",
   "metadata": {},
   "outputs": [],
   "source": [
    "from datasets import load_dataset, load_metric"
   ]
  },
  {
   "cell_type": "code",
   "execution_count": 10,
   "id": "05151e3b-0bec-44f4-bf0a-ac58cddbf838",
   "metadata": {
    "scrolled": true
   },
   "outputs": [
    {
     "name": "stderr",
     "output_type": "stream",
     "text": [
      "Using custom data configuration default-465e8deaa03b0346\n"
     ]
    },
    {
     "name": "stdout",
     "output_type": "stream",
     "text": [
      "Downloading and preparing dataset csv/default to C:\\Users\\JAM_0\\.cache\\huggingface\\datasets\\csv\\default-465e8deaa03b0346\\0.0.0\\433e0ccc46f9880962cc2b12065189766fbb2bee57a221866138fb9203c83519...\n"
     ]
    },
    {
     "data": {
      "application/vnd.jupyter.widget-view+json": {
       "model_id": "b0bc3a72ff2047049ae9aa2adcc030b6",
       "version_major": 2,
       "version_minor": 0
      },
      "text/plain": [
       "Downloading data files:   0%|          | 0/2 [00:00<?, ?it/s]"
      ]
     },
     "metadata": {},
     "output_type": "display_data"
    },
    {
     "data": {
      "application/vnd.jupyter.widget-view+json": {
       "model_id": "ba153802cb424d05927c7c6405e55ec3",
       "version_major": 2,
       "version_minor": 0
      },
      "text/plain": [
       "Extracting data files:   0%|          | 0/2 [00:00<?, ?it/s]"
      ]
     },
     "metadata": {},
     "output_type": "display_data"
    },
    {
     "name": "stdout",
     "output_type": "stream",
     "text": [
      "Dataset csv downloaded and prepared to C:\\Users\\JAM_0\\.cache\\huggingface\\datasets\\csv\\default-465e8deaa03b0346\\0.0.0\\433e0ccc46f9880962cc2b12065189766fbb2bee57a221866138fb9203c83519. Subsequent calls will reuse this data.\n"
     ]
    },
    {
     "data": {
      "application/vnd.jupyter.widget-view+json": {
       "model_id": "60a9c605e448430abefe253757cb74d5",
       "version_major": 2,
       "version_minor": 0
      },
      "text/plain": [
       "  0%|          | 0/2 [00:00<?, ?it/s]"
      ]
     },
     "metadata": {},
     "output_type": "display_data"
    }
   ],
   "source": [
    "dataset = load_dataset('csv', data_files={'train': f'./dataset/5Select-{fileTag}-train.csv', \n",
    "                                           'test': f'./dataset/5Select-{fileTag}-test.csv'})"
   ]
  },
  {
   "cell_type": "code",
   "execution_count": 11,
   "id": "d776c270-7752-4445-ba6c-eb078f71eccc",
   "metadata": {},
   "outputs": [
    {
     "data": {
      "text/plain": [
       "DatasetDict({\n",
       "    train: Dataset({\n",
       "        features: ['Unnamed: 0', 'emotion', 'plutchik', 'selection0', 'selection1', 'selection2', 'selection3', 'selection4', 'label'],\n",
       "        num_rows: 42954\n",
       "    })\n",
       "    test: Dataset({\n",
       "        features: ['Unnamed: 0', 'emotion', 'plutchik', 'selection0', 'selection1', 'selection2', 'selection3', 'selection4', 'label'],\n",
       "        num_rows: 43195\n",
       "    })\n",
       "})"
      ]
     },
     "execution_count": 11,
     "metadata": {},
     "output_type": "execute_result"
    }
   ],
   "source": [
    "dataset"
   ]
  },
  {
   "cell_type": "code",
   "execution_count": 12,
   "id": "a1c79159-f795-4d02-b052-94f04286d53c",
   "metadata": {},
   "outputs": [
    {
     "data": {
      "text/plain": [
       "{'Unnamed: 0': 0,\n",
       " 'emotion': \"['hopeful']\",\n",
       " 'plutchik': \"{'joy': 0, 'trust': 0, 'fear': 0, 'surprise': 0, 'sadness': 0, 'disgust': 0, 'anger': 0, 'anticipation': 2}\",\n",
       " 'selection0': 'Jim tried out for the basketball team at school.',\n",
       " 'selection1': 'There, the teller split open each roll like a tube of dough.',\n",
       " 'selection2': 'Lisa will never forget this birthday party.',\n",
       " 'selection3': 'He was hoping this year to be tall enough for the coaster.',\n",
       " 'selection4': \"Ivy's party turned out to be wonderful and well-planned!\",\n",
       " 'label': 3}"
      ]
     },
     "execution_count": 12,
     "metadata": {},
     "output_type": "execute_result"
    }
   ],
   "source": [
    "dataset['test'][0]"
   ]
  },
  {
   "cell_type": "code",
   "execution_count": 13,
   "id": "1f6ad67d-b4cb-4f65-a9cb-d2d665deec1f",
   "metadata": {},
   "outputs": [],
   "source": [
    "def show_one(example):\n",
    "    print(f\"Context: {example['emotion']}\")\n",
    "    print(f\"  A - {example['selection0']}\")\n",
    "    print(f\"  B - {example['selection1']}\")\n",
    "    print(f\"  C - {example['selection2']}\")\n",
    "    print(f\"  D - {example['selection3']}\")\n",
    "    print(f\"  E - {example['selection4']}\")\n",
    "    print(f\"\\nGround truth: option {['A', 'B', 'C', 'D', 'E'][example['label']]}\")"
   ]
  },
  {
   "cell_type": "code",
   "execution_count": 14,
   "id": "15cd7cfb-748a-4fe7-8152-7debf6a65ead",
   "metadata": {},
   "outputs": [
    {
     "name": "stdout",
     "output_type": "stream",
     "text": [
      "Context: ['accomplished']\n",
      "  A - I had to carry around a lot of cash, but I enjoyed myself.\n",
      "  B - Marie decided to make chicken for dinner.\n",
      "  C - It was trying to steal my food.\n",
      "  D - He pulled in the driveway as I was finishing.\n",
      "  E - Chris got a job out of state and moved away two weeks later.\n",
      "\n",
      "Ground truth: option B\n"
     ]
    }
   ],
   "source": [
    "show_one(dataset[\"train\"][2])"
   ]
  },
  {
   "cell_type": "markdown",
   "id": "5da93346-1037-41ed-b67d-91877fa8c0ec",
   "metadata": {},
   "source": [
    "# Preprocessing Data"
   ]
  },
  {
   "cell_type": "code",
   "execution_count": 15,
   "id": "3da78c12-9aff-4beb-a006-e287bbf61023",
   "metadata": {},
   "outputs": [],
   "source": [
    "from transformers import AutoTokenizer\n",
    "    \n",
    "tokenizer = AutoTokenizer.from_pretrained(model_checkpoint, use_fast=True)"
   ]
  },
  {
   "cell_type": "code",
   "execution_count": 18,
   "id": "caffe397-a65d-478f-b966-7b910fb2edd7",
   "metadata": {},
   "outputs": [],
   "source": [
    "selectionList = [\"selection0\", \"selection1\", \"selection2\", \"selection3\", \"selection4\"]\n",
    "\n",
    "def preprocess_function(examples):\n",
    "    # Repeat each first sentence four times to go with the four possibilities of second sentences.\n",
    "    first_sentences = [[\"The following sentences contain emotions: {}\".format(context.strip(\"[\").strip(\"]\").replace('\\'', '')) ]*5 for context in examples[\"emotion\"]]\n",
    "    # Grab all second sentences possible for each context.\n",
    "    second_sentences = [[examples[selection][index] for selection in selectionList] for index in range(len(examples['selection0']))]\n",
    "\n",
    "    # Flatten everything\n",
    "    first_sentences = sum(first_sentences, [])\n",
    "    second_sentences = sum(second_sentences, [])\n",
    "    \n",
    "    # Tokenize\n",
    "    tokenized_examples = tokenizer(first_sentences, second_sentences, truncation=True)\n",
    "    # Un-flatten\n",
    "    # print(tokenized_examples.items())\n",
    "    return {k: [v[i:i+5] for i in range(0, len(v), 5)] for k, v in tokenized_examples.items()}"
   ]
  },
  {
   "cell_type": "code",
   "execution_count": 19,
   "id": "0afb4841-ab69-4b91-8859-fd249badb923",
   "metadata": {},
   "outputs": [
    {
     "name": "stdout",
     "output_type": "stream",
     "text": [
      "5 5 [23, 23, 24, 17, 18]\n"
     ]
    }
   ],
   "source": [
    "examples = dataset[\"train\"][:5]\n",
    "features = preprocess_function(examples)\n",
    "print(len(features[\"input_ids\"]), len(features[\"input_ids\"][0]), [len(x) for x in features[\"input_ids\"][0]])"
   ]
  },
  {
   "cell_type": "code",
   "execution_count": 21,
   "id": "903e2891-0e3d-4e87-b98a-727eaf36417a",
   "metadata": {},
   "outputs": [
    {
     "data": {
      "text/plain": [
       "['<s>The following sentences contain emotions: sad</s></s>He decided to sail it in the canal near his house.</s>',\n",
       " '<s>The following sentences contain emotions: sad</s></s>She made it home and disappointed her mother by forgetting things.</s>',\n",
       " '<s>The following sentences contain emotions: sad</s></s>She stood up quickly and knocked the bottle over on her table.</s>',\n",
       " '<s>The following sentences contain emotions: sad</s></s>Cliff was recently divorced.</s>',\n",
       " '<s>The following sentences contain emotions: sad</s></s>The wooden seat broke in half!</s>',\n",
       " '<s>The following sentences contain emotions: happy</s></s>He spots a woman in trouble.</s>',\n",
       " '<s>The following sentences contain emotions: happy</s></s>By the end of the evening, he turned out to be a pretty cool guy.</s>',\n",
       " '<s>The following sentences contain emotions: happy</s></s>Her husband fell in love with it and they are moving in next week.</s>',\n",
       " '<s>The following sentences contain emotions: happy</s></s>And my daughter rode on all the rides.</s>',\n",
       " '<s>The following sentences contain emotions: happy</s></s>We got in the car and drove to the office.</s>',\n",
       " '<s>The following sentences contain emotions: accomplished</s></s>I had to carry around a lot of cash, but I enjoyed myself.</s>',\n",
       " '<s>The following sentences contain emotions: accomplished</s></s>Marie decided to make chicken for dinner.</s>',\n",
       " '<s>The following sentences contain emotions: accomplished</s></s>It was trying to steal my food.</s>',\n",
       " '<s>The following sentences contain emotions: accomplished</s></s>He pulled in the driveway as I was finishing.</s>',\n",
       " '<s>The following sentences contain emotions: accomplished</s></s>Chris got a job out of state and moved away two weeks later.</s>',\n",
       " '<s>The following sentences contain emotions: hopeful, determined</s></s>Recently, while depressed, he researched wealthy alumnus.</s>',\n",
       " '<s>The following sentences contain emotions: hopeful, determined</s></s>Finally, I found the perfect ones, and promised to keep them clean.</s>',\n",
       " '<s>The following sentences contain emotions: hopeful, determined</s></s>He got tired after an hour and ran home to take a nap.</s>',\n",
       " '<s>The following sentences contain emotions: hopeful, determined</s></s>Zeke wanted to become the senator of Texas.</s>',\n",
       " '<s>The following sentences contain emotions: hopeful, determined</s></s>He caught sight of an assistant who looked just like the lead actress.</s>',\n",
       " '<s>The following sentences contain emotions: anticipation</s></s>They saw monkeys and snakes and birds.</s>',\n",
       " '<s>The following sentences contain emotions: anticipation</s></s>The game was getting close and nerve racking.</s>',\n",
       " '<s>The following sentences contain emotions: anticipation</s></s>Marsha was thrilled to have a new best friend forever.</s>',\n",
       " '<s>The following sentences contain emotions: anticipation</s></s>Tonight she came from NY and asked where Peter was.</s>',\n",
       " '<s>The following sentences contain emotions: anticipation</s></s>His wife convinced him to buy a cheap charcoal grill.</s>']"
      ]
     },
     "execution_count": 21,
     "metadata": {},
     "output_type": "execute_result"
    }
   ],
   "source": [
    "[tokenizer.decode(features[\"input_ids\"][a][i]) for a in range(5) for i in range(5) ]"
   ]
  },
  {
   "cell_type": "code",
   "execution_count": 22,
   "id": "4a286ba6-cb84-4619-b842-780124d26a4a",
   "metadata": {},
   "outputs": [
    {
     "data": {
      "application/vnd.jupyter.widget-view+json": {
       "model_id": "78be00e6a2ac42d7a11970952cca944a",
       "version_major": 2,
       "version_minor": 0
      },
      "text/plain": [
       "  0%|          | 0/43 [00:00<?, ?ba/s]"
      ]
     },
     "metadata": {},
     "output_type": "display_data"
    },
    {
     "data": {
      "application/vnd.jupyter.widget-view+json": {
       "model_id": "29230920ec43407fbeb4dc06568c48bd",
       "version_major": 2,
       "version_minor": 0
      },
      "text/plain": [
       "  0%|          | 0/44 [00:00<?, ?ba/s]"
      ]
     },
     "metadata": {},
     "output_type": "display_data"
    }
   ],
   "source": [
    "encoded_datasets = dataset.map(preprocess_function, batched=True)"
   ]
  },
  {
   "cell_type": "markdown",
   "id": "7f496be7-4673-4520-b30e-656cd5640b34",
   "metadata": {},
   "source": [
    "# Fine-tuning the model"
   ]
  },
  {
   "cell_type": "code",
   "execution_count": 23,
   "id": "7706d875-3a89-4e52-9f08-c77256b621ca",
   "metadata": {},
   "outputs": [
    {
     "name": "stderr",
     "output_type": "stream",
     "text": [
      "Some weights of the model checkpoint at roberta-base were not used when initializing RobertaForMultipleChoice: ['lm_head.decoder.weight', 'lm_head.dense.weight', 'lm_head.dense.bias', 'lm_head.bias', 'lm_head.layer_norm.bias', 'lm_head.layer_norm.weight']\n",
      "- This IS expected if you are initializing RobertaForMultipleChoice from the checkpoint of a model trained on another task or with another architecture (e.g. initializing a BertForSequenceClassification model from a BertForPreTraining model).\n",
      "- This IS NOT expected if you are initializing RobertaForMultipleChoice from the checkpoint of a model that you expect to be exactly identical (initializing a BertForSequenceClassification model from a BertForSequenceClassification model).\n",
      "Some weights of RobertaForMultipleChoice were not initialized from the model checkpoint at roberta-base and are newly initialized: ['classifier.bias', 'classifier.weight']\n",
      "You should probably TRAIN this model on a down-stream task to be able to use it for predictions and inference.\n"
     ]
    }
   ],
   "source": [
    "from transformers import AutoModelForMultipleChoice, TrainingArguments, Trainer\n",
    "\n",
    "model = AutoModelForMultipleChoice.from_pretrained(model_checkpoint)"
   ]
  },
  {
   "cell_type": "code",
   "execution_count": 24,
   "id": "2cd7be65-ebd8-43db-bcbf-a87d7e2342e4",
   "metadata": {},
   "outputs": [],
   "source": [
    "model_name = model_checkpoint.split(\"/\")[-1]\n",
    "args = TrainingArguments(\n",
    "    f\"{model_name}-finetuned-emotionCommonsense\",\n",
    "    evaluation_strategy = \"epoch\",\n",
    "    #learning_rate=5e-5, # for bert-base\n",
    "    learning_rate=5e-7, # for roberta-base\n",
    "    # learning_rate=1e-3,\n",
    "    per_device_train_batch_size=batch_size,\n",
    "    per_device_eval_batch_size=batch_size,\n",
    "    num_train_epochs=num_epochs,\n",
    "    weight_decay=0.01,\n",
    "    push_to_hub=False,\n",
    ")"
   ]
  },
  {
   "cell_type": "code",
   "execution_count": 25,
   "id": "2737e04e-19c2-407d-8ce1-06b675f208c6",
   "metadata": {},
   "outputs": [],
   "source": [
    "from dataclasses import dataclass\n",
    "from transformers.tokenization_utils_base import PreTrainedTokenizerBase, PaddingStrategy\n",
    "from typing import Optional, Union\n",
    "import torch\n",
    "\n",
    "@dataclass\n",
    "class DataCollatorForMultipleChoice:\n",
    "    \"\"\"\n",
    "    Data collator that will dynamically pad the inputs for multiple choice received.\n",
    "    \"\"\"\n",
    "\n",
    "    tokenizer: PreTrainedTokenizerBase\n",
    "    padding: Union[bool, str, PaddingStrategy] = True\n",
    "    max_length: Optional[int] = None\n",
    "    pad_to_multiple_of: Optional[int] = None\n",
    "\n",
    "    def __call__(self, features):\n",
    "        label_name = \"label\" if \"label\" in features[0].keys() else \"labels\"\n",
    "        labels = [feature.pop(label_name) for feature in features]\n",
    "        batch_size = len(features)\n",
    "        num_choices = len(features[0][\"input_ids\"])\n",
    "        flattened_features = [[{k: v[i] for k, v in feature.items()} for i in range(num_choices)] for feature in features]\n",
    "        flattened_features = sum(flattened_features, [])\n",
    "        \n",
    "        batch = self.tokenizer.pad(\n",
    "            flattened_features,\n",
    "            padding=self.padding,\n",
    "            max_length=self.max_length,\n",
    "            pad_to_multiple_of=self.pad_to_multiple_of,\n",
    "            return_tensors=\"pt\",\n",
    "        )\n",
    "        \n",
    "        # Un-flatten\n",
    "        batch = {k: v.view(batch_size, num_choices, -1) for k, v in batch.items()}\n",
    "        # Add back labels\n",
    "        batch[\"labels\"] = torch.tensor(labels, dtype=torch.int64)\n",
    "        return batch"
   ]
  },
  {
   "cell_type": "code",
   "execution_count": 26,
   "id": "03a0ec05-de5e-434f-b07c-63212e7c7f2c",
   "metadata": {},
   "outputs": [],
   "source": [
    "accepted_keys = [\"input_ids\", \"attention_mask\", \"label\"]\n",
    "features = [{k: v for k, v in encoded_datasets[\"train\"][i].items() if k in accepted_keys} for i in range(10)]\n",
    "batch = DataCollatorForMultipleChoice(tokenizer)(features)"
   ]
  },
  {
   "cell_type": "code",
   "execution_count": 27,
   "id": "45f7f26c-04bb-42ae-8627-897ced69888e",
   "metadata": {},
   "outputs": [
    {
     "data": {
      "text/plain": [
       "['<s>The following sentences contain emotions: amused</s></s>She simply laughed and called over her sister.</s><pad><pad><pad><pad><pad><pad><pad><pad>',\n",
       " \"<s>The following sentences contain emotions: amused</s></s>Her grandma didn't have cable and nothing was on.</s><pad><pad><pad><pad><pad><pad>\",\n",
       " '<s>The following sentences contain emotions: amused</s></s>He sat on the porch yelling at nobody.</s><pad><pad><pad><pad><pad><pad><pad><pad>',\n",
       " '<s>The following sentences contain emotions: amused</s></s>When the ham ran out I forgot what other food tasted like.</s><pad><pad><pad><pad>',\n",
       " '<s>The following sentences contain emotions: amused</s></s>Russell made a joke in the back of class.</s><pad><pad><pad><pad><pad><pad><pad>']"
      ]
     },
     "execution_count": 27,
     "metadata": {},
     "output_type": "execute_result"
    }
   ],
   "source": [
    "[tokenizer.decode(batch[\"input_ids\"][8][i].tolist()) for i in range(5)]"
   ]
  },
  {
   "cell_type": "code",
   "execution_count": 28,
   "id": "c4b55256-30fa-4e30-a3a4-66fe1114b941",
   "metadata": {},
   "outputs": [
    {
     "name": "stdout",
     "output_type": "stream",
     "text": [
      "Context: ['amused']\n",
      "  A - She simply laughed and called over her sister.\n",
      "  B - Her grandma didn't have cable and nothing was on.\n",
      "  C - He sat on the porch yelling at nobody.\n",
      "  D - When the ham ran out I forgot what other food tasted like.\n",
      "  E - Russell made a joke in the back of class.\n",
      "\n",
      "Ground truth: option A\n"
     ]
    }
   ],
   "source": [
    "show_one(dataset[\"train\"][8])"
   ]
  },
  {
   "cell_type": "markdown",
   "id": "eb8305d3-8dc9-4d0f-8628-f51dc356c2d2",
   "metadata": {},
   "source": [
    "# Trainer Defined"
   ]
  },
  {
   "cell_type": "code",
   "execution_count": 29,
   "id": "b707863a-bc16-43b0-b633-c7ffb4fa72e5",
   "metadata": {},
   "outputs": [],
   "source": [
    "import numpy as np\n",
    "\n",
    "valStored = []\n",
    "def compute_metrics(eval_predictions):\n",
    "    predictions, label_ids = eval_predictions\n",
    "    preds = np.argmax(predictions, axis=1)\n",
    "    valStored.append((preds != label_ids).astype(np.float32));\n",
    "    return {\"accuracy\": (preds == label_ids).astype(np.float32).mean().item()}"
   ]
  },
  {
   "cell_type": "code",
   "execution_count": 79,
   "id": "b115c1ba-323a-47d5-bb9d-55de985f13b9",
   "metadata": {},
   "outputs": [],
   "source": [
    "trainer = Trainer(\n",
    "    model,\n",
    "    args,\n",
    "    train_dataset=encoded_datasets[\"train\"],\n",
    "    eval_dataset=encoded_datasets[\"test\"],\n",
    "    tokenizer=tokenizer,\n",
    "    data_collator=DataCollatorForMultipleChoice(tokenizer),\n",
    "    compute_metrics=compute_metrics,\n",
    ")"
   ]
  },
  {
   "cell_type": "code",
   "execution_count": 80,
   "id": "df5a83ea",
   "metadata": {},
   "outputs": [
    {
     "name": "stdout",
     "output_type": "stream",
     "text": [
      "Fri Jun 17 05:08:35 2022       \n",
      "+-----------------------------------------------------------------------------+\n",
      "| NVIDIA-SMI 511.23       Driver Version: 511.23       CUDA Version: 11.6     |\n",
      "|-------------------------------+----------------------+----------------------+\n",
      "| GPU  Name            TCC/WDDM | Bus-Id        Disp.A | Volatile Uncorr. ECC |\n",
      "| Fan  Temp  Perf  Pwr:Usage/Cap|         Memory-Usage | GPU-Util  Compute M. |\n",
      "|                               |                      |               MIG M. |\n",
      "|===============================+======================+======================|\n",
      "|   0  NVIDIA GeForce ... WDDM  | 00000000:09:00.0  On |                  N/A |\n",
      "| 30%   40C    P2    68W / 350W |  13376MiB / 24576MiB |      8%      Default |\n",
      "|                               |                      |                  N/A |\n",
      "+-------------------------------+----------------------+----------------------+\n",
      "                                                                               \n",
      "+-----------------------------------------------------------------------------+\n",
      "| Processes:                                                                  |\n",
      "|  GPU   GI   CI        PID   Type   Process name                  GPU Memory |\n",
      "|        ID   ID                                                   Usage      |\n",
      "|=============================================================================|\n",
      "|    0   N/A  N/A      1256    C+G   ...ty\\Common7\\IDE\\devenv.exe    N/A      |\n",
      "|    0   N/A  N/A      1372    C+G   ...lack\\app-4.26.2\\slack.exe    N/A      |\n",
      "|    0   N/A  N/A      4012    C+G   D:\\osu!\\osu!.exe                N/A      |\n",
      "|    0   N/A  N/A      4972    C+G   ...5n1h2txyewy\\SearchApp.exe    N/A      |\n",
      "|    0   N/A  N/A      6048    C+G   ...artMenuExperienceHost.exe    N/A      |\n",
      "|    0   N/A  N/A      6088    C+G   ...\\LeagueClientUxRender.exe    N/A      |\n",
      "|    0   N/A  N/A      7976    C+G   ...n\\AcPowerNotification.exe    N/A      |\n",
      "|    0   N/A  N/A      8968    C+G   ...perience\\NVIDIA Share.exe    N/A      |\n",
      "|    0   N/A  N/A      9292    C+G   ...8bbwe\\Microsoft.Notes.exe    N/A      |\n",
      "|    0   N/A  N/A     13656    C+G   ...wAgent\\ArmourySwAgent.exe    N/A      |\n",
      "|    0   N/A  N/A     16308    C+G   ...2txyewy\\TextInputHost.exe    N/A      |\n",
      "|    0   N/A  N/A     17172    C+G   ...\\app-1.0.9004\\Discord.exe    N/A      |\n",
      "|    0   N/A  N/A     17216    C+G   ...8wekyb3d8bbwe\\GameBar.exe    N/A      |\n",
      "|    0   N/A  N/A     20024      C   ...vs\\story_cloze\\python.exe    N/A      |\n",
      "|    0   N/A  N/A     20900    C+G   ...in7x64\\steamwebhelper.exe    N/A      |\n",
      "|    0   N/A  N/A     22836    C+G   ...er_engine\\wallpaper32.exe    N/A      |\n",
      "|    0   N/A  N/A     25156    C+G   ...p-3.0.1\\GitHubDesktop.exe    N/A      |\n",
      "|    0   N/A  N/A     25772    C+G                                   N/A      |\n",
      "|    0   N/A  N/A     26752    C+G   C:\\Windows\\explorer.exe         N/A      |\n",
      "|    0   N/A  N/A     27196    C+G   ...me\\Application\\chrome.exe    N/A      |\n",
      "|    0   N/A  N/A     28552    C+G   ...tracted\\WechatBrowser.exe    N/A      |\n",
      "|    0   N/A  N/A     30244    C+G   ...bbwe\\Microsoft.Photos.exe    N/A      |\n",
      "|    0   N/A  N/A     30428    C+G   ...5n1h2txyewy\\SearchApp.exe    N/A      |\n",
      "|    0   N/A  N/A     31312    C+G   ...y\\ShellExperienceHost.exe    N/A      |\n",
      "|    0   N/A  N/A     32220    C+G   ...n64\\EpicGamesLauncher.exe    N/A      |\n",
      "|    0   N/A  N/A     35748    C+G   ...perience\\NVIDIA Share.exe    N/A      |\n",
      "+-----------------------------------------------------------------------------+\n"
     ]
    }
   ],
   "source": [
    "!nvidia-smi"
   ]
  },
  {
   "cell_type": "code",
   "execution_count": 81,
   "id": "2fe74f7d",
   "metadata": {},
   "outputs": [
    {
     "name": "stdout",
     "output_type": "stream",
     "text": [
      "Using device: cuda\n",
      "\n",
      "NVIDIA GeForce RTX 3090\n",
      "Memory Usage:\n",
      "Allocated: 0.5 GB\n",
      "Cached:    7.6 GB\n"
     ]
    }
   ],
   "source": [
    "device = torch.device('cuda' if torch.cuda.is_available() else 'cpu')\n",
    "print('Using device:', device)\n",
    "print()\n",
    "\n",
    "#Additional Info when using cuda\n",
    "if device.type == 'cuda':\n",
    "    print(torch.cuda.get_device_name(0))\n",
    "    print('Memory Usage:')\n",
    "    print('Allocated:', round(torch.cuda.memory_allocated(0)/1024**3,1), 'GB')\n",
    "    print('Cached:   ', round(torch.cuda.memory_reserved(0)/1024**3,1), 'GB')"
   ]
  },
  {
   "cell_type": "code",
   "execution_count": 82,
   "id": "2a5e3430-bbd6-484d-8a8d-9cbcdba37d6e",
   "metadata": {},
   "outputs": [
    {
     "data": {
      "text/html": [
       "\n",
       "    <div>\n",
       "      \n",
       "      <progress value='42960' max='42960' style='width:300px; height:20px; vertical-align: middle;'></progress>\n",
       "      [42960/42960 53:59, Epoch 16/16]\n",
       "    </div>\n",
       "    <table border=\"1\" class=\"dataframe\">\n",
       "  <thead>\n",
       "    <tr style=\"text-align: left;\">\n",
       "      <th>Epoch</th>\n",
       "      <th>Training Loss</th>\n",
       "      <th>Validation Loss</th>\n",
       "      <th>Accuracy</th>\n",
       "    </tr>\n",
       "  </thead>\n",
       "  <tbody>\n",
       "    <tr>\n",
       "      <td>1</td>\n",
       "      <td>0.678000</td>\n",
       "      <td>0.591944</td>\n",
       "      <td>0.716912</td>\n",
       "    </tr>\n",
       "    <tr>\n",
       "      <td>2</td>\n",
       "      <td>0.549700</td>\n",
       "      <td>0.479495</td>\n",
       "      <td>0.779905</td>\n",
       "    </tr>\n",
       "    <tr>\n",
       "      <td>3</td>\n",
       "      <td>0.482700</td>\n",
       "      <td>0.457887</td>\n",
       "      <td>0.789698</td>\n",
       "    </tr>\n",
       "    <tr>\n",
       "      <td>4</td>\n",
       "      <td>0.471500</td>\n",
       "      <td>0.438942</td>\n",
       "      <td>0.795995</td>\n",
       "    </tr>\n",
       "    <tr>\n",
       "      <td>5</td>\n",
       "      <td>0.460800</td>\n",
       "      <td>0.432413</td>\n",
       "      <td>0.799722</td>\n",
       "    </tr>\n",
       "    <tr>\n",
       "      <td>6</td>\n",
       "      <td>0.434800</td>\n",
       "      <td>0.434317</td>\n",
       "      <td>0.801181</td>\n",
       "    </tr>\n",
       "    <tr>\n",
       "      <td>7</td>\n",
       "      <td>0.444400</td>\n",
       "      <td>0.429941</td>\n",
       "      <td>0.804213</td>\n",
       "    </tr>\n",
       "    <tr>\n",
       "      <td>8</td>\n",
       "      <td>0.433400</td>\n",
       "      <td>0.425862</td>\n",
       "      <td>0.805510</td>\n",
       "    </tr>\n",
       "    <tr>\n",
       "      <td>9</td>\n",
       "      <td>0.417800</td>\n",
       "      <td>0.425906</td>\n",
       "      <td>0.806945</td>\n",
       "    </tr>\n",
       "    <tr>\n",
       "      <td>10</td>\n",
       "      <td>0.420700</td>\n",
       "      <td>0.425732</td>\n",
       "      <td>0.808265</td>\n",
       "    </tr>\n",
       "    <tr>\n",
       "      <td>11</td>\n",
       "      <td>0.412100</td>\n",
       "      <td>0.424108</td>\n",
       "      <td>0.808219</td>\n",
       "    </tr>\n",
       "    <tr>\n",
       "      <td>12</td>\n",
       "      <td>0.410800</td>\n",
       "      <td>0.425482</td>\n",
       "      <td>0.809168</td>\n",
       "    </tr>\n",
       "    <tr>\n",
       "      <td>13</td>\n",
       "      <td>0.410100</td>\n",
       "      <td>0.422600</td>\n",
       "      <td>0.809307</td>\n",
       "    </tr>\n",
       "    <tr>\n",
       "      <td>14</td>\n",
       "      <td>0.408000</td>\n",
       "      <td>0.421005</td>\n",
       "      <td>0.809561</td>\n",
       "    </tr>\n",
       "    <tr>\n",
       "      <td>15</td>\n",
       "      <td>0.402000</td>\n",
       "      <td>0.422161</td>\n",
       "      <td>0.809747</td>\n",
       "    </tr>\n",
       "    <tr>\n",
       "      <td>16</td>\n",
       "      <td>0.410000</td>\n",
       "      <td>0.422460</td>\n",
       "      <td>0.810117</td>\n",
       "    </tr>\n",
       "  </tbody>\n",
       "</table><p>"
      ],
      "text/plain": [
       "<IPython.core.display.HTML object>"
      ]
     },
     "metadata": {},
     "output_type": "display_data"
    },
    {
     "data": {
      "text/plain": [
       "TrainOutput(global_step=42960, training_loss=0.45674537289298, metrics={'train_runtime': 3240.1255, 'train_samples_per_second': 13.259, 'total_flos': 312197353314264.0, 'epoch': 16.0})"
      ]
     },
     "execution_count": 82,
     "metadata": {},
     "output_type": "execute_result"
    }
   ],
   "source": [
    "trainer.train()"
   ]
  },
  {
   "cell_type": "markdown",
   "id": "32a17948-a8f7-4450-b2b0-8a7016e91391",
   "metadata": {},
   "source": [
    "出现validation loss 上升情况大多是训练集验证集数据分布不一致，或者训练集过小，未包含验证集中所有情况，\n",
    "也就是过拟合导致的。而解决这种现象可以尝试以下几种策略：\n",
    "1. 增加训练样本增加正则项系数权重，\n",
    "2. 减小过拟合加入早停机制，ValLoss上升几个epoch直接停止\n",
    "3. 采用Focal Loss\n",
    "4. 加入Label Smoothing"
   ]
  },
  {
   "cell_type": "markdown",
   "id": "b73d6ab3-33ac-4e8e-99ee-3c3f17d71642",
   "metadata": {},
   "source": [
    "# Store Value"
   ]
  },
  {
   "cell_type": "code",
   "execution_count": 56,
   "id": "c30271fe-7ce9-43e8-9e87-de8d6ae2c2c0",
   "metadata": {},
   "outputs": [
    {
     "data": {
      "text/plain": [
       "<matplotlib.collections.QuadMesh at 0x146c6775f40>"
      ]
     },
     "execution_count": 56,
     "metadata": {},
     "output_type": "execute_result"
    },
    {
     "data": {
      "image/png": "[encoded data removed]",
      "text/plain": [
       "<Figure size 432x288 with 1 Axes>"
      ]
     },
     "metadata": {
      "needs_background": "light"
     },
     "output_type": "display_data"
    }
   ],
   "source": [
    "import matplotlib.pyplot as plt\n",
    "import numpy as np\n",
    "import matplotlib\n",
    "\n",
    "Z = np.transpose(valStored)\n",
    "\n",
    "fig, ax = plt.subplots()\n",
    "ax.pcolormesh(Z)"
   ]
  },
  {
   "cell_type": "code",
   "execution_count": 57,
   "id": "5e77d30e-e51a-45a6-9130-83a17c4d2219",
   "metadata": {},
   "outputs": [],
   "source": [
    "import pandas as pd\n",
    "\n",
    "dataLog = pd.DataFrame(trainer.state.log_history)\n",
    "dataLog.to_csv(f'./trainingMetric/emotion/2-1/trainingInfo-{model_checkpoint}-{fileTag}.csv')"
   ]
  },
  {
   "cell_type": "code",
   "execution_count": 58,
   "id": "c90cfec4-96ec-46c8-a99f-3c78b989b862",
   "metadata": {},
   "outputs": [],
   "source": [
    "evaluationIterationResult = pd.DataFrame(np.transpose(valStored))\n",
    "evaluationIterationResult.to_csv(f'./trainingMetric/emotion/2-1/evaluationSpecificInfo-{model_checkpoint}-{fileTag}.csv')"
   ]
  },
  {
   "cell_type": "code",
   "execution_count": null,
   "id": "6fd7f330-1477-4119-a9dc-1ebb7acb7665",
   "metadata": {},
   "outputs": [],
   "source": []
  }
 ],
 "metadata": {
  "kernelspec": {
   "display_name": "pytorchEnvWithDataSci",
   "language": "python",
   "name": "pytorchenvwithdatasci"
  },
  "language_info": {
   "codemirror_mode": {
    "name": "ipython",
    "version": 3
   },
   "file_extension": ".py",
   "mimetype": "text/x-python",
   "name": "python",
   "nbconvert_exporter": "python",
   "pygments_lexer": "ipython3",
   "version": "3.8.13"
  }
 },
 "nbformat": 4,
 "nbformat_minor": 5
}
