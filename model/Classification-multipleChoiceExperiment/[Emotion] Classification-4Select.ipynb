{
 "cells": [
  {
   "cell_type": "code",
   "execution_count": 36,
   "id": "d1615a8a-9813-4956-b4ed-33ef2ea30723",
   "metadata": {},
   "outputs": [
    {
     "data": {
      "text/plain": [
       "'roberta-base'"
      ]
     },
     "execution_count": 36,
     "metadata": {},
     "output_type": "execute_result"
    }
   ],
   "source": [
    "# global var set\n",
    "import transformers\n",
    "\n",
    "# model info, change as needed\n",
    "model_checkpoint = \"roberta-base\"\n",
    "batch_size = 16\n",
    "num_epochs = 16\n",
    "\n",
    "fileTag = \"clean-noCombin-v1\"\n",
    "\n",
    "model_checkpoint"
   ]
  },
  {
   "cell_type": "markdown",
   "id": "79b9d76f-5ed6-4ab9-8c62-f6d6a8b47be4",
   "metadata": {},
   "source": [
    "# Convert dataset to suitable format\n",
    "IMPORTANT: please never run this section again if you have your dataset ready!"
   ]
  },
  {
   "cell_type": "code",
   "execution_count": 37,
   "id": "a93a9f46-6703-4535-af96-8be1b5b3407f",
   "metadata": {},
   "outputs": [],
   "source": [
    "import pandas as pd\n",
    "from pandas import DataFrame\n",
    "\n",
    "trainDatasetOriginal = pd.read_csv(f'../../data/csv_version/dev/emotion/allcharlinepairs-{fileTag}.csv')\n",
    "testDatasetOriginal = pd.read_csv(f'../../data/csv_version/test/emotion/allcharlinepairs-{fileTag}.csv')"
   ]
  },
  {
   "cell_type": "code",
   "execution_count": 38,
   "id": "7265a797-adc2-49ed-b237-19abf9e0569f",
   "metadata": {},
   "outputs": [],
   "source": [
    "trainDatasetProcessed = DataFrame({'emotion' : trainDatasetOriginal['emotion'],\n",
    "                                   'plutchik' : trainDatasetOriginal['plutchik'],\n",
    "                                  'selection0': pd.concat([trainDatasetOriginal['sentence'][:trainDatasetOriginal.shape[0]//4], trainDatasetOriginal.sample(frac = 1).reset_index()['sentence'][trainDatasetOriginal.shape[0]//4:]]), \n",
    "                                  'selection1': pd.concat([trainDatasetOriginal.sample(frac = 1).reset_index()['sentence'][:trainDatasetOriginal.shape[0]//4], \n",
    "                                                pd.concat([trainDatasetOriginal['sentence'][trainDatasetOriginal.shape[0]//4:trainDatasetOriginal.shape[0]//2], \n",
    "                                                trainDatasetOriginal.sample(frac = 1).reset_index()['sentence'][trainDatasetOriginal.shape[0]//2:]])]), \n",
    "                                  'selection2': pd.concat([trainDatasetOriginal.sample(frac = 1).reset_index()['sentence'][:trainDatasetOriginal.shape[0]//2], \n",
    "                                                pd.concat([trainDatasetOriginal['sentence'][trainDatasetOriginal.shape[0]//2:trainDatasetOriginal.shape[0]//4*3], \n",
    "                                                trainDatasetOriginal.sample(frac = 1).reset_index()['sentence'][trainDatasetOriginal.shape[0]//4*3:]])]), \n",
    "                                  'selection3': pd.concat([trainDatasetOriginal.sample(frac = 1).reset_index()['sentence'][:trainDatasetOriginal.shape[0]//4*3], \n",
    "                                                           trainDatasetOriginal['sentence'][trainDatasetOriginal.shape[0]//4*3:]]),\n",
    "                                  'label': pd.Series(0 if x < trainDatasetOriginal.shape[0]//4 else (1 if x < trainDatasetOriginal.shape[0]//2 \n",
    "                                                                                               else (2 if x < trainDatasetOriginal.shape[0]//4*3 \n",
    "                                                                                               else 3)) for x in trainDatasetOriginal.index)}).sample(frac=1).reset_index(drop=True)\n",
    "\n",
    "testDatasetProcessed = DataFrame({'emotion' : testDatasetOriginal['emotion'],\n",
    "                                   'plutchik' : testDatasetOriginal['plutchik'],\n",
    "                                  'selection0': pd.concat([testDatasetOriginal['sentence'][:testDatasetOriginal.shape[0]//4], testDatasetOriginal.sample(frac = 1).reset_index()['sentence'][testDatasetOriginal.shape[0]//4:]]), \n",
    "                                  'selection1': pd.concat([testDatasetOriginal.sample(frac = 1).reset_index()['sentence'][:testDatasetOriginal.shape[0]//4], \n",
    "                                                pd.concat([testDatasetOriginal['sentence'][testDatasetOriginal.shape[0]//4:testDatasetOriginal.shape[0]//2], \n",
    "                                                testDatasetOriginal.sample(frac = 1).reset_index()['sentence'][testDatasetOriginal.shape[0]//2:]])]), \n",
    "                                  'selection2': pd.concat([testDatasetOriginal.sample(frac = 1).reset_index()['sentence'][:testDatasetOriginal.shape[0]//2], \n",
    "                                                pd.concat([testDatasetOriginal['sentence'][testDatasetOriginal.shape[0]//2:testDatasetOriginal.shape[0]//4*3], \n",
    "                                                testDatasetOriginal.sample(frac = 1).reset_index()['sentence'][testDatasetOriginal.shape[0]//4*3:]])]), \n",
    "                                  'selection3': pd.concat([testDatasetOriginal.sample(frac = 1).reset_index()['sentence'][:testDatasetOriginal.shape[0]//4*3], \n",
    "                                                           testDatasetOriginal['sentence'][testDatasetOriginal.shape[0]//4*3:]]),\n",
    "                                  'label': pd.Series(0 if x < testDatasetOriginal.shape[0]//4 else (1 if x < testDatasetOriginal.shape[0]//2 \n",
    "                                                                                               else (2 if x < testDatasetOriginal.shape[0]//4*3 \n",
    "                                                                                               else 3)) for x in testDatasetOriginal.index)}).sample(frac=1).reset_index(drop=True)\n"
   ]
  },
  {
   "cell_type": "code",
   "execution_count": 70,
   "id": "19e3c334-b371-44ad-b6e1-7161f405b741",
   "metadata": {},
   "outputs": [
    {
     "data": {
      "text/html": [
       "<div>\n",
       "<style scoped>\n",
       "    .dataframe tbody tr th:only-of-type {\n",
       "        vertical-align: middle;\n",
       "    }\n",
       "\n",
       "    .dataframe tbody tr th {\n",
       "        vertical-align: top;\n",
       "    }\n",
       "\n",
       "    .dataframe thead th {\n",
       "        text-align: right;\n",
       "    }\n",
       "</style>\n",
       "<table border=\"1\" class=\"dataframe\">\n",
       "  <thead>\n",
       "    <tr style=\"text-align: right;\">\n",
       "      <th></th>\n",
       "      <th>emotion</th>\n",
       "      <th>plutchik</th>\n",
       "      <th>selection0</th>\n",
       "      <th>selection1</th>\n",
       "      <th>selection2</th>\n",
       "      <th>selection3</th>\n",
       "      <th>label</th>\n",
       "    </tr>\n",
       "  </thead>\n",
       "  <tbody>\n",
       "    <tr>\n",
       "      <th>0</th>\n",
       "      <td>['embarrassed']</td>\n",
       "      <td>{'joy': 0, 'trust': 0, 'fear': 0, 'surprise': ...</td>\n",
       "      <td>Cindy is very tired.</td>\n",
       "      <td>He uses earplugs and white noise to cope, but ...</td>\n",
       "      <td>She knew that she did it wrong because her sis...</td>\n",
       "      <td>He accused me of not working hard.</td>\n",
       "      <td>2</td>\n",
       "    </tr>\n",
       "    <tr>\n",
       "      <th>1</th>\n",
       "      <td>['enthusiastic']</td>\n",
       "      <td>{'joy': 2, 'trust': 2, 'fear': 0, 'surprise': ...</td>\n",
       "      <td>I picked some flowers from the garden by the s...</td>\n",
       "      <td>Brock loves cars.</td>\n",
       "      <td>Jim brought his empty bucket back into his hou...</td>\n",
       "      <td>Last Friday the daycare center celebrated Chin...</td>\n",
       "      <td>1</td>\n",
       "    </tr>\n",
       "    <tr>\n",
       "      <th>2</th>\n",
       "      <td>[]</td>\n",
       "      <td>{'joy': 2, 'trust': 2, 'fear': 2, 'surprise': ...</td>\n",
       "      <td>She put all the ingredients together and got t...</td>\n",
       "      <td>My friend told me my face was dirty.</td>\n",
       "      <td>She preferred to talk to boys and skip class.</td>\n",
       "      <td>She loved his witty plays.</td>\n",
       "      <td>3</td>\n",
       "    </tr>\n",
       "    <tr>\n",
       "      <th>3</th>\n",
       "      <td>['guilty']</td>\n",
       "      <td>{'joy': 0, 'trust': 0, 'fear': 3, 'surprise': ...</td>\n",
       "      <td>He held me on his lap, but I kept getting down.</td>\n",
       "      <td>She told me that no matter what she enjoyed he...</td>\n",
       "      <td>He called Anne and apologized, adding he'd met...</td>\n",
       "      <td>Mark didn't listen, and went down the big hill.</td>\n",
       "      <td>2</td>\n",
       "    </tr>\n",
       "    <tr>\n",
       "      <th>4</th>\n",
       "      <td>['calm']</td>\n",
       "      <td>{'joy': 2, 'trust': 0, 'fear': 2, 'surprise': ...</td>\n",
       "      <td>Jasper noticed that after a day of hard work h...</td>\n",
       "      <td>She was offered a babysitting job for $40 a week.</td>\n",
       "      <td>David decided to walk to a park.</td>\n",
       "      <td>I am having trouble assembling my costume.</td>\n",
       "      <td>2</td>\n",
       "    </tr>\n",
       "    <tr>\n",
       "      <th>...</th>\n",
       "      <td>...</td>\n",
       "      <td>...</td>\n",
       "      <td>...</td>\n",
       "      <td>...</td>\n",
       "      <td>...</td>\n",
       "      <td>...</td>\n",
       "      <td>...</td>\n",
       "    </tr>\n",
       "    <tr>\n",
       "      <th>42949</th>\n",
       "      <td>['determined']</td>\n",
       "      <td>{'joy': 0, 'trust': 2, 'fear': 0, 'surprise': ...</td>\n",
       "      <td>Anna had an essay to write for class.</td>\n",
       "      <td>Our neighbor Tracy has a boy and a girl in ele...</td>\n",
       "      <td>May spent her life trying to prove that ghosts...</td>\n",
       "      <td>He laughs at her and and hangs up the phone.</td>\n",
       "      <td>2</td>\n",
       "    </tr>\n",
       "    <tr>\n",
       "      <th>42950</th>\n",
       "      <td>['justified']</td>\n",
       "      <td>{'joy': 0, 'trust': 0, 'fear': 0, 'surprise': ...</td>\n",
       "      <td>I decided to go to an orange farm.</td>\n",
       "      <td>Cleo ended up needing six cavities filled at t...</td>\n",
       "      <td>He planned his day carefully.</td>\n",
       "      <td>I packed it in a shoulder bag with a book.</td>\n",
       "      <td>1</td>\n",
       "    </tr>\n",
       "    <tr>\n",
       "      <th>42951</th>\n",
       "      <td>['distressed']</td>\n",
       "      <td>{'joy': 0, 'trust': 0, 'fear': 0, 'surprise': ...</td>\n",
       "      <td>Tiffany scored her first ever goal and won the...</td>\n",
       "      <td>Tom and his daughter were very disappointed.</td>\n",
       "      <td>Tom was getting fast food.</td>\n",
       "      <td>Tracy sold her old car to her cousin.</td>\n",
       "      <td>1</td>\n",
       "    </tr>\n",
       "    <tr>\n",
       "      <th>42952</th>\n",
       "      <td>['determined']</td>\n",
       "      <td>{'joy': 0, 'trust': 0, 'fear': 0, 'surprise': ...</td>\n",
       "      <td>They listened to it together.</td>\n",
       "      <td>Behind the door was a teacher and students.</td>\n",
       "      <td>One day Annie decided to plant a garden.</td>\n",
       "      <td>She expected her grandma to decline, but she a...</td>\n",
       "      <td>3</td>\n",
       "    </tr>\n",
       "    <tr>\n",
       "      <th>42953</th>\n",
       "      <td>['inferior']</td>\n",
       "      <td>{'joy': 0, 'trust': 0, 'fear': 2, 'surprise': ...</td>\n",
       "      <td>Tom had an old laptop.</td>\n",
       "      <td>He swam to shore.</td>\n",
       "      <td>She gave half of her hot dog to Bailey.</td>\n",
       "      <td>I found a good deal on a pair of Nikes and dec...</td>\n",
       "      <td>0</td>\n",
       "    </tr>\n",
       "  </tbody>\n",
       "</table>\n",
       "<p>42954 rows × 7 columns</p>\n",
       "</div>"
      ],
      "text/plain": [
       "                emotion                                           plutchik  \\\n",
       "0       ['embarrassed']  {'joy': 0, 'trust': 0, 'fear': 0, 'surprise': ...   \n",
       "1      ['enthusiastic']  {'joy': 2, 'trust': 2, 'fear': 0, 'surprise': ...   \n",
       "2                    []  {'joy': 2, 'trust': 2, 'fear': 2, 'surprise': ...   \n",
       "3            ['guilty']  {'joy': 0, 'trust': 0, 'fear': 3, 'surprise': ...   \n",
       "4              ['calm']  {'joy': 2, 'trust': 0, 'fear': 2, 'surprise': ...   \n",
       "...                 ...                                                ...   \n",
       "42949    ['determined']  {'joy': 0, 'trust': 2, 'fear': 0, 'surprise': ...   \n",
       "42950     ['justified']  {'joy': 0, 'trust': 0, 'fear': 0, 'surprise': ...   \n",
       "42951    ['distressed']  {'joy': 0, 'trust': 0, 'fear': 0, 'surprise': ...   \n",
       "42952    ['determined']  {'joy': 0, 'trust': 0, 'fear': 0, 'surprise': ...   \n",
       "42953      ['inferior']  {'joy': 0, 'trust': 0, 'fear': 2, 'surprise': ...   \n",
       "\n",
       "                                              selection0  \\\n",
       "0                                   Cindy is very tired.   \n",
       "1      I picked some flowers from the garden by the s...   \n",
       "2      She put all the ingredients together and got t...   \n",
       "3        He held me on his lap, but I kept getting down.   \n",
       "4      Jasper noticed that after a day of hard work h...   \n",
       "...                                                  ...   \n",
       "42949              Anna had an essay to write for class.   \n",
       "42950                 I decided to go to an orange farm.   \n",
       "42951  Tiffany scored her first ever goal and won the...   \n",
       "42952                      They listened to it together.   \n",
       "42953                             Tom had an old laptop.   \n",
       "\n",
       "                                              selection1  \\\n",
       "0      He uses earplugs and white noise to cope, but ...   \n",
       "1                                      Brock loves cars.   \n",
       "2                   My friend told me my face was dirty.   \n",
       "3      She told me that no matter what she enjoyed he...   \n",
       "4      She was offered a babysitting job for $40 a week.   \n",
       "...                                                  ...   \n",
       "42949  Our neighbor Tracy has a boy and a girl in ele...   \n",
       "42950  Cleo ended up needing six cavities filled at t...   \n",
       "42951       Tom and his daughter were very disappointed.   \n",
       "42952        Behind the door was a teacher and students.   \n",
       "42953                                  He swam to shore.   \n",
       "\n",
       "                                              selection2  \\\n",
       "0      She knew that she did it wrong because her sis...   \n",
       "1      Jim brought his empty bucket back into his hou...   \n",
       "2          She preferred to talk to boys and skip class.   \n",
       "3      He called Anne and apologized, adding he'd met...   \n",
       "4                       David decided to walk to a park.   \n",
       "...                                                  ...   \n",
       "42949  May spent her life trying to prove that ghosts...   \n",
       "42950                      He planned his day carefully.   \n",
       "42951                         Tom was getting fast food.   \n",
       "42952           One day Annie decided to plant a garden.   \n",
       "42953            She gave half of her hot dog to Bailey.   \n",
       "\n",
       "                                              selection3  label  \n",
       "0                     He accused me of not working hard.      2  \n",
       "1      Last Friday the daycare center celebrated Chin...      1  \n",
       "2                             She loved his witty plays.      3  \n",
       "3        Mark didn't listen, and went down the big hill.      2  \n",
       "4             I am having trouble assembling my costume.      2  \n",
       "...                                                  ...    ...  \n",
       "42949       He laughs at her and and hangs up the phone.      2  \n",
       "42950         I packed it in a shoulder bag with a book.      1  \n",
       "42951              Tracy sold her old car to her cousin.      1  \n",
       "42952  She expected her grandma to decline, but she a...      3  \n",
       "42953  I found a good deal on a pair of Nikes and dec...      0  \n",
       "\n",
       "[42954 rows x 7 columns]"
      ]
     },
     "execution_count": 70,
     "metadata": {},
     "output_type": "execute_result"
    }
   ],
   "source": [
    "trainDatasetProcessed.to_csv(f'./dataset/4Select-{fileTag}-train.csv')\n",
    "trainDatasetProcessed"
   ]
  },
  {
   "cell_type": "code",
   "execution_count": 71,
   "id": "b770299d-567d-46e2-b928-8ee31a341c07",
   "metadata": {},
   "outputs": [
    {
     "data": {
      "text/html": [
       "<div>\n",
       "<style scoped>\n",
       "    .dataframe tbody tr th:only-of-type {\n",
       "        vertical-align: middle;\n",
       "    }\n",
       "\n",
       "    .dataframe tbody tr th {\n",
       "        vertical-align: top;\n",
       "    }\n",
       "\n",
       "    .dataframe thead th {\n",
       "        text-align: right;\n",
       "    }\n",
       "</style>\n",
       "<table border=\"1\" class=\"dataframe\">\n",
       "  <thead>\n",
       "    <tr style=\"text-align: right;\">\n",
       "      <th></th>\n",
       "      <th>emotion</th>\n",
       "      <th>plutchik</th>\n",
       "      <th>selection0</th>\n",
       "      <th>selection1</th>\n",
       "      <th>selection2</th>\n",
       "      <th>selection3</th>\n",
       "      <th>label</th>\n",
       "    </tr>\n",
       "  </thead>\n",
       "  <tbody>\n",
       "    <tr>\n",
       "      <th>0</th>\n",
       "      <td>['afraid']</td>\n",
       "      <td>{'joy': 0, 'trust': 0, 'fear': 3, 'surprise': ...</td>\n",
       "      <td>Kate turned around in a huff and finished her ...</td>\n",
       "      <td>Mike walked across a police officer parked on ...</td>\n",
       "      <td>Jeffrey has become one of my best friends!</td>\n",
       "      <td>The baby chickens seemed to be disappearing ov...</td>\n",
       "      <td>3</td>\n",
       "    </tr>\n",
       "    <tr>\n",
       "      <th>1</th>\n",
       "      <td>['appreciative']</td>\n",
       "      <td>{'joy': 2, 'trust': 3, 'fear': 0, 'surprise': ...</td>\n",
       "      <td>The dentist realized Sandy's anxiety and offer...</td>\n",
       "      <td>They kept quiet from there on out.</td>\n",
       "      <td>She suddenly felt very ill.</td>\n",
       "      <td>Rick argued with her, taking his time on the g...</td>\n",
       "      <td>1</td>\n",
       "    </tr>\n",
       "    <tr>\n",
       "      <th>2</th>\n",
       "      <td>['steadfast']</td>\n",
       "      <td>{'joy': 0, 'trust': 0, 'fear': 2, 'surprise': ...</td>\n",
       "      <td>The next day I checked to see if anything grew.</td>\n",
       "      <td>People online will argue forever and no one ch...</td>\n",
       "      <td>Thankfully she found it after all in her neigh...</td>\n",
       "      <td>Andy liked swimming.</td>\n",
       "      <td>1</td>\n",
       "    </tr>\n",
       "    <tr>\n",
       "      <th>3</th>\n",
       "      <td>['scared']</td>\n",
       "      <td>{'joy': 0, 'trust': 0, 'fear': 3, 'surprise': ...</td>\n",
       "      <td>Sherry was planning a gender reveal party for ...</td>\n",
       "      <td>She vacuum sealed her leftovers.</td>\n",
       "      <td>Tom bought it immediately.</td>\n",
       "      <td>Chloe got lost in the woods.</td>\n",
       "      <td>3</td>\n",
       "    </tr>\n",
       "    <tr>\n",
       "      <th>4</th>\n",
       "      <td>['excited']</td>\n",
       "      <td>{'joy': 3, 'trust': 0, 'fear': 0, 'surprise': ...</td>\n",
       "      <td>He took his students to see a play in the city.</td>\n",
       "      <td>But she didn't have a large budget.</td>\n",
       "      <td>She challenged her little brother to a game.</td>\n",
       "      <td>They weathered the storm well.</td>\n",
       "      <td>2</td>\n",
       "    </tr>\n",
       "    <tr>\n",
       "      <th>...</th>\n",
       "      <td>...</td>\n",
       "      <td>...</td>\n",
       "      <td>...</td>\n",
       "      <td>...</td>\n",
       "      <td>...</td>\n",
       "      <td>...</td>\n",
       "      <td>...</td>\n",
       "    </tr>\n",
       "    <tr>\n",
       "      <th>43190</th>\n",
       "      <td>['upset']</td>\n",
       "      <td>{'joy': 0, 'trust': 0, 'fear': 2, 'surprise': ...</td>\n",
       "      <td>No one understood why as he didn't like cabbage.</td>\n",
       "      <td>Their mom was not happy.</td>\n",
       "      <td>Lee wanted to give his girlfriend a gift.</td>\n",
       "      <td>Billy's father bought him the new pair of shoes.</td>\n",
       "      <td>1</td>\n",
       "    </tr>\n",
       "    <tr>\n",
       "      <th>43191</th>\n",
       "      <td>['sadistic']</td>\n",
       "      <td>{'joy': 0, 'trust': 2, 'fear': 2, 'surprise': ...</td>\n",
       "      <td>When he arrived, she said she'd take the baby ...</td>\n",
       "      <td>Recently, Sandy had to go to the dentist for a...</td>\n",
       "      <td>Then he visited restaurants to taste Egyptian ...</td>\n",
       "      <td>He hired a local guide to instruct him.</td>\n",
       "      <td>0</td>\n",
       "    </tr>\n",
       "    <tr>\n",
       "      <th>43192</th>\n",
       "      <td>['excited']</td>\n",
       "      <td>{'joy': 3, 'trust': 0, 'fear': 0, 'surprise': ...</td>\n",
       "      <td>When it was time to take the test, Steve felt ...</td>\n",
       "      <td>His neighbor Bob came rushing to help him get ...</td>\n",
       "      <td>Brenda went on a vacation to Vegas.</td>\n",
       "      <td>They had to take shelter in a cave until it wa...</td>\n",
       "      <td>2</td>\n",
       "    </tr>\n",
       "    <tr>\n",
       "      <th>43193</th>\n",
       "      <td>['happy']</td>\n",
       "      <td>{'joy': 2, 'trust': 2, 'fear': 0, 'surprise': ...</td>\n",
       "      <td>However, Benjamin's friends copied his work.</td>\n",
       "      <td>There was a clown at Eddy's friend's birthday ...</td>\n",
       "      <td>Sharyn's sister Sue got married shortly after ...</td>\n",
       "      <td>Al came home and took the pipe off the drain.</td>\n",
       "      <td>1</td>\n",
       "    </tr>\n",
       "    <tr>\n",
       "      <th>43194</th>\n",
       "      <td>['depressed']</td>\n",
       "      <td>{'joy': 0, 'trust': 0, 'fear': 0, 'surprise': ...</td>\n",
       "      <td>The cops asked them to stop listening.</td>\n",
       "      <td>Then he found the perfect present.</td>\n",
       "      <td>Sally's dream was to make it in Hollywood.</td>\n",
       "      <td>Fred reluctantly bought the vehicle.</td>\n",
       "      <td>3</td>\n",
       "    </tr>\n",
       "  </tbody>\n",
       "</table>\n",
       "<p>43195 rows × 7 columns</p>\n",
       "</div>"
      ],
      "text/plain": [
       "                emotion                                           plutchik  \\\n",
       "0            ['afraid']  {'joy': 0, 'trust': 0, 'fear': 3, 'surprise': ...   \n",
       "1      ['appreciative']  {'joy': 2, 'trust': 3, 'fear': 0, 'surprise': ...   \n",
       "2         ['steadfast']  {'joy': 0, 'trust': 0, 'fear': 2, 'surprise': ...   \n",
       "3            ['scared']  {'joy': 0, 'trust': 0, 'fear': 3, 'surprise': ...   \n",
       "4           ['excited']  {'joy': 3, 'trust': 0, 'fear': 0, 'surprise': ...   \n",
       "...                 ...                                                ...   \n",
       "43190         ['upset']  {'joy': 0, 'trust': 0, 'fear': 2, 'surprise': ...   \n",
       "43191      ['sadistic']  {'joy': 0, 'trust': 2, 'fear': 2, 'surprise': ...   \n",
       "43192       ['excited']  {'joy': 3, 'trust': 0, 'fear': 0, 'surprise': ...   \n",
       "43193         ['happy']  {'joy': 2, 'trust': 2, 'fear': 0, 'surprise': ...   \n",
       "43194     ['depressed']  {'joy': 0, 'trust': 0, 'fear': 0, 'surprise': ...   \n",
       "\n",
       "                                              selection0  \\\n",
       "0      Kate turned around in a huff and finished her ...   \n",
       "1      The dentist realized Sandy's anxiety and offer...   \n",
       "2        The next day I checked to see if anything grew.   \n",
       "3      Sherry was planning a gender reveal party for ...   \n",
       "4        He took his students to see a play in the city.   \n",
       "...                                                  ...   \n",
       "43190   No one understood why as he didn't like cabbage.   \n",
       "43191  When he arrived, she said she'd take the baby ...   \n",
       "43192  When it was time to take the test, Steve felt ...   \n",
       "43193       However, Benjamin's friends copied his work.   \n",
       "43194             The cops asked them to stop listening.   \n",
       "\n",
       "                                              selection1  \\\n",
       "0      Mike walked across a police officer parked on ...   \n",
       "1                     They kept quiet from there on out.   \n",
       "2      People online will argue forever and no one ch...   \n",
       "3                       She vacuum sealed her leftovers.   \n",
       "4                    But she didn't have a large budget.   \n",
       "...                                                  ...   \n",
       "43190                           Their mom was not happy.   \n",
       "43191  Recently, Sandy had to go to the dentist for a...   \n",
       "43192  His neighbor Bob came rushing to help him get ...   \n",
       "43193  There was a clown at Eddy's friend's birthday ...   \n",
       "43194                 Then he found the perfect present.   \n",
       "\n",
       "                                              selection2  \\\n",
       "0             Jeffrey has become one of my best friends!   \n",
       "1                            She suddenly felt very ill.   \n",
       "2      Thankfully she found it after all in her neigh...   \n",
       "3                             Tom bought it immediately.   \n",
       "4           She challenged her little brother to a game.   \n",
       "...                                                  ...   \n",
       "43190          Lee wanted to give his girlfriend a gift.   \n",
       "43191  Then he visited restaurants to taste Egyptian ...   \n",
       "43192                Brenda went on a vacation to Vegas.   \n",
       "43193  Sharyn's sister Sue got married shortly after ...   \n",
       "43194         Sally's dream was to make it in Hollywood.   \n",
       "\n",
       "                                              selection3  label  \n",
       "0      The baby chickens seemed to be disappearing ov...      3  \n",
       "1      Rick argued with her, taking his time on the g...      1  \n",
       "2                                   Andy liked swimming.      1  \n",
       "3                           Chloe got lost in the woods.      3  \n",
       "4                         They weathered the storm well.      2  \n",
       "...                                                  ...    ...  \n",
       "43190   Billy's father bought him the new pair of shoes.      1  \n",
       "43191            He hired a local guide to instruct him.      0  \n",
       "43192  They had to take shelter in a cave until it wa...      2  \n",
       "43193      Al came home and took the pipe off the drain.      1  \n",
       "43194               Fred reluctantly bought the vehicle.      3  \n",
       "\n",
       "[43195 rows x 7 columns]"
      ]
     },
     "execution_count": 71,
     "metadata": {},
     "output_type": "execute_result"
    }
   ],
   "source": [
    "testDatasetProcessed.to_csv(f'./dataset/4Select-{fileTag}-test.csv')\n",
    "testDatasetProcessed"
   ]
  },
  {
   "cell_type": "markdown",
   "id": "0a7283c1-d83e-4369-b5e4-6c2e09d654ac",
   "metadata": {},
   "source": [
    "# load dataset"
   ]
  },
  {
   "cell_type": "code",
   "execution_count": 41,
   "id": "828a5092-83e6-4580-99c9-bd9ec434708f",
   "metadata": {},
   "outputs": [],
   "source": [
    "from datasets import load_dataset, load_metric"
   ]
  },
  {
   "cell_type": "code",
   "execution_count": 42,
   "id": "05151e3b-0bec-44f4-bf0a-ac58cddbf838",
   "metadata": {
    "scrolled": true
   },
   "outputs": [
    {
     "name": "stderr",
     "output_type": "stream",
     "text": [
      "Using custom data configuration default-58503371b4ef80cf\n"
     ]
    },
    {
     "name": "stdout",
     "output_type": "stream",
     "text": [
      "Downloading and preparing dataset csv/default to C:\\Users\\JAM_0\\.cache\\huggingface\\datasets\\csv\\default-58503371b4ef80cf\\0.0.0\\433e0ccc46f9880962cc2b12065189766fbb2bee57a221866138fb9203c83519...\n"
     ]
    },
    {
     "data": {
      "application/vnd.jupyter.widget-view+json": {
       "model_id": "f50b00ff51ba4788a8146f44fb4a3c62",
       "version_major": 2,
       "version_minor": 0
      },
      "text/plain": [
       "Downloading data files:   0%|          | 0/2 [00:00<?, ?it/s]"
      ]
     },
     "metadata": {},
     "output_type": "display_data"
    },
    {
     "data": {
      "application/vnd.jupyter.widget-view+json": {
       "model_id": "eb1dce3bd74b4996964f46e79fa3807b",
       "version_major": 2,
       "version_minor": 0
      },
      "text/plain": [
       "Extracting data files:   0%|          | 0/2 [00:00<?, ?it/s]"
      ]
     },
     "metadata": {},
     "output_type": "display_data"
    },
    {
     "name": "stdout",
     "output_type": "stream",
     "text": [
      "Dataset csv downloaded and prepared to C:\\Users\\JAM_0\\.cache\\huggingface\\datasets\\csv\\default-58503371b4ef80cf\\0.0.0\\433e0ccc46f9880962cc2b12065189766fbb2bee57a221866138fb9203c83519. Subsequent calls will reuse this data.\n"
     ]
    },
    {
     "data": {
      "application/vnd.jupyter.widget-view+json": {
       "model_id": "4aadbe95b5834d2b8cbd7783fc3766ce",
       "version_major": 2,
       "version_minor": 0
      },
      "text/plain": [
       "  0%|          | 0/2 [00:00<?, ?it/s]"
      ]
     },
     "metadata": {},
     "output_type": "display_data"
    }
   ],
   "source": [
    "dataset = load_dataset('csv', data_files={'train': f'./dataset/4Select-{fileTag}-train.csv', \n",
    "                                           'test': f'./dataset/4Select-{fileTag}-test.csv'})"
   ]
  },
  {
   "cell_type": "code",
   "execution_count": 43,
   "id": "d776c270-7752-4445-ba6c-eb078f71eccc",
   "metadata": {},
   "outputs": [
    {
     "data": {
      "text/plain": [
       "DatasetDict({\n",
       "    train: Dataset({\n",
       "        features: ['Unnamed: 0', 'emotion', 'plutchik', 'selection0', 'selection1', 'selection2', 'selection3', 'label'],\n",
       "        num_rows: 42954\n",
       "    })\n",
       "    test: Dataset({\n",
       "        features: ['Unnamed: 0', 'emotion', 'plutchik', 'selection0', 'selection1', 'selection2', 'selection3', 'label'],\n",
       "        num_rows: 43195\n",
       "    })\n",
       "})"
      ]
     },
     "execution_count": 43,
     "metadata": {},
     "output_type": "execute_result"
    }
   ],
   "source": [
    "dataset"
   ]
  },
  {
   "cell_type": "code",
   "execution_count": 44,
   "id": "a1c79159-f795-4d02-b052-94f04286d53c",
   "metadata": {},
   "outputs": [
    {
     "data": {
      "text/plain": [
       "{'Unnamed: 0': 0,\n",
       " 'emotion': \"['afraid']\",\n",
       " 'plutchik': \"{'joy': 0, 'trust': 0, 'fear': 3, 'surprise': 3, 'sadness': 0, 'disgust': 3, 'anger': 3, 'anticipation': 3}\",\n",
       " 'selection0': 'Kate turned around in a huff and finished her assignment.',\n",
       " 'selection1': 'Mike walked across a police officer parked on the side of the road.',\n",
       " 'selection2': 'Jeffrey has become one of my best friends!',\n",
       " 'selection3': 'The baby chickens seemed to be disappearing overnight.',\n",
       " 'label': 3}"
      ]
     },
     "execution_count": 44,
     "metadata": {},
     "output_type": "execute_result"
    }
   ],
   "source": [
    "dataset['test'][0]"
   ]
  },
  {
   "cell_type": "code",
   "execution_count": 62,
   "id": "1f6ad67d-b4cb-4f65-a9cb-d2d665deec1f",
   "metadata": {},
   "outputs": [],
   "source": [
    "def show_one(example):\n",
    "    print(f\"Context: {example['emotion']}\")\n",
    "    print(f\"  A - {example['selection0']}\")\n",
    "    print(f\"  B - {example['selection1']}\")\n",
    "    print(f\"  C - {example['selection2']}\")\n",
    "    print(f\"  D - {example['selection3']}\")\n",
    "    print(f\"\\nGround truth: option {['A', 'B', 'C', 'D'][example['label']]}\")"
   ]
  },
  {
   "cell_type": "code",
   "execution_count": 69,
   "id": "15cd7cfb-748a-4fe7-8152-7debf6a65ead",
   "metadata": {},
   "outputs": [
    {
     "name": "stdout",
     "output_type": "stream",
     "text": [
      "Context: []\n",
      "  A - She put all the ingredients together and got to work.\n",
      "  B - My friend told me my face was dirty.\n",
      "  C - She preferred to talk to boys and skip class.\n",
      "  D - She loved his witty plays.\n",
      "\n",
      "Ground truth: option D\n"
     ]
    }
   ],
   "source": [
    "show_one(dataset[\"train\"][2])"
   ]
  },
  {
   "cell_type": "markdown",
   "id": "5da93346-1037-41ed-b67d-91877fa8c0ec",
   "metadata": {},
   "source": [
    "# Preprocessing Data"
   ]
  },
  {
   "cell_type": "code",
   "execution_count": 49,
   "id": "3da78c12-9aff-4beb-a006-e287bbf61023",
   "metadata": {},
   "outputs": [],
   "source": [
    "from transformers import AutoTokenizer\n",
    "    \n",
    "tokenizer = AutoTokenizer.from_pretrained(model_checkpoint, use_fast=True)"
   ]
  },
  {
   "cell_type": "code",
   "execution_count": 50,
   "id": "caffe397-a65d-478f-b966-7b910fb2edd7",
   "metadata": {},
   "outputs": [],
   "source": [
    "selectionList = [\"selection0\", \"selection1\", \"selection2\", \"selection3\"]\n",
    "\n",
    "def preprocess_function(examples):\n",
    "    # Repeat each first sentence four times to go with the four possibilities of second sentences.\n",
    "    first_sentences = [[\"The following sentences contain emotions: {}\".format(context.strip(\"[\").strip(\"]\").replace('\\'', '')) ]*4 for context in examples[\"emotion\"]]\n",
    "    # Grab all second sentences possible for each context.\n",
    "    second_sentences = [[examples[selection][index] for selection in selectionList] for index in range(len(examples['selection0']))]\n",
    "\n",
    "    # Flatten everything\n",
    "    first_sentences = sum(first_sentences, [])\n",
    "    second_sentences = sum(second_sentences, [])\n",
    "    \n",
    "    # Tokenize\n",
    "    tokenized_examples = tokenizer(first_sentences, second_sentences, truncation=True)\n",
    "    # Un-flatten\n",
    "    # print(tokenized_examples.items())\n",
    "    return {k: [v[i:i+4] for i in range(0, len(v), 4)] for k, v in tokenized_examples.items()}"
   ]
  },
  {
   "cell_type": "code",
   "execution_count": 51,
   "id": "0afb4841-ab69-4b91-8859-fd249badb923",
   "metadata": {},
   "outputs": [
    {
     "name": "stdout",
     "output_type": "stream",
     "text": [
      "5 4 [18, 28, 23, 19]\n"
     ]
    }
   ],
   "source": [
    "examples = dataset[\"train\"][:5]\n",
    "features = preprocess_function(examples)\n",
    "print(len(features[\"input_ids\"]), len(features[\"input_ids\"][0]), [len(x) for x in features[\"input_ids\"][0]])"
   ]
  },
  {
   "cell_type": "code",
   "execution_count": 52,
   "id": "903e2891-0e3d-4e87-b98a-727eaf36417a",
   "metadata": {},
   "outputs": [
    {
     "data": {
      "text/plain": [
       "['<s>The following sentences contain emotions: embarrassed</s></s>Cindy is very tired.</s>',\n",
       " \"<s>The following sentences contain emotions: embarrassed</s></s>He uses earplugs and white noise to cope, but it isn't enough.</s>\",\n",
       " '<s>The following sentences contain emotions: embarrassed</s></s>She knew that she did it wrong because her sister laughed.</s>',\n",
       " '<s>The following sentences contain emotions: enthusiastic</s></s>I picked some flowers from the garden by the store.</s>',\n",
       " '<s>The following sentences contain emotions: enthusiastic</s></s>Brock loves cars.</s>',\n",
       " '<s>The following sentences contain emotions: enthusiastic</s></s>Jim brought his empty bucket back into his house for next week.</s>',\n",
       " '<s>The following sentences contain emotions: </s></s>She put all the ingredients together and got to work.</s>',\n",
       " '<s>The following sentences contain emotions: </s></s>My friend told me my face was dirty.</s>',\n",
       " '<s>The following sentences contain emotions: </s></s>She preferred to talk to boys and skip class.</s>',\n",
       " '<s>The following sentences contain emotions: guilty</s></s>He held me on his lap, but I kept getting down.</s>',\n",
       " '<s>The following sentences contain emotions: guilty</s></s>She told me that no matter what she enjoyed herself.</s>',\n",
       " \"<s>The following sentences contain emotions: guilty</s></s>He called Anne and apologized, adding he'd met someone else.</s>\",\n",
       " '<s>The following sentences contain emotions: calm</s></s>Jasper noticed that after a day of hard work his feet always hurt.</s>',\n",
       " '<s>The following sentences contain emotions: calm</s></s>She was offered a babysitting job for $40 a week.</s>',\n",
       " '<s>The following sentences contain emotions: calm</s></s>David decided to walk to a park.</s>']"
      ]
     },
     "execution_count": 52,
     "metadata": {},
     "output_type": "execute_result"
    }
   ],
   "source": [
    "[tokenizer.decode(features[\"input_ids\"][a][i]) for a in range(5) for i in range(4) ]"
   ]
  },
  {
   "cell_type": "code",
   "execution_count": 54,
   "id": "4a286ba6-cb84-4619-b842-780124d26a4a",
   "metadata": {},
   "outputs": [
    {
     "data": {
      "application/vnd.jupyter.widget-view+json": {
       "model_id": "392d520e4e03425aa54fd2f0a03f459c",
       "version_major": 2,
       "version_minor": 0
      },
      "text/plain": [
       "  0%|          | 0/43 [00:00<?, ?ba/s]"
      ]
     },
     "metadata": {},
     "output_type": "display_data"
    },
    {
     "data": {
      "application/vnd.jupyter.widget-view+json": {
       "model_id": "e65687e9817342a5b1f1420bc2c13b18",
       "version_major": 2,
       "version_minor": 0
      },
      "text/plain": [
       "  0%|          | 0/44 [00:00<?, ?ba/s]"
      ]
     },
     "metadata": {},
     "output_type": "display_data"
    }
   ],
   "source": [
    "encoded_datasets = dataset.map(preprocess_function, batched=True)"
   ]
  },
  {
   "cell_type": "markdown",
   "id": "7f496be7-4673-4520-b30e-656cd5640b34",
   "metadata": {},
   "source": [
    "# Fine-tuning the model"
   ]
  },
  {
   "cell_type": "code",
   "execution_count": 55,
   "id": "7706d875-3a89-4e52-9f08-c77256b621ca",
   "metadata": {},
   "outputs": [
    {
     "name": "stderr",
     "output_type": "stream",
     "text": [
      "Some weights of the model checkpoint at roberta-base were not used when initializing RobertaForMultipleChoice: ['lm_head.layer_norm.bias', 'lm_head.bias', 'lm_head.decoder.weight', 'lm_head.dense.bias', 'lm_head.layer_norm.weight', 'lm_head.dense.weight']\n",
      "- This IS expected if you are initializing RobertaForMultipleChoice from the checkpoint of a model trained on another task or with another architecture (e.g. initializing a BertForSequenceClassification model from a BertForPreTraining model).\n",
      "- This IS NOT expected if you are initializing RobertaForMultipleChoice from the checkpoint of a model that you expect to be exactly identical (initializing a BertForSequenceClassification model from a BertForSequenceClassification model).\n",
      "Some weights of RobertaForMultipleChoice were not initialized from the model checkpoint at roberta-base and are newly initialized: ['classifier.weight', 'classifier.bias']\n",
      "You should probably TRAIN this model on a down-stream task to be able to use it for predictions and inference.\n"
     ]
    }
   ],
   "source": [
    "from transformers import AutoModelForMultipleChoice, TrainingArguments, Trainer\n",
    "\n",
    "model = AutoModelForMultipleChoice.from_pretrained(model_checkpoint)"
   ]
  },
  {
   "cell_type": "code",
   "execution_count": 56,
   "id": "2cd7be65-ebd8-43db-bcbf-a87d7e2342e4",
   "metadata": {},
   "outputs": [],
   "source": [
    "model_name = model_checkpoint.split(\"/\")[-1]\n",
    "args = TrainingArguments(\n",
    "    f\"{model_name}-finetuned-emotionCommonsense\",\n",
    "    evaluation_strategy = \"epoch\",\n",
    "    #learning_rate=5e-5, # for bert-base\n",
    "    learning_rate=5e-7, # for roberta-base\n",
    "    # learning_rate=1e-3,\n",
    "    per_device_train_batch_size=batch_size,\n",
    "    per_device_eval_batch_size=batch_size,\n",
    "    num_train_epochs=num_epochs,\n",
    "    weight_decay=0.01,\n",
    "    push_to_hub=False,\n",
    ")"
   ]
  },
  {
   "cell_type": "code",
   "execution_count": 57,
   "id": "2737e04e-19c2-407d-8ce1-06b675f208c6",
   "metadata": {},
   "outputs": [],
   "source": [
    "from dataclasses import dataclass\n",
    "from transformers.tokenization_utils_base import PreTrainedTokenizerBase, PaddingStrategy\n",
    "from typing import Optional, Union\n",
    "import torch\n",
    "\n",
    "@dataclass\n",
    "class DataCollatorForMultipleChoice:\n",
    "    \"\"\"\n",
    "    Data collator that will dynamically pad the inputs for multiple choice received.\n",
    "    \"\"\"\n",
    "\n",
    "    tokenizer: PreTrainedTokenizerBase\n",
    "    padding: Union[bool, str, PaddingStrategy] = True\n",
    "    max_length: Optional[int] = None\n",
    "    pad_to_multiple_of: Optional[int] = None\n",
    "\n",
    "    def __call__(self, features):\n",
    "        label_name = \"label\" if \"label\" in features[0].keys() else \"labels\"\n",
    "        labels = [feature.pop(label_name) for feature in features]\n",
    "        batch_size = len(features)\n",
    "        num_choices = len(features[0][\"input_ids\"])\n",
    "        flattened_features = [[{k: v[i] for k, v in feature.items()} for i in range(num_choices)] for feature in features]\n",
    "        flattened_features = sum(flattened_features, [])\n",
    "        \n",
    "        batch = self.tokenizer.pad(\n",
    "            flattened_features,\n",
    "            padding=self.padding,\n",
    "            max_length=self.max_length,\n",
    "            pad_to_multiple_of=self.pad_to_multiple_of,\n",
    "            return_tensors=\"pt\",\n",
    "        )\n",
    "        \n",
    "        # Un-flatten\n",
    "        batch = {k: v.view(batch_size, num_choices, -1) for k, v in batch.items()}\n",
    "        # Add back labels\n",
    "        batch[\"labels\"] = torch.tensor(labels, dtype=torch.int64)\n",
    "        return batch"
   ]
  },
  {
   "cell_type": "code",
   "execution_count": 58,
   "id": "03a0ec05-de5e-434f-b07c-63212e7c7f2c",
   "metadata": {},
   "outputs": [],
   "source": [
    "accepted_keys = [\"input_ids\", \"attention_mask\", \"label\"]\n",
    "features = [{k: v for k, v in encoded_datasets[\"train\"][i].items() if k in accepted_keys} for i in range(10)]\n",
    "batch = DataCollatorForMultipleChoice(tokenizer)(features)"
   ]
  },
  {
   "cell_type": "code",
   "execution_count": 60,
   "id": "45f7f26c-04bb-42ae-8627-897ced69888e",
   "metadata": {},
   "outputs": [
    {
     "data": {
      "text/plain": [
       "['<s>The following sentences contain emotions: annoyed</s></s>They walked into every nearby building, but there were no bathrooms.</s><pad><pad><pad><pad>',\n",
       " '<s>The following sentences contain emotions: annoyed</s></s>He spent every minute of his free time working on the car.</s><pad><pad><pad><pad>',\n",
       " '<s>The following sentences contain emotions: annoyed</s></s>Everyone else was full from their meal, but Chris remained hungry.</s><pad><pad><pad><pad>',\n",
       " '<s>The following sentences contain emotions: annoyed</s></s>Last week he finally asked her out to dinner.</s><pad><pad><pad><pad><pad><pad><pad>']"
      ]
     },
     "execution_count": 60,
     "metadata": {},
     "output_type": "execute_result"
    }
   ],
   "source": [
    "[tokenizer.decode(batch[\"input_ids\"][8][i].tolist()) for i in range(4)]"
   ]
  },
  {
   "cell_type": "code",
   "execution_count": 61,
   "id": "c4b55256-30fa-4e30-a3a4-66fe1114b941",
   "metadata": {},
   "outputs": [
    {
     "name": "stdout",
     "output_type": "stream",
     "text": [
      "Context: ['annoyed']\n",
      "  A - They walked into every nearby building, but there were no bathrooms.\n",
      "  B - He spent every minute of his free time working on the car.\n",
      "  C - Everyone else was full from their meal, but Chris remained hungry.\n",
      "\n",
      "Ground truth: option C\n"
     ]
    }
   ],
   "source": [
    "show_one(dataset[\"train\"][8])"
   ]
  },
  {
   "cell_type": "markdown",
   "id": "eb8305d3-8dc9-4d0f-8628-f51dc356c2d2",
   "metadata": {},
   "source": [
    "# Trainer Defined"
   ]
  },
  {
   "cell_type": "code",
   "execution_count": 78,
   "id": "b707863a-bc16-43b0-b633-c7ffb4fa72e5",
   "metadata": {},
   "outputs": [],
   "source": [
    "import numpy as np\n",
    "\n",
    "valStored = []\n",
    "def compute_metrics(eval_predictions):\n",
    "    predictions, label_ids = eval_predictions\n",
    "    preds = np.argmax(predictions, axis=1)\n",
    "    valStored.append((preds != label_ids).astype(np.float32));\n",
    "    return {\"accuracy\": (preds == label_ids).astype(np.float32).mean().item()}"
   ]
  },
  {
   "cell_type": "code",
   "execution_count": 79,
   "id": "b115c1ba-323a-47d5-bb9d-55de985f13b9",
   "metadata": {},
   "outputs": [],
   "source": [
    "trainer = Trainer(\n",
    "    model,\n",
    "    args,\n",
    "    train_dataset=encoded_datasets[\"train\"],\n",
    "    eval_dataset=encoded_datasets[\"test\"],\n",
    "    tokenizer=tokenizer,\n",
    "    data_collator=DataCollatorForMultipleChoice(tokenizer),\n",
    "    compute_metrics=compute_metrics,\n",
    ")"
   ]
  },
  {
   "cell_type": "code",
   "execution_count": 80,
   "id": "df5a83ea",
   "metadata": {},
   "outputs": [
    {
     "name": "stdout",
     "output_type": "stream",
     "text": [
      "Fri Jun 17 05:08:35 2022       \n",
      "+-----------------------------------------------------------------------------+\n",
      "| NVIDIA-SMI 511.23       Driver Version: 511.23       CUDA Version: 11.6     |\n",
      "|-------------------------------+----------------------+----------------------+\n",
      "| GPU  Name            TCC/WDDM | Bus-Id        Disp.A | Volatile Uncorr. ECC |\n",
      "| Fan  Temp  Perf  Pwr:Usage/Cap|         Memory-Usage | GPU-Util  Compute M. |\n",
      "|                               |                      |               MIG M. |\n",
      "|===============================+======================+======================|\n",
      "|   0  NVIDIA GeForce ... WDDM  | 00000000:09:00.0  On |                  N/A |\n",
      "| 30%   40C    P2    68W / 350W |  13376MiB / 24576MiB |      8%      Default |\n",
      "|                               |                      |                  N/A |\n",
      "+-------------------------------+----------------------+----------------------+\n",
      "                                                                               \n",
      "+-----------------------------------------------------------------------------+\n",
      "| Processes:                                                                  |\n",
      "|  GPU   GI   CI        PID   Type   Process name                  GPU Memory |\n",
      "|        ID   ID                                                   Usage      |\n",
      "|=============================================================================|\n",
      "|    0   N/A  N/A      1256    C+G   ...ty\\Common7\\IDE\\devenv.exe    N/A      |\n",
      "|    0   N/A  N/A      1372    C+G   ...lack\\app-4.26.2\\slack.exe    N/A      |\n",
      "|    0   N/A  N/A      4012    C+G   D:\\osu!\\osu!.exe                N/A      |\n",
      "|    0   N/A  N/A      4972    C+G   ...5n1h2txyewy\\SearchApp.exe    N/A      |\n",
      "|    0   N/A  N/A      6048    C+G   ...artMenuExperienceHost.exe    N/A      |\n",
      "|    0   N/A  N/A      6088    C+G   ...\\LeagueClientUxRender.exe    N/A      |\n",
      "|    0   N/A  N/A      7976    C+G   ...n\\AcPowerNotification.exe    N/A      |\n",
      "|    0   N/A  N/A      8968    C+G   ...perience\\NVIDIA Share.exe    N/A      |\n",
      "|    0   N/A  N/A      9292    C+G   ...8bbwe\\Microsoft.Notes.exe    N/A      |\n",
      "|    0   N/A  N/A     13656    C+G   ...wAgent\\ArmourySwAgent.exe    N/A      |\n",
      "|    0   N/A  N/A     16308    C+G   ...2txyewy\\TextInputHost.exe    N/A      |\n",
      "|    0   N/A  N/A     17172    C+G   ...\\app-1.0.9004\\Discord.exe    N/A      |\n",
      "|    0   N/A  N/A     17216    C+G   ...8wekyb3d8bbwe\\GameBar.exe    N/A      |\n",
      "|    0   N/A  N/A     20024      C   ...vs\\story_cloze\\python.exe    N/A      |\n",
      "|    0   N/A  N/A     20900    C+G   ...in7x64\\steamwebhelper.exe    N/A      |\n",
      "|    0   N/A  N/A     22836    C+G   ...er_engine\\wallpaper32.exe    N/A      |\n",
      "|    0   N/A  N/A     25156    C+G   ...p-3.0.1\\GitHubDesktop.exe    N/A      |\n",
      "|    0   N/A  N/A     25772    C+G                                   N/A      |\n",
      "|    0   N/A  N/A     26752    C+G   C:\\Windows\\explorer.exe         N/A      |\n",
      "|    0   N/A  N/A     27196    C+G   ...me\\Application\\chrome.exe    N/A      |\n",
      "|    0   N/A  N/A     28552    C+G   ...tracted\\WechatBrowser.exe    N/A      |\n",
      "|    0   N/A  N/A     30244    C+G   ...bbwe\\Microsoft.Photos.exe    N/A      |\n",
      "|    0   N/A  N/A     30428    C+G   ...5n1h2txyewy\\SearchApp.exe    N/A      |\n",
      "|    0   N/A  N/A     31312    C+G   ...y\\ShellExperienceHost.exe    N/A      |\n",
      "|    0   N/A  N/A     32220    C+G   ...n64\\EpicGamesLauncher.exe    N/A      |\n",
      "|    0   N/A  N/A     35748    C+G   ...perience\\NVIDIA Share.exe    N/A      |\n",
      "+-----------------------------------------------------------------------------+\n"
     ]
    }
   ],
   "source": [
    "!nvidia-smi"
   ]
  },
  {
   "cell_type": "code",
   "execution_count": 81,
   "id": "2fe74f7d",
   "metadata": {},
   "outputs": [
    {
     "name": "stdout",
     "output_type": "stream",
     "text": [
      "Using device: cuda\n",
      "\n",
      "NVIDIA GeForce RTX 3090\n",
      "Memory Usage:\n",
      "Allocated: 0.5 GB\n",
      "Cached:    7.6 GB\n"
     ]
    }
   ],
   "source": [
    "device = torch.device('cuda' if torch.cuda.is_available() else 'cpu')\n",
    "print('Using device:', device)\n",
    "print()\n",
    "\n",
    "#Additional Info when using cuda\n",
    "if device.type == 'cuda':\n",
    "    print(torch.cuda.get_device_name(0))\n",
    "    print('Memory Usage:')\n",
    "    print('Allocated:', round(torch.cuda.memory_allocated(0)/1024**3,1), 'GB')\n",
    "    print('Cached:   ', round(torch.cuda.memory_reserved(0)/1024**3,1), 'GB')"
   ]
  },
  {
   "cell_type": "code",
   "execution_count": 82,
   "id": "2a5e3430-bbd6-484d-8a8d-9cbcdba37d6e",
   "metadata": {},
   "outputs": [
    {
     "data": {
      "text/html": [
       "\n",
       "    <div>\n",
       "      \n",
       "      <progress value='42960' max='42960' style='width:300px; height:20px; vertical-align: middle;'></progress>\n",
       "      [42960/42960 53:59, Epoch 16/16]\n",
       "    </div>\n",
       "    <table border=\"1\" class=\"dataframe\">\n",
       "  <thead>\n",
       "    <tr style=\"text-align: left;\">\n",
       "      <th>Epoch</th>\n",
       "      <th>Training Loss</th>\n",
       "      <th>Validation Loss</th>\n",
       "      <th>Accuracy</th>\n",
       "    </tr>\n",
       "  </thead>\n",
       "  <tbody>\n",
       "    <tr>\n",
       "      <td>1</td>\n",
       "      <td>0.678000</td>\n",
       "      <td>0.591944</td>\n",
       "      <td>0.716912</td>\n",
       "    </tr>\n",
       "    <tr>\n",
       "      <td>2</td>\n",
       "      <td>0.549700</td>\n",
       "      <td>0.479495</td>\n",
       "      <td>0.779905</td>\n",
       "    </tr>\n",
       "    <tr>\n",
       "      <td>3</td>\n",
       "      <td>0.482700</td>\n",
       "      <td>0.457887</td>\n",
       "      <td>0.789698</td>\n",
       "    </tr>\n",
       "    <tr>\n",
       "      <td>4</td>\n",
       "      <td>0.471500</td>\n",
       "      <td>0.438942</td>\n",
       "      <td>0.795995</td>\n",
       "    </tr>\n",
       "    <tr>\n",
       "      <td>5</td>\n",
       "      <td>0.460800</td>\n",
       "      <td>0.432413</td>\n",
       "      <td>0.799722</td>\n",
       "    </tr>\n",
       "    <tr>\n",
       "      <td>6</td>\n",
       "      <td>0.434800</td>\n",
       "      <td>0.434317</td>\n",
       "      <td>0.801181</td>\n",
       "    </tr>\n",
       "    <tr>\n",
       "      <td>7</td>\n",
       "      <td>0.444400</td>\n",
       "      <td>0.429941</td>\n",
       "      <td>0.804213</td>\n",
       "    </tr>\n",
       "    <tr>\n",
       "      <td>8</td>\n",
       "      <td>0.433400</td>\n",
       "      <td>0.425862</td>\n",
       "      <td>0.805510</td>\n",
       "    </tr>\n",
       "    <tr>\n",
       "      <td>9</td>\n",
       "      <td>0.417800</td>\n",
       "      <td>0.425906</td>\n",
       "      <td>0.806945</td>\n",
       "    </tr>\n",
       "    <tr>\n",
       "      <td>10</td>\n",
       "      <td>0.420700</td>\n",
       "      <td>0.425732</td>\n",
       "      <td>0.808265</td>\n",
       "    </tr>\n",
       "    <tr>\n",
       "      <td>11</td>\n",
       "      <td>0.412100</td>\n",
       "      <td>0.424108</td>\n",
       "      <td>0.808219</td>\n",
       "    </tr>\n",
       "    <tr>\n",
       "      <td>12</td>\n",
       "      <td>0.410800</td>\n",
       "      <td>0.425482</td>\n",
       "      <td>0.809168</td>\n",
       "    </tr>\n",
       "    <tr>\n",
       "      <td>13</td>\n",
       "      <td>0.410100</td>\n",
       "      <td>0.422600</td>\n",
       "      <td>0.809307</td>\n",
       "    </tr>\n",
       "    <tr>\n",
       "      <td>14</td>\n",
       "      <td>0.408000</td>\n",
       "      <td>0.421005</td>\n",
       "      <td>0.809561</td>\n",
       "    </tr>\n",
       "    <tr>\n",
       "      <td>15</td>\n",
       "      <td>0.402000</td>\n",
       "      <td>0.422161</td>\n",
       "      <td>0.809747</td>\n",
       "    </tr>\n",
       "    <tr>\n",
       "      <td>16</td>\n",
       "      <td>0.410000</td>\n",
       "      <td>0.422460</td>\n",
       "      <td>0.810117</td>\n",
       "    </tr>\n",
       "  </tbody>\n",
       "</table><p>"
      ],
      "text/plain": [
       "<IPython.core.display.HTML object>"
      ]
     },
     "metadata": {},
     "output_type": "display_data"
    },
    {
     "data": {
      "text/plain": [
       "TrainOutput(global_step=42960, training_loss=0.45674537289298, metrics={'train_runtime': 3240.1255, 'train_samples_per_second': 13.259, 'total_flos': 312197353314264.0, 'epoch': 16.0})"
      ]
     },
     "execution_count": 82,
     "metadata": {},
     "output_type": "execute_result"
    }
   ],
   "source": [
    "trainer.train()"
   ]
  },
  {
   "cell_type": "markdown",
   "id": "32a17948-a8f7-4450-b2b0-8a7016e91391",
   "metadata": {},
   "source": [
    "出现validation loss 上升情况大多是训练集验证集数据分布不一致，或者训练集过小，未包含验证集中所有情况，\n",
    "也就是过拟合导致的。而解决这种现象可以尝试以下几种策略：\n",
    "1. 增加训练样本增加正则项系数权重，\n",
    "2. 减小过拟合加入早停机制，ValLoss上升几个epoch直接停止\n",
    "3. 采用Focal Loss\n",
    "4. 加入Label Smoothing"
   ]
  },
  {
   "cell_type": "markdown",
   "id": "b73d6ab3-33ac-4e8e-99ee-3c3f17d71642",
   "metadata": {},
   "source": [
    "# Store Value"
   ]
  },
  {
   "cell_type": "code",
   "execution_count": 56,
   "id": "c30271fe-7ce9-43e8-9e87-de8d6ae2c2c0",
   "metadata": {},
   "outputs": [
    {
     "data": {
      "text/plain": [
       "<matplotlib.collections.QuadMesh at 0x146c6775f40>"
      ]
     },
     "execution_count": 56,
     "metadata": {},
     "output_type": "execute_result"
    },
    {
     "data": {
      "image/png": "[encoded data removed]",
      "text/plain": [
       "<Figure size 432x288 with 1 Axes>"
      ]
     },
     "metadata": {
      "needs_background": "light"
     },
     "output_type": "display_data"
    }
   ],
   "source": [
    "import matplotlib.pyplot as plt\n",
    "import numpy as np\n",
    "import matplotlib\n",
    "\n",
    "Z = np.transpose(valStored)\n",
    "\n",
    "fig, ax = plt.subplots()\n",
    "ax.pcolormesh(Z)"
   ]
  },
  {
   "cell_type": "code",
   "execution_count": 57,
   "id": "5e77d30e-e51a-45a6-9130-83a17c4d2219",
   "metadata": {},
   "outputs": [],
   "source": [
    "import pandas as pd\n",
    "\n",
    "dataLog = pd.DataFrame(trainer.state.log_history)\n",
    "dataLog.to_csv(f'./trainingMetric/emotion/2-1/trainingInfo-{model_checkpoint}-{fileTag}.csv')"
   ]
  },
  {
   "cell_type": "code",
   "execution_count": 58,
   "id": "c90cfec4-96ec-46c8-a99f-3c78b989b862",
   "metadata": {},
   "outputs": [],
   "source": [
    "evaluationIterationResult = pd.DataFrame(np.transpose(valStored))\n",
    "evaluationIterationResult.to_csv(f'./trainingMetric/emotion/2-1/evaluationSpecificInfo-{model_checkpoint}-{fileTag}.csv')"
   ]
  },
  {
   "cell_type": "code",
   "execution_count": null,
   "id": "6fd7f330-1477-4119-a9dc-1ebb7acb7665",
   "metadata": {},
   "outputs": [],
   "source": []
  }
 ],
 "metadata": {
  "kernelspec": {
   "display_name": "pytorchEnvWithDataSci",
   "language": "python",
   "name": "pytorchenvwithdatasci"
  },
  "language_info": {
   "codemirror_mode": {
    "name": "ipython",
    "version": 3
   },
   "file_extension": ".py",
   "mimetype": "text/x-python",
   "name": "python",
   "nbconvert_exporter": "python",
   "pygments_lexer": "ipython3",
   "version": "3.8.13"
  }
 },
 "nbformat": 4,
 "nbformat_minor": 5
}
