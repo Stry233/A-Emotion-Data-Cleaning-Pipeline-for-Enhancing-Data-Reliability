{
 "cells": [
  {
   "cell_type": "code",
   "execution_count": null,
   "id": "34c5c099-e29c-4326-b4c1-1fb819e30db2",
   "metadata": {},
   "outputs": [],
   "source": [
    "# generate named entity for next sentence with story cloze test"
   ]
  },
  {
   "cell_type": "code",
   "execution_count": 1,
   "id": "1ff89c45-84d5-4e16-88e1-d259a5602949",
   "metadata": {},
   "outputs": [
    {
     "name": "stdout",
     "output_type": "stream",
     "text": [
      "Requirement already satisfied: SceneGraphParser in c:\\python\\miniconda3\\envs\\pytorchenvwithdatasci\\lib\\site-packages (0.1.0)\n",
      "Requirement already satisfied: tabulate>=0.8.9 in c:\\python\\miniconda3\\envs\\pytorchenvwithdatasci\\lib\\site-packages (from SceneGraphParser) (0.8.10)\n",
      "Requirement already satisfied: spacy>=3.2.0 in c:\\python\\miniconda3\\envs\\pytorchenvwithdatasci\\lib\\site-packages (from SceneGraphParser) (3.4.0)\n",
      "Requirement already satisfied: cymem<2.1.0,>=2.0.2 in c:\\python\\miniconda3\\envs\\pytorchenvwithdatasci\\lib\\site-packages (from spacy>=3.2.0->SceneGraphParser) (2.0.6)\n",
      "Requirement already satisfied: jinja2 in c:\\python\\miniconda3\\envs\\pytorchenvwithdatasci\\lib\\site-packages (from spacy>=3.2.0->SceneGraphParser) (3.1.2)\n",
      "Requirement already satisfied: typer<0.5.0,>=0.3.0 in c:\\python\\miniconda3\\envs\\pytorchenvwithdatasci\\lib\\site-packages (from spacy>=3.2.0->SceneGraphParser) (0.4.2)\n",
      "Requirement already satisfied: langcodes<4.0.0,>=3.2.0 in c:\\python\\miniconda3\\envs\\pytorchenvwithdatasci\\lib\\site-packages (from spacy>=3.2.0->SceneGraphParser) (3.3.0)\n",
      "Requirement already satisfied: murmurhash<1.1.0,>=0.28.0 in c:\\python\\miniconda3\\envs\\pytorchenvwithdatasci\\lib\\site-packages (from spacy>=3.2.0->SceneGraphParser) (1.0.7)\n",
      "Requirement already satisfied: spacy-loggers<2.0.0,>=1.0.0 in c:\\python\\miniconda3\\envs\\pytorchenvwithdatasci\\lib\\site-packages (from spacy>=3.2.0->SceneGraphParser) (1.0.3)\n",
      "Requirement already satisfied: pathy>=0.3.5 in c:\\python\\miniconda3\\envs\\pytorchenvwithdatasci\\lib\\site-packages (from spacy>=3.2.0->SceneGraphParser) (0.6.2)\n",
      "Requirement already satisfied: catalogue<2.1.0,>=2.0.6 in c:\\python\\miniconda3\\envs\\pytorchenvwithdatasci\\lib\\site-packages (from spacy>=3.2.0->SceneGraphParser) (2.0.7)\n",
      "Requirement already satisfied: wasabi<1.1.0,>=0.9.1 in c:\\python\\miniconda3\\envs\\pytorchenvwithdatasci\\lib\\site-packages (from spacy>=3.2.0->SceneGraphParser) (0.9.1)\n",
      "Requirement already satisfied: setuptools in c:\\python\\miniconda3\\envs\\pytorchenvwithdatasci\\lib\\site-packages (from spacy>=3.2.0->SceneGraphParser) (61.2.0)\n",
      "Requirement already satisfied: tqdm<5.0.0,>=4.38.0 in c:\\python\\miniconda3\\envs\\pytorchenvwithdatasci\\lib\\site-packages (from spacy>=3.2.0->SceneGraphParser) (4.64.0)\n",
      "Requirement already satisfied: packaging>=20.0 in c:\\python\\miniconda3\\envs\\pytorchenvwithdatasci\\lib\\site-packages (from spacy>=3.2.0->SceneGraphParser) (21.3)\n",
      "Requirement already satisfied: thinc<8.2.0,>=8.1.0 in c:\\python\\miniconda3\\envs\\pytorchenvwithdatasci\\lib\\site-packages (from spacy>=3.2.0->SceneGraphParser) (8.1.0)\n",
      "Requirement already satisfied: pydantic!=1.8,!=1.8.1,<1.10.0,>=1.7.4 in c:\\python\\miniconda3\\envs\\pytorchenvwithdatasci\\lib\\site-packages (from spacy>=3.2.0->SceneGraphParser) (1.9.1)\n",
      "Requirement already satisfied: requests<3.0.0,>=2.13.0 in c:\\python\\miniconda3\\envs\\pytorchenvwithdatasci\\lib\\site-packages (from spacy>=3.2.0->SceneGraphParser) (2.28.1)\n",
      "Requirement already satisfied: numpy>=1.15.0 in c:\\python\\miniconda3\\envs\\pytorchenvwithdatasci\\lib\\site-packages (from spacy>=3.2.0->SceneGraphParser) (1.22.3)\n",
      "Requirement already satisfied: spacy-legacy<3.1.0,>=3.0.9 in c:\\python\\miniconda3\\envs\\pytorchenvwithdatasci\\lib\\site-packages (from spacy>=3.2.0->SceneGraphParser) (3.0.9)\n",
      "Requirement already satisfied: preshed<3.1.0,>=3.0.2 in c:\\python\\miniconda3\\envs\\pytorchenvwithdatasci\\lib\\site-packages (from spacy>=3.2.0->SceneGraphParser) (3.0.6)\n",
      "Requirement already satisfied: srsly<3.0.0,>=2.4.3 in c:\\python\\miniconda3\\envs\\pytorchenvwithdatasci\\lib\\site-packages (from spacy>=3.2.0->SceneGraphParser) (2.4.4)\n",
      "Requirement already satisfied: pyparsing!=3.0.5,>=2.0.2 in c:\\python\\miniconda3\\envs\\pytorchenvwithdatasci\\lib\\site-packages (from packaging>=20.0->spacy>=3.2.0->SceneGraphParser) (3.0.4)\n",
      "Requirement already satisfied: smart-open<6.0.0,>=5.2.1 in c:\\python\\miniconda3\\envs\\pytorchenvwithdatasci\\lib\\site-packages (from pathy>=0.3.5->spacy>=3.2.0->SceneGraphParser) (5.2.1)\n",
      "Requirement already satisfied: typing-extensions>=3.7.4.3 in c:\\python\\miniconda3\\envs\\pytorchenvwithdatasci\\lib\\site-packages (from pydantic!=1.8,!=1.8.1,<1.10.0,>=1.7.4->spacy>=3.2.0->SceneGraphParser) (4.3.0)\n",
      "Requirement already satisfied: certifi>=2017.4.17 in c:\\python\\miniconda3\\envs\\pytorchenvwithdatasci\\lib\\site-packages (from requests<3.0.0,>=2.13.0->spacy>=3.2.0->SceneGraphParser) (2022.6.15)\n",
      "Requirement already satisfied: charset-normalizer<3,>=2 in c:\\python\\miniconda3\\envs\\pytorchenvwithdatasci\\lib\\site-packages (from requests<3.0.0,>=2.13.0->spacy>=3.2.0->SceneGraphParser) (2.1.0)\n",
      "Requirement already satisfied: urllib3<1.27,>=1.21.1 in c:\\python\\miniconda3\\envs\\pytorchenvwithdatasci\\lib\\site-packages (from requests<3.0.0,>=2.13.0->spacy>=3.2.0->SceneGraphParser) (1.26.10)\n",
      "Requirement already satisfied: idna<4,>=2.5 in c:\\python\\miniconda3\\envs\\pytorchenvwithdatasci\\lib\\site-packages (from requests<3.0.0,>=2.13.0->spacy>=3.2.0->SceneGraphParser) (3.3)\n",
      "Requirement already satisfied: blis<0.8.0,>=0.7.8 in c:\\python\\miniconda3\\envs\\pytorchenvwithdatasci\\lib\\site-packages (from thinc<8.2.0,>=8.1.0->spacy>=3.2.0->SceneGraphParser) (0.7.8)\n",
      "Requirement already satisfied: colorama in c:\\python\\miniconda3\\envs\\pytorchenvwithdatasci\\lib\\site-packages (from tqdm<5.0.0,>=4.38.0->spacy>=3.2.0->SceneGraphParser) (0.4.4)\n",
      "Requirement already satisfied: click<9.0.0,>=7.1.1 in c:\\python\\miniconda3\\envs\\pytorchenvwithdatasci\\lib\\site-packages (from typer<0.5.0,>=0.3.0->spacy>=3.2.0->SceneGraphParser) (8.1.3)\n",
      "Requirement already satisfied: MarkupSafe>=2.0 in c:\\python\\miniconda3\\envs\\pytorchenvwithdatasci\\lib\\site-packages (from jinja2->spacy>=3.2.0->SceneGraphParser) (2.1.1)\n",
      "Collecting en-core-web-sm==3.4.0\n",
      "  Downloading https://github.com/explosion/spacy-models/releases/download/en_core_web_sm-3.4.0/en_core_web_sm-3.4.0-py3-none-any.whl (12.8 MB)\n",
      "     ---------------------------------------- 12.8/12.8 MB 7.0 MB/s eta 0:00:00\n",
      "Requirement already satisfied: spacy<3.5.0,>=3.4.0 in c:\\python\\miniconda3\\envs\\pytorchenvwithdatasci\\lib\\site-packages (from en-core-web-sm==3.4.0) (3.4.0)\n",
      "Requirement already satisfied: pydantic!=1.8,!=1.8.1,<1.10.0,>=1.7.4 in c:\\python\\miniconda3\\envs\\pytorchenvwithdatasci\\lib\\site-packages (from spacy<3.5.0,>=3.4.0->en-core-web-sm==3.4.0) (1.9.1)\n",
      "Requirement already satisfied: srsly<3.0.0,>=2.4.3 in c:\\python\\miniconda3\\envs\\pytorchenvwithdatasci\\lib\\site-packages (from spacy<3.5.0,>=3.4.0->en-core-web-sm==3.4.0) (2.4.4)\n",
      "Requirement already satisfied: catalogue<2.1.0,>=2.0.6 in c:\\python\\miniconda3\\envs\\pytorchenvwithdatasci\\lib\\site-packages (from spacy<3.5.0,>=3.4.0->en-core-web-sm==3.4.0) (2.0.7)\n",
      "Requirement already satisfied: wasabi<1.1.0,>=0.9.1 in c:\\python\\miniconda3\\envs\\pytorchenvwithdatasci\\lib\\site-packages (from spacy<3.5.0,>=3.4.0->en-core-web-sm==3.4.0) (0.9.1)\n",
      "Requirement already satisfied: langcodes<4.0.0,>=3.2.0 in c:\\python\\miniconda3\\envs\\pytorchenvwithdatasci\\lib\\site-packages (from spacy<3.5.0,>=3.4.0->en-core-web-sm==3.4.0) (3.3.0)\n",
      "Requirement already satisfied: spacy-loggers<2.0.0,>=1.0.0 in c:\\python\\miniconda3\\envs\\pytorchenvwithdatasci\\lib\\site-packages (from spacy<3.5.0,>=3.4.0->en-core-web-sm==3.4.0) (1.0.3)\n",
      "Requirement already satisfied: setuptools in c:\\python\\miniconda3\\envs\\pytorchenvwithdatasci\\lib\\site-packages (from spacy<3.5.0,>=3.4.0->en-core-web-sm==3.4.0) (61.2.0)\n",
      "Requirement already satisfied: preshed<3.1.0,>=3.0.2 in c:\\python\\miniconda3\\envs\\pytorchenvwithdatasci\\lib\\site-packages (from spacy<3.5.0,>=3.4.0->en-core-web-sm==3.4.0) (3.0.6)\n",
      "Requirement already satisfied: jinja2 in c:\\python\\miniconda3\\envs\\pytorchenvwithdatasci\\lib\\site-packages (from spacy<3.5.0,>=3.4.0->en-core-web-sm==3.4.0) (3.1.2)\n",
      "Requirement already satisfied: typer<0.5.0,>=0.3.0 in c:\\python\\miniconda3\\envs\\pytorchenvwithdatasci\\lib\\site-packages (from spacy<3.5.0,>=3.4.0->en-core-web-sm==3.4.0) (0.4.2)\n",
      "Requirement already satisfied: tqdm<5.0.0,>=4.38.0 in c:\\python\\miniconda3\\envs\\pytorchenvwithdatasci\\lib\\site-packages (from spacy<3.5.0,>=3.4.0->en-core-web-sm==3.4.0) (4.64.0)\n",
      "Requirement already satisfied: spacy-legacy<3.1.0,>=3.0.9 in c:\\python\\miniconda3\\envs\\pytorchenvwithdatasci\\lib\\site-packages (from spacy<3.5.0,>=3.4.0->en-core-web-sm==3.4.0) (3.0.9)\n",
      "Requirement already satisfied: thinc<8.2.0,>=8.1.0 in c:\\python\\miniconda3\\envs\\pytorchenvwithdatasci\\lib\\site-packages (from spacy<3.5.0,>=3.4.0->en-core-web-sm==3.4.0) (8.1.0)\n",
      "Requirement already satisfied: numpy>=1.15.0 in c:\\python\\miniconda3\\envs\\pytorchenvwithdatasci\\lib\\site-packages (from spacy<3.5.0,>=3.4.0->en-core-web-sm==3.4.0) (1.22.3)\n",
      "Requirement already satisfied: packaging>=20.0 in c:\\python\\miniconda3\\envs\\pytorchenvwithdatasci\\lib\\site-packages (from spacy<3.5.0,>=3.4.0->en-core-web-sm==3.4.0) (21.3)\n",
      "Requirement already satisfied: murmurhash<1.1.0,>=0.28.0 in c:\\python\\miniconda3\\envs\\pytorchenvwithdatasci\\lib\\site-packages (from spacy<3.5.0,>=3.4.0->en-core-web-sm==3.4.0) (1.0.7)\n",
      "Requirement already satisfied: cymem<2.1.0,>=2.0.2 in c:\\python\\miniconda3\\envs\\pytorchenvwithdatasci\\lib\\site-packages (from spacy<3.5.0,>=3.4.0->en-core-web-sm==3.4.0) (2.0.6)\n",
      "Requirement already satisfied: pathy>=0.3.5 in c:\\python\\miniconda3\\envs\\pytorchenvwithdatasci\\lib\\site-packages (from spacy<3.5.0,>=3.4.0->en-core-web-sm==3.4.0) (0.6.2)\n",
      "Requirement already satisfied: requests<3.0.0,>=2.13.0 in c:\\python\\miniconda3\\envs\\pytorchenvwithdatasci\\lib\\site-packages (from spacy<3.5.0,>=3.4.0->en-core-web-sm==3.4.0) (2.28.1)\n",
      "Requirement already satisfied: pyparsing!=3.0.5,>=2.0.2 in c:\\python\\miniconda3\\envs\\pytorchenvwithdatasci\\lib\\site-packages (from packaging>=20.0->spacy<3.5.0,>=3.4.0->en-core-web-sm==3.4.0) (3.0.4)\n",
      "Requirement already satisfied: smart-open<6.0.0,>=5.2.1 in c:\\python\\miniconda3\\envs\\pytorchenvwithdatasci\\lib\\site-packages (from pathy>=0.3.5->spacy<3.5.0,>=3.4.0->en-core-web-sm==3.4.0) (5.2.1)\n",
      "Requirement already satisfied: typing-extensions>=3.7.4.3 in c:\\python\\miniconda3\\envs\\pytorchenvwithdatasci\\lib\\site-packages (from pydantic!=1.8,!=1.8.1,<1.10.0,>=1.7.4->spacy<3.5.0,>=3.4.0->en-core-web-sm==3.4.0) (4.3.0)\n",
      "Requirement already satisfied: urllib3<1.27,>=1.21.1 in c:\\python\\miniconda3\\envs\\pytorchenvwithdatasci\\lib\\site-packages (from requests<3.0.0,>=2.13.0->spacy<3.5.0,>=3.4.0->en-core-web-sm==3.4.0) (1.26.10)\n",
      "Requirement already satisfied: certifi>=2017.4.17 in c:\\python\\miniconda3\\envs\\pytorchenvwithdatasci\\lib\\site-packages (from requests<3.0.0,>=2.13.0->spacy<3.5.0,>=3.4.0->en-core-web-sm==3.4.0) (2022.6.15)\n",
      "Requirement already satisfied: idna<4,>=2.5 in c:\\python\\miniconda3\\envs\\pytorchenvwithdatasci\\lib\\site-packages (from requests<3.0.0,>=2.13.0->spacy<3.5.0,>=3.4.0->en-core-web-sm==3.4.0) (3.3)\n",
      "Requirement already satisfied: charset-normalizer<3,>=2 in c:\\python\\miniconda3\\envs\\pytorchenvwithdatasci\\lib\\site-packages (from requests<3.0.0,>=2.13.0->spacy<3.5.0,>=3.4.0->en-core-web-sm==3.4.0) (2.1.0)\n",
      "Requirement already satisfied: blis<0.8.0,>=0.7.8 in c:\\python\\miniconda3\\envs\\pytorchenvwithdatasci\\lib\\site-packages (from thinc<8.2.0,>=8.1.0->spacy<3.5.0,>=3.4.0->en-core-web-sm==3.4.0) (0.7.8)\n",
      "Requirement already satisfied: colorama in c:\\python\\miniconda3\\envs\\pytorchenvwithdatasci\\lib\\site-packages (from tqdm<5.0.0,>=4.38.0->spacy<3.5.0,>=3.4.0->en-core-web-sm==3.4.0) (0.4.4)\n",
      "Requirement already satisfied: click<9.0.0,>=7.1.1 in c:\\python\\miniconda3\\envs\\pytorchenvwithdatasci\\lib\\site-packages (from typer<0.5.0,>=0.3.0->spacy<3.5.0,>=3.4.0->en-core-web-sm==3.4.0) (8.1.3)\n",
      "Requirement already satisfied: MarkupSafe>=2.0 in c:\\python\\miniconda3\\envs\\pytorchenvwithdatasci\\lib\\site-packages (from jinja2->spacy<3.5.0,>=3.4.0->en-core-web-sm==3.4.0) (2.1.1)\n",
      "[!] As of spaCy v3.0, shortcuts like 'en' are deprecated. Please use the full\n",
      "pipeline package name 'en_core_web_sm' instead.\n",
      "[+] Download and installation successful\n",
      "You can now load the package via spacy.load('en_core_web_sm')\n",
      "Requirement already satisfied: spacy in c:\\python\\miniconda3\\envs\\pytorchenvwithdatasci\\lib\\site-packages (3.4.0)\n",
      "Requirement already satisfied: requests<3.0.0,>=2.13.0 in c:\\python\\miniconda3\\envs\\pytorchenvwithdatasci\\lib\\site-packages (from spacy) (2.28.1)\n",
      "Requirement already satisfied: tqdm<5.0.0,>=4.38.0 in c:\\python\\miniconda3\\envs\\pytorchenvwithdatasci\\lib\\site-packages (from spacy) (4.64.0)\n",
      "Requirement already satisfied: setuptools in c:\\python\\miniconda3\\envs\\pytorchenvwithdatasci\\lib\\site-packages (from spacy) (61.2.0)\n",
      "Requirement already satisfied: langcodes<4.0.0,>=3.2.0 in c:\\python\\miniconda3\\envs\\pytorchenvwithdatasci\\lib\\site-packages (from spacy) (3.3.0)\n",
      "Requirement already satisfied: packaging>=20.0 in c:\\python\\miniconda3\\envs\\pytorchenvwithdatasci\\lib\\site-packages (from spacy) (21.3)\n",
      "Requirement already satisfied: thinc<8.2.0,>=8.1.0 in c:\\python\\miniconda3\\envs\\pytorchenvwithdatasci\\lib\\site-packages (from spacy) (8.1.0)\n",
      "Requirement already satisfied: pydantic!=1.8,!=1.8.1,<1.10.0,>=1.7.4 in c:\\python\\miniconda3\\envs\\pytorchenvwithdatasci\\lib\\site-packages (from spacy) (1.9.1)\n",
      "Requirement already satisfied: spacy-loggers<2.0.0,>=1.0.0 in c:\\python\\miniconda3\\envs\\pytorchenvwithdatasci\\lib\\site-packages (from spacy) (1.0.3)\n",
      "Requirement already satisfied: spacy-legacy<3.1.0,>=3.0.9 in c:\\python\\miniconda3\\envs\\pytorchenvwithdatasci\\lib\\site-packages (from spacy) (3.0.9)\n",
      "Requirement already satisfied: preshed<3.1.0,>=3.0.2 in c:\\python\\miniconda3\\envs\\pytorchenvwithdatasci\\lib\\site-packages (from spacy) (3.0.6)\n",
      "Requirement already satisfied: numpy>=1.15.0 in c:\\python\\miniconda3\\envs\\pytorchenvwithdatasci\\lib\\site-packages (from spacy) (1.22.3)\n",
      "Requirement already satisfied: cymem<2.1.0,>=2.0.2 in c:\\python\\miniconda3\\envs\\pytorchenvwithdatasci\\lib\\site-packages (from spacy) (2.0.6)\n",
      "Requirement already satisfied: typer<0.5.0,>=0.3.0 in c:\\python\\miniconda3\\envs\\pytorchenvwithdatasci\\lib\\site-packages (from spacy) (0.4.2)\n",
      "Requirement already satisfied: srsly<3.0.0,>=2.4.3 in c:\\python\\miniconda3\\envs\\pytorchenvwithdatasci\\lib\\site-packages (from spacy) (2.4.4)\n",
      "Requirement already satisfied: catalogue<2.1.0,>=2.0.6 in c:\\python\\miniconda3\\envs\\pytorchenvwithdatasci\\lib\\site-packages (from spacy) (2.0.7)\n",
      "Requirement already satisfied: murmurhash<1.1.0,>=0.28.0 in c:\\python\\miniconda3\\envs\\pytorchenvwithdatasci\\lib\\site-packages (from spacy) (1.0.7)\n",
      "Requirement already satisfied: jinja2 in c:\\python\\miniconda3\\envs\\pytorchenvwithdatasci\\lib\\site-packages (from spacy) (3.1.2)\n",
      "Requirement already satisfied: wasabi<1.1.0,>=0.9.1 in c:\\python\\miniconda3\\envs\\pytorchenvwithdatasci\\lib\\site-packages (from spacy) (0.9.1)\n",
      "Requirement already satisfied: pathy>=0.3.5 in c:\\python\\miniconda3\\envs\\pytorchenvwithdatasci\\lib\\site-packages (from spacy) (0.6.2)\n",
      "Requirement already satisfied: pyparsing!=3.0.5,>=2.0.2 in c:\\python\\miniconda3\\envs\\pytorchenvwithdatasci\\lib\\site-packages (from packaging>=20.0->spacy) (3.0.4)\n",
      "Requirement already satisfied: smart-open<6.0.0,>=5.2.1 in c:\\python\\miniconda3\\envs\\pytorchenvwithdatasci\\lib\\site-packages (from pathy>=0.3.5->spacy) (5.2.1)\n",
      "Requirement already satisfied: typing-extensions>=3.7.4.3 in c:\\python\\miniconda3\\envs\\pytorchenvwithdatasci\\lib\\site-packages (from pydantic!=1.8,!=1.8.1,<1.10.0,>=1.7.4->spacy) (4.3.0)\n",
      "Requirement already satisfied: idna<4,>=2.5 in c:\\python\\miniconda3\\envs\\pytorchenvwithdatasci\\lib\\site-packages (from requests<3.0.0,>=2.13.0->spacy) (3.3)\n",
      "Requirement already satisfied: charset-normalizer<3,>=2 in c:\\python\\miniconda3\\envs\\pytorchenvwithdatasci\\lib\\site-packages (from requests<3.0.0,>=2.13.0->spacy) (2.1.0)\n",
      "Requirement already satisfied: urllib3<1.27,>=1.21.1 in c:\\python\\miniconda3\\envs\\pytorchenvwithdatasci\\lib\\site-packages (from requests<3.0.0,>=2.13.0->spacy) (1.26.10)\n",
      "Requirement already satisfied: certifi>=2017.4.17 in c:\\python\\miniconda3\\envs\\pytorchenvwithdatasci\\lib\\site-packages (from requests<3.0.0,>=2.13.0->spacy) (2022.6.15)\n",
      "Requirement already satisfied: blis<0.8.0,>=0.7.8 in c:\\python\\miniconda3\\envs\\pytorchenvwithdatasci\\lib\\site-packages (from thinc<8.2.0,>=8.1.0->spacy) (0.7.8)\n",
      "Requirement already satisfied: colorama in c:\\python\\miniconda3\\envs\\pytorchenvwithdatasci\\lib\\site-packages (from tqdm<5.0.0,>=4.38.0->spacy) (0.4.4)\n",
      "Requirement already satisfied: click<9.0.0,>=7.1.1 in c:\\python\\miniconda3\\envs\\pytorchenvwithdatasci\\lib\\site-packages (from typer<0.5.0,>=0.3.0->spacy) (8.1.3)\n",
      "Requirement already satisfied: MarkupSafe>=2.0 in c:\\python\\miniconda3\\envs\\pytorchenvwithdatasci\\lib\\site-packages (from jinja2->spacy) (2.1.1)\n"
     ]
    }
   ],
   "source": [
    "!pip install SceneGraphParser\n",
    "!python -m spacy download en  \n",
    "!pip install spacy"
   ]
  },
  {
   "cell_type": "code",
   "execution_count": 5,
   "id": "f507849a-4339-4ecb-a20f-f819293e4364",
   "metadata": {},
   "outputs": [
    {
     "data": {
      "text/plain": [
       "['./dataset\\\\cloze_test_test__spring2016 - cloze_test_ALL_test.csv',\n",
       " './dataset\\\\cloze_test_test__winter2018-cloze_test_ALL_test - 1.csv',\n",
       " './dataset\\\\cloze_test_val__spring2016 - cloze_test_ALL_val.csv',\n",
       " './dataset\\\\cloze_test_val__winter2018-cloze_test_ALL_val - 1 - 1.csv',\n",
       " './dataset\\\\ROCStories_winter2017 - ROCStories_winter2017.csv',\n",
       " './dataset\\\\ROCStories__spring2016 - ROCStories_spring2016.csv']"
      ]
     },
     "execution_count": 5,
     "metadata": {},
     "output_type": "execute_result"
    }
   ],
   "source": [
    "import sng_parser\n",
    "import glob\n",
    "import os\n",
    "import pandas as pd\n",
    "datasetList = glob.glob(os.path.join(\"./dataset\", '*.csv'))\n",
    "datasetList"
   ]
  },
  {
   "cell_type": "code",
   "execution_count": 6,
   "id": "1a303d8c-24ac-4869-88ea-e23ad9743e1b",
   "metadata": {},
   "outputs": [],
   "source": [
    "# TO-DO: GPT 2 generate keyword\n",
    "def genKeyword(demoSentenceInput):\n",
    "    graph = sng_parser.parse(demoSentenceInput)\n",
    "    # print(graph)\n",
    "    majorKeyword = [x['span'] for x in graph['entities']]\n",
    "    return \", \".join( key for key in majorKeyword)"
   ]
  },
  {
   "cell_type": "code",
   "execution_count": null,
   "id": "ab365113-7038-45b8-b918-29dec399ee38",
   "metadata": {},
   "outputs": [],
   "source": []
  }
 ],
 "metadata": {
  "kernelspec": {
   "display_name": "pytorchEnvWithDataSci",
   "language": "python",
   "name": "pytorchenvwithdatasci"
  },
  "language_info": {
   "codemirror_mode": {
    "name": "ipython",
    "version": 3
   },
   "file_extension": ".py",
   "mimetype": "text/x-python",
   "name": "python",
   "nbconvert_exporter": "python",
   "pygments_lexer": "ipython3",
   "version": "3.9.12"
  }
 },
 "nbformat": 4,
 "nbformat_minor": 5
}
